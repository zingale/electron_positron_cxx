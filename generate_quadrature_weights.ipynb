{
 "cells": [
  {
   "cell_type": "code",
   "execution_count": 1,
   "id": "541a6102-4221-4dc9-bd30-b9e77ce16ce8",
   "metadata": {},
   "outputs": [],
   "source": [
    "from sympy.integrals.quadrature import gauss_legendre, gauss_laguerre\n",
    "import sympy"
   ]
  },
  {
   "cell_type": "code",
   "execution_count": 2,
   "id": "312e10ba-74c1-4c60-89ac-7b1cfcc6b6cf",
   "metadata": {},
   "outputs": [],
   "source": [
    "npts = 400\n",
    "digits = 100\n",
    "x_leg, w_leg = gauss_legendre(npts, digits)"
   ]
  },
  {
   "cell_type": "code",
   "execution_count": 3,
   "id": "c8d10b07-6c53-408c-bff5-fe04e2e9cc7a",
   "metadata": {},
   "outputs": [],
   "source": [
    "x_lag, w_lag = gauss_laguerre(npts, digits)"
   ]
  },
  {
   "cell_type": "code",
   "execution_count": 4,
   "id": "9abe379a-5647-4476-ab24-0d6b044c776d",
   "metadata": {},
   "outputs": [],
   "source": [
    "w_lag_weighted = []\n",
    "for xs, ws in zip(x_lag, w_lag):\n",
    "    w_lag_weighted.append(ws * sympy.exp(xs))"
   ]
  },
  {
   "cell_type": "code",
   "execution_count": 5,
   "id": "2d5aed9a-a58e-4105-80d9-000eee5be8d4",
   "metadata": {},
   "outputs": [],
   "source": [
    "header = \"\"\"\n",
    "#ifndef QUADRATURE_WEIGHTS_H\n",
    "#define QUADRATURE_WEIGHTS_H\n",
    "\n",
    "#include <array>\n",
    "\n",
    "#include \"real_type.H\"\n",
    "\n",
    "// Gauss-Legendre and Gauss-Laguerre quadrature nodes and weights for {} points\n",
    "// computed with SymPy.  For the Gauss-Legendre, we only keep the second half,\n",
    "// since they are symmetric.\n",
    "\n",
    "\"\"\""
   ]
  },
  {
   "cell_type": "code",
   "execution_count": 6,
   "id": "58b68adc-ad4f-4f38-9a4b-7fd2e5512239",
   "metadata": {},
   "outputs": [],
   "source": [
    "with open(f\"quadrature_weights_{npts}.H\", \"w\") as of:\n",
    "    of.write(header.format(npts))\n",
    "    \n",
    "    of.write(\"// Gauss-Legendre quadrature nodes and weights\\n\\n\")\n",
    "\n",
    "    of.write(f\"inline const std::array<real_t, {npts//2}> x_leg = {{\\n\")\n",
    "    for n, xs in enumerate(x_leg):\n",
    "        if n < len(x_leg)//2:\n",
    "            of.write(f\"{4*' '}// str_to_real_t(\\\"{xs}\\\"),\\n\")\n",
    "        elif n < len(x_leg)-1:\n",
    "            of.write(f\"{8*' '}str_to_real_t(\\\"{xs}\\\"),\\n\")\n",
    "        else:\n",
    "            of.write(f\"{8*' '}str_to_real_t(\\\"{xs}\\\")}};\\n\\n\\n\")\n",
    "            \n",
    "    of.write(f\"inline const std::array<real_t, {npts//2}> w_leg = {{\\n\")    \n",
    "    for n, ws in enumerate(w_leg):\n",
    "        if n < len(x_leg)//2:\n",
    "            of.write(f\"{4*' '}// str_to_real_t(\\\"{ws}\\\"),\\n\")\n",
    "        elif n < len(x_leg)-1:\n",
    "            of.write(f\"{8*' '}str_to_real_t(\\\"{ws}\\\"),\\n\")\n",
    "        else:\n",
    "            of.write(f\"{8*' '}str_to_real_t(\\\"{ws}\\\")}};\\n\\n\")\n",
    "\n",
    "    of.write(\"// Gauss-Laguerre quadrature nodes and weights.\\n\")\n",
    "    of.write(\"// Note: the weights include the exp(x) factor already.\\n\")\n",
    "    \n",
    "    of.write(f\"inline const std::array<real_t, {npts}> x_lag = {{\\n\")\n",
    "    for n, xs in enumerate(x_lag):\n",
    "        if n < len(x_leg)-1:\n",
    "            of.write(f\"{8*' '}str_to_real_t(\\\"{xs}\\\"),\\n\")\n",
    "        else:\n",
    "            of.write(f\"{8*' '}str_to_real_t(\\\"{xs}\\\")}};\\n\\n\")\n",
    "\n",
    "    of.write(f\"inline const std::array<real_t, {npts}> w_lag = {{\\n\")    \n",
    "    for n, ws in enumerate(w_lag_weighted):\n",
    "        if n < len(w_lag_weighted)-1:\n",
    "            of.write(f\"{8*' '}str_to_real_t(\\\"{ws}\\\"),\\n\")\n",
    "        else:\n",
    "            of.write(f\"{8*' '}str_to_real_t(\\\"{ws}\\\")}};\\n\\n\")\n",
    "    \n",
    "    of.write(\"#endif\\n\")"
   ]
  },
  {
   "cell_type": "code",
   "execution_count": null,
   "id": "5bc87149-114b-46b0-80b0-01287df0f267",
   "metadata": {},
   "outputs": [],
   "source": []
  }
 ],
 "metadata": {
  "kernelspec": {
   "display_name": "Python 3 (ipykernel)",
   "language": "python",
   "name": "python3"
  },
  "language_info": {
   "codemirror_mode": {
    "name": "ipython",
    "version": 3
   },
   "file_extension": ".py",
   "mimetype": "text/x-python",
   "name": "python",
   "nbconvert_exporter": "python",
   "pygments_lexer": "ipython3",
   "version": "3.13.5"
  }
 },
 "nbformat": 4,
 "nbformat_minor": 5
}
