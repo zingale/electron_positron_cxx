{
 "cells": [
  {
   "cell_type": "markdown",
   "id": "cfe2a0fd-af93-4c1b-a152-4ca07430a9d6",
   "metadata": {},
   "source": [
    "# Electron degeneracy derivatives"
   ]
  },
  {
   "cell_type": "markdown",
   "id": "dac14c2d-ddc2-4ba2-837c-32b9cb740730",
   "metadata": {},
   "source": [
    "Compute the various thermodynamic derivatives of the electron-positron number density, pressure, and energy.\n",
    "In general, each quantity is a function of various Fermi-Dirac integrals of the form:\n",
    "\n",
    "$$F_k(\\eta, \\beta) = \\int_0^\\infty\n",
    "           \\frac{x^k [1 + (x\\beta/2)]^{1/2}}{e^{x-\\eta} + 1} dx$$\n",
    "\n",
    "where $\\beta = kT / (m_e c^2)$ and $\\eta = (\\mu - m_e c^2)/(kT)$\n",
    "\n",
    "The expressions we use for $n_e$, $p_e$, $e_e$, and their positron equivalents come from Timmes & Arnett (1999), but note that their expression for $n_e$ is missing a $\\beta$ factor.\n",
    "\n",
    "In general, we compute the derivatives with respect to $\\rho$ and $T$ via the chain rule, which means that we need $d\\eta/d\\rho |_T$, $d\\eta/dT|_\\rho$, and $d\\beta/dT|_\\rho = k / (m_e c^2)$ (note that $d\\beta /d\\rho|_T = 0)$."
   ]
  },
  {
   "cell_type": "code",
   "execution_count": 1,
   "id": "22e692da-a969-4ece-bc3d-1dff7758163f",
   "metadata": {},
   "outputs": [],
   "source": [
    "from sympy import init_session"
   ]
  },
  {
   "cell_type": "code",
   "execution_count": 2,
   "id": "19c2aadc-1707-4e1c-a387-fc9c946e8eaf",
   "metadata": {},
   "outputs": [
    {
     "name": "stdout",
     "output_type": "stream",
     "text": [
      "IPython console for SymPy 1.13.1 (Python 3.13.5-64-bit) (ground types: gmpy)\n",
      "\n",
      "These commands were executed:\n",
      ">>> from sympy import *\n",
      ">>> x, y, z, t = symbols('x y z t')\n",
      ">>> k, m, n = symbols('k m n', integer=True)\n",
      ">>> f, g, h = symbols('f g h', cls=Function)\n",
      ">>> init_printing()\n",
      "\n",
      "Documentation can be found at https://docs.sympy.org/1.13.1/\n",
      "\n"
     ]
    }
   ],
   "source": [
    "init_session()"
   ]
  },
  {
   "cell_type": "markdown",
   "id": "dbfc464f-7772-43e4-9431-2cdee067ab19",
   "metadata": {},
   "source": [
    "## Setup the dependencies"
   ]
  },
  {
   "cell_type": "markdown",
   "id": "7a91e461-e4fb-4ee2-879b-1d24fec854b2",
   "metadata": {},
   "source": [
    "We'll have $\\rho$ and $T$ be the independent variables."
   ]
  },
  {
   "cell_type": "code",
   "execution_count": 5,
   "id": "ac553bd8-4610-4634-863a-88e6f35a582b",
   "metadata": {},
   "outputs": [],
   "source": [
    "# Independent variables\n",
    "rho, T = symbols('rho T')"
   ]
  },
  {
   "cell_type": "markdown",
   "id": "b34f920c-90bb-4385-abf0-bb953e95524e",
   "metadata": {},
   "source": [
    "We'll express $\\eta = \\eta(\\rho, T)$ and $\\beta = \\beta(T)$ (since $\\beta = kT / (m_e c^2)$).\n",
    "\n",
    "When simplifying, we'll express $\\beta = a T$ to evaluate the derivatives for us."
   ]
  },
  {
   "cell_type": "code",
   "execution_count": 6,
   "id": "0ef34254-273a-45bb-8648-f405f7c04dd7",
   "metadata": {},
   "outputs": [],
   "source": [
    "a = symbols(\"a\", real=-True, positive=True)"
   ]
  },
  {
   "cell_type": "code",
   "execution_count": 7,
   "id": "74ef71fb-defe-4c85-9fc2-14443bbceef9",
   "metadata": {},
   "outputs": [],
   "source": [
    "eta = Function('eta')(rho, T)\n",
    "beta = Function('beta')(T)"
   ]
  },
  {
   "cell_type": "code",
   "execution_count": 8,
   "id": "d6f5c426-1daf-4073-8e2c-2ad1d32cc24a",
   "metadata": {},
   "outputs": [],
   "source": [
    "# for positrons, we will use eta_tilde in the expressions\n",
    "eta_tilde_expr = -eta - 2 / beta"
   ]
  },
  {
   "cell_type": "markdown",
   "id": "7f2ae0dc-03d3-4098-9710-771b87786642",
   "metadata": {},
   "source": [
    "## Derivatives of $\\eta$ with respect to $\\rho$ and $T$"
   ]
  },
  {
   "cell_type": "markdown",
   "id": "2d227845-fc80-4cd3-88a1-43f060e82918",
   "metadata": {},
   "source": [
    "Now, we'll write the electron and positron densities as functions of the symbol $\\eta$ and $\\beta$"
   ]
  },
  {
   "cell_type": "code",
   "execution_count": 9,
   "id": "2f8da795-cd7a-40c4-86e4-56eda895799d",
   "metadata": {},
   "outputs": [],
   "source": [
    "# dummy variables for the arguments\n",
    "eta_sym, beta_sym = symbols('eta beta')\n",
    "n_e_func = Function('n_e')(eta_sym, beta_sym)\n",
    "n_p_func = Function('n_p')(eta_sym, beta_sym)\n",
    "\n",
    "# Now substitute eta(rho, T) and beta(T) into n_e and n_p\n",
    "n_e_expr = n_e_func.subs({eta_sym: eta, beta_sym: beta})\n",
    "n_p_expr = n_p_func.subs({eta_sym: eta, beta_sym: beta})"
   ]
  },
  {
   "cell_type": "markdown",
   "id": "5053e4c8-8754-4b24-b2c4-530f9f4e060b",
   "metadata": {},
   "source": [
    "Now we want to construct the expression\n",
    "\n",
    "$$n_e - n_p = N_A \\frac{Z}{A} \\rho$$\n",
    "\n",
    "we'll do this by defining the left and righthand sides separately."
   ]
  },
  {
   "cell_type": "code",
   "execution_count": 10,
   "id": "f393d2e7-cb71-4c0f-93cb-1b1e5f0d368f",
   "metadata": {},
   "outputs": [],
   "source": [
    "lhs_expr = n_e_expr - n_p_expr"
   ]
  },
  {
   "cell_type": "code",
   "execution_count": 11,
   "id": "e085e70c-9410-43e8-ad17-4d329be87a7e",
   "metadata": {},
   "outputs": [],
   "source": [
    "N_A, Z, A = symbols('N_A Z A', constant=True)\n",
    "rhs_expr = (N_A * Z / A) * rho"
   ]
  },
  {
   "cell_type": "markdown",
   "id": "1cd51f4d-7019-49fd-8aa2-1fdcbbb70ae2",
   "metadata": {},
   "source": [
    "### Compute $\\partial \\eta/\\partial T$"
   ]
  },
  {
   "cell_type": "code",
   "execution_count": 12,
   "id": "b28082ce-54db-4682-9a6f-5ee89244605e",
   "metadata": {},
   "outputs": [],
   "source": [
    "lhs_diff = diff(lhs_expr, T)\n",
    "rhs_diff = diff(rhs_expr, T)"
   ]
  },
  {
   "cell_type": "code",
   "execution_count": 13,
   "id": "8a3a7172-17bb-4881-b557-f21a18793093",
   "metadata": {},
   "outputs": [],
   "source": [
    "# Solve for ∂η/∂T\n",
    "deta_dT = symbols('deta_dT')\n",
    "lhs_diff_sub = lhs_diff.subs(diff(eta, T), deta_dT)\n",
    "deta_dT_expr = solve(lhs_diff_sub - rhs_diff, deta_dT)[0]"
   ]
  },
  {
   "cell_type": "code",
   "execution_count": 14,
   "id": "e61f3a9b-0bca-4a78-8ab2-fddae3fc0e8a",
   "metadata": {},
   "outputs": [
    {
     "data": {
      "image/png": "[encoded data removed]",
      "text/latex": [
       "$\\displaystyle \\frac{a \\left(- \\left. \\frac{\\partial}{\\partial \\xi} n_{e}{\\left(\\eta{\\left(\\rho,T \\right)},\\xi \\right)} \\right|_{\\substack{ \\xi=T a }} + \\left. \\frac{\\partial}{\\partial \\xi} n_{p}{\\left(\\eta{\\left(\\rho,T \\right)},\\xi \\right)} \\right|_{\\substack{ \\xi=T a }}\\right)}{\\frac{\\partial}{\\partial \\eta{\\left(\\rho,T \\right)}} n_{e}{\\left(\\eta{\\left(\\rho,T \\right)},T a \\right)} - \\frac{\\partial}{\\partial \\eta{\\left(\\rho,T \\right)}} n_{p}{\\left(\\eta{\\left(\\rho,T \\right)},T a \\right)}}$"
      ],
      "text/plain": [
       "  ⎛  ⎛∂                 ⎞│        ⎛∂                 ⎞│     ⎞\n",
       "a⋅⎜- ⎜──(nₑ(η(ρ, T), ξ))⎟│      + ⎜──(nₚ(η(ρ, T), ξ))⎟│     ⎟\n",
       "  ⎝  ⎝∂ξ                ⎠│ξ=T⋅a   ⎝∂ξ                ⎠│ξ=T⋅a⎠\n",
       "─────────────────────────────────────────────────────────────\n",
       "      ∂                            ∂                         \n",
       "   ────────(nₑ(η(ρ, T), T⋅a)) - ────────(nₚ(η(ρ, T), T⋅a))   \n",
       "   ∂η(ρ, T)                     ∂η(ρ, T)                     "
      ]
     },
     "execution_count": 14,
     "metadata": {},
     "output_type": "execute_result"
    }
   ],
   "source": [
    "simplify(deta_dT_expr.subs(beta, a * T))"
   ]
  },
  {
   "cell_type": "markdown",
   "id": "a4e3ace2-e0db-4fd5-b04f-8ed2a027b98e",
   "metadata": {},
   "source": [
    "### Compute $\\partial \\eta / \\partial \\rho$"
   ]
  },
  {
   "cell_type": "code",
   "execution_count": 15,
   "id": "12b93924-854e-4832-9715-30d4e5fd6fdb",
   "metadata": {},
   "outputs": [],
   "source": [
    "lhs_diff = diff(lhs_expr, rho)\n",
    "rhs_diff = diff(rhs_expr, rho)"
   ]
  },
  {
   "cell_type": "code",
   "execution_count": 16,
   "id": "964e3af4-9f92-4aec-bbd2-73093a379f8f",
   "metadata": {},
   "outputs": [],
   "source": [
    "# Solve for ∂η/∂ρ\n",
    "deta_drho = symbols('deta_drho')\n",
    "lhs_diff_sub = lhs_diff.subs(diff(eta, rho), deta_drho)\n",
    "deta_drho_expr = solve(lhs_diff_sub - rhs_diff, deta_drho)[0]"
   ]
  },
  {
   "cell_type": "code",
   "execution_count": 17,
   "id": "00349246-acff-4e73-9495-c02b29edde85",
   "metadata": {},
   "outputs": [
    {
     "data": {
      "image/png": "[encoded data removed]",
      "text/latex": [
       "$\\displaystyle \\frac{N_{A} Z}{A \\left(\\frac{\\partial}{\\partial \\eta{\\left(\\rho,T \\right)}} n_{e}{\\left(\\eta{\\left(\\rho,T \\right)},\\beta{\\left(T \\right)} \\right)} - \\frac{\\partial}{\\partial \\eta{\\left(\\rho,T \\right)}} n_{p}{\\left(\\eta{\\left(\\rho,T \\right)},\\beta{\\left(T \\right)} \\right)}\\right)}$"
      ],
      "text/plain": [
       "                            N_A⋅Z                            \n",
       "─────────────────────────────────────────────────────────────\n",
       "  ⎛   ∂                             ∂                       ⎞\n",
       "A⋅⎜────────(nₑ(η(ρ, T), β(T))) - ────────(nₚ(η(ρ, T), β(T)))⎟\n",
       "  ⎝∂η(ρ, T)                      ∂η(ρ, T)                   ⎠"
      ]
     },
     "execution_count": 17,
     "metadata": {},
     "output_type": "execute_result"
    }
   ],
   "source": [
    "deta_drho_expr"
   ]
  },
  {
   "cell_type": "markdown",
   "id": "5c0237d0-377d-4f6f-9605-57464fcaf903",
   "metadata": {},
   "source": [
    "### Compute $\\partial^2 \\eta/\\partial T^2$"
   ]
  },
  {
   "cell_type": "code",
   "execution_count": 18,
   "id": "6a155961-4b6f-4fe9-8039-d8b546b90dda",
   "metadata": {},
   "outputs": [],
   "source": [
    "lhs_diff = diff(lhs_expr, T, T)\n",
    "rhs_diff = diff(rhs_expr, T, T)"
   ]
  },
  {
   "cell_type": "code",
   "execution_count": 19,
   "id": "48963aa1-9eba-44a3-b013-404446645bb2",
   "metadata": {},
   "outputs": [],
   "source": [
    "# Solve for ∂²η/∂T²\n",
    "d2eta_dT2 = symbols('d2eta_dT2')\n",
    "lhs_diff_sub = lhs_diff.subs(diff(eta, T, T), d2eta_dT2)\n",
    "d2eta_dT2_expr = solve(lhs_diff_sub - rhs_diff, d2eta_dT2)[0]"
   ]
  },
  {
   "cell_type": "code",
   "execution_count": 20,
   "id": "b7c56214-6d02-460c-8406-ed14a399e560",
   "metadata": {},
   "outputs": [
    {
     "data": {
      "image/png": "[encoded data removed]",
      "text/latex": [
       "$\\displaystyle \\frac{- a^{2} \\left. \\frac{\\partial^{2}}{\\partial \\xi^{2}} n_{e}{\\left(\\eta{\\left(\\rho,T \\right)},\\xi \\right)} \\right|_{\\substack{ \\xi=T a }} + a^{2} \\left. \\frac{\\partial^{2}}{\\partial \\xi^{2}} n_{p}{\\left(\\eta{\\left(\\rho,T \\right)},\\xi \\right)} \\right|_{\\substack{ \\xi=T a }} - 2 a \\frac{\\partial}{\\partial T} \\eta{\\left(\\rho,T \\right)} \\left. \\frac{\\partial^{2}}{\\partial \\eta{\\left(\\rho,T \\right)}\\partial \\xi} n_{e}{\\left(\\eta{\\left(\\rho,T \\right)},\\xi \\right)} \\right|_{\\substack{ \\xi=T a }} + 2 a \\frac{\\partial}{\\partial T} \\eta{\\left(\\rho,T \\right)} \\left. \\frac{\\partial^{2}}{\\partial \\eta{\\left(\\rho,T \\right)}\\partial \\xi} n_{p}{\\left(\\eta{\\left(\\rho,T \\right)},\\xi \\right)} \\right|_{\\substack{ \\xi=T a }} - \\left(\\frac{\\partial}{\\partial T} \\eta{\\left(\\rho,T \\right)}\\right)^{2} \\frac{\\partial^{2}}{\\partial \\eta{\\left(\\rho,T \\right)}^{2}} n_{e}{\\left(\\eta{\\left(\\rho,T \\right)},T a \\right)} + \\left(\\frac{\\partial}{\\partial T} \\eta{\\left(\\rho,T \\right)}\\right)^{2} \\frac{\\partial^{2}}{\\partial \\eta{\\left(\\rho,T \\right)}^{2}} n_{p}{\\left(\\eta{\\left(\\rho,T \\right)},T a \\right)}}{\\frac{\\partial}{\\partial \\eta{\\left(\\rho,T \\right)}} n_{e}{\\left(\\eta{\\left(\\rho,T \\right)},T a \\right)} - \\frac{\\partial}{\\partial \\eta{\\left(\\rho,T \\right)}} n_{p}{\\left(\\eta{\\left(\\rho,T \\right)},T a \\right)}}$"
      ],
      "text/plain": [
       "     ⎛ 2                 ⎞│           ⎛ 2                 ⎞│                   ↪\n",
       "   2 ⎜∂                  ⎟│         2 ⎜∂                  ⎟│            ∂      ↪\n",
       "- a ⋅⎜───(nₑ(η(ρ, T), ξ))⎟│      + a ⋅⎜───(nₚ(η(ρ, T), ξ))⎟│      - 2⋅a⋅──(η(ρ ↪\n",
       "     ⎜  2                ⎟│           ⎜  2                ⎟│            ∂T     ↪\n",
       "     ⎝∂ξ                 ⎠│ξ=T⋅a      ⎝∂ξ                 ⎠│ξ=T⋅a              ↪\n",
       "────────────────────────────────────────────────────────────────────────────── ↪\n",
       "                                                                               ↪\n",
       "                                                                               ↪\n",
       "                                                                               ↪\n",
       "\n",
       "↪       ⎛     2                     ⎞│                        ⎛     2          ↪\n",
       "↪       ⎜    ∂                      ⎟│            ∂           ⎜    ∂           ↪\n",
       "↪ , T))⋅⎜───────────(nₑ(η(ρ, T), ξ))⎟│      + 2⋅a⋅──(η(ρ, T))⋅⎜───────────(nₚ( ↪\n",
       "↪       ⎝∂η(ρ, T) ∂ξ                ⎠│ξ=T⋅a       ∂T          ⎝∂η(ρ, T) ∂ξ     ↪\n",
       "↪                                                                              ↪\n",
       "↪ ──────────────────────────────────────────────────────────────────────────── ↪\n",
       "↪                              ∂                            ∂                  ↪\n",
       "↪                           ────────(nₑ(η(ρ, T), T⋅a)) - ────────(nₚ(η(ρ, T),  ↪\n",
       "↪                           ∂η(ρ, T)                     ∂η(ρ, T)              ↪\n",
       "\n",
       "↪             ⎞│                     2     2                                   ↪\n",
       "↪             ⎟│        ⎛∂          ⎞     ∂                          ⎛∂        ↪\n",
       "↪ η(ρ, T), ξ))⎟│      - ⎜──(η(ρ, T))⎟ ⋅─────────(nₑ(η(ρ, T), T⋅a)) + ⎜──(η(ρ,  ↪\n",
       "↪             ⎠│ξ=T⋅a   ⎝∂T         ⎠          2                     ⎝∂T       ↪\n",
       "↪                                      ∂η(ρ, T)                                ↪\n",
       "↪ ──────────────────────────────────────────────────────────────────────────── ↪\n",
       "↪                                                                              ↪\n",
       "↪ T⋅a))                                                                        ↪\n",
       "↪                                                                              ↪\n",
       "\n",
       "↪     2     2                      \n",
       "↪    ⎞     ∂                       \n",
       "↪ T))⎟ ⋅─────────(nₚ(η(ρ, T), T⋅a))\n",
       "↪    ⎠          2                  \n",
       "↪       ∂η(ρ, T)                   \n",
       "↪ ─────────────────────────────────\n",
       "↪                                  \n",
       "↪                                  \n",
       "↪                                  "
      ]
     },
     "execution_count": 20,
     "metadata": {},
     "output_type": "execute_result"
    }
   ],
   "source": [
    "simplify(d2eta_dT2_expr.subs(beta, a * T))"
   ]
  },
  {
   "cell_type": "markdown",
   "id": "cf697314-f93f-4dc4-a4eb-03d45f04c079",
   "metadata": {},
   "source": [
    "### Compute $\\partial^2 \\eta /\\partial \\rho \\partial T$"
   ]
  },
  {
   "cell_type": "code",
   "execution_count": 21,
   "id": "07883d71-33e6-4e29-80b3-534b2eaf2cd6",
   "metadata": {},
   "outputs": [],
   "source": [
    "lhs_diff = diff(lhs_expr, T, rho)\n",
    "rhs_diff = diff(rhs_expr, T, rho)"
   ]
  },
  {
   "cell_type": "code",
   "execution_count": 22,
   "id": "9265126d-ea1e-4e8f-90e8-a99d18368725",
   "metadata": {},
   "outputs": [],
   "source": [
    "# Solve for ∂²η/∂T∂ρ\n",
    "d2eta_dTdrho = symbols('d2eta_dTdrho')\n",
    "lhs_diff_sub = lhs_diff.subs(diff(eta, T, rho), d2eta_dTdrho)\n",
    "d2eta_dTdrho_expr = solve(lhs_diff_sub - rhs_diff, d2eta_dTdrho)[0]"
   ]
  },
  {
   "cell_type": "code",
   "execution_count": 23,
   "id": "cc2fe559-3e84-4374-a1b6-ab406565e816",
   "metadata": {},
   "outputs": [
    {
     "data": {
      "image/png": "[encoded data removed]",
      "text/latex": [
       "$\\displaystyle \\frac{\\left(- a \\left. \\frac{\\partial^{2}}{\\partial \\eta{\\left(\\rho,T \\right)}\\partial \\xi} n_{e}{\\left(\\eta{\\left(\\rho,T \\right)},\\xi \\right)} \\right|_{\\substack{ \\xi=T a }} + a \\left. \\frac{\\partial^{2}}{\\partial \\eta{\\left(\\rho,T \\right)}\\partial \\xi} n_{p}{\\left(\\eta{\\left(\\rho,T \\right)},\\xi \\right)} \\right|_{\\substack{ \\xi=T a }} - \\frac{\\partial}{\\partial T} \\eta{\\left(\\rho,T \\right)} \\frac{\\partial^{2}}{\\partial \\eta{\\left(\\rho,T \\right)}^{2}} n_{e}{\\left(\\eta{\\left(\\rho,T \\right)},T a \\right)} + \\frac{\\partial}{\\partial T} \\eta{\\left(\\rho,T \\right)} \\frac{\\partial^{2}}{\\partial \\eta{\\left(\\rho,T \\right)}^{2}} n_{p}{\\left(\\eta{\\left(\\rho,T \\right)},T a \\right)}\\right) \\frac{\\partial}{\\partial \\rho} \\eta{\\left(\\rho,T \\right)}}{\\frac{\\partial}{\\partial \\eta{\\left(\\rho,T \\right)}} n_{e}{\\left(\\eta{\\left(\\rho,T \\right)},T a \\right)} - \\frac{\\partial}{\\partial \\eta{\\left(\\rho,T \\right)}} n_{p}{\\left(\\eta{\\left(\\rho,T \\right)},T a \\right)}}$"
      ],
      "text/plain": [
       "⎛    ⎛     2                     ⎞│          ⎛     2                     ⎞│    ↪\n",
       "⎜    ⎜    ∂                      ⎟│          ⎜    ∂                      ⎟│    ↪\n",
       "⎜- a⋅⎜───────────(nₑ(η(ρ, T), ξ))⎟│      + a⋅⎜───────────(nₚ(η(ρ, T), ξ))⎟│    ↪\n",
       "⎜    ⎝∂η(ρ, T) ∂ξ                ⎠│ξ=T⋅a     ⎝∂η(ρ, T) ∂ξ                ⎠│ξ=T ↪\n",
       "⎝                                                                              ↪\n",
       "────────────────────────────────────────────────────────────────────────────── ↪\n",
       "                                                                ∂              ↪\n",
       "                                                             ────────(nₑ(η(ρ,  ↪\n",
       "                                                             ∂η(ρ, T)          ↪\n",
       "\n",
       "↪                      2                                         2             ↪\n",
       "↪      ∂              ∂                          ∂              ∂              ↪\n",
       "↪    - ──(η(ρ, T))⋅─────────(nₑ(η(ρ, T), T⋅a)) + ──(η(ρ, T))⋅─────────(nₚ(η(ρ, ↪\n",
       "↪ ⋅a   ∂T                  2                     ∂T                  2         ↪\n",
       "↪                  ∂η(ρ, T)                                  ∂η(ρ, T)          ↪\n",
       "↪ ──────────────────────────────────────────────────────────────────────────── ↪\n",
       "↪                ∂                                                             ↪\n",
       "↪ T), T⋅a)) - ────────(nₚ(η(ρ, T), T⋅a))                                       ↪\n",
       "↪             ∂η(ρ, T)                                                         ↪\n",
       "\n",
       "↪           ⎞            \n",
       "↪           ⎟ ∂          \n",
       "↪  T), T⋅a))⎟⋅──(η(ρ, T))\n",
       "↪           ⎟ ∂ρ         \n",
       "↪           ⎠            \n",
       "↪ ───────────────────────\n",
       "↪                        \n",
       "↪                        \n",
       "↪                        "
      ]
     },
     "execution_count": 23,
     "metadata": {},
     "output_type": "execute_result"
    }
   ],
   "source": [
    "simplify(d2eta_dTdrho_expr.subs(beta, a * T))"
   ]
  },
  {
   "cell_type": "markdown",
   "id": "1b3195cb-2932-4b27-a9b9-d975a86e32f6",
   "metadata": {},
   "source": [
    "### Compute $\\partial^2 \\eta /\\partial \\rho^2$"
   ]
  },
  {
   "cell_type": "code",
   "execution_count": 24,
   "id": "f68a3c65-8383-486b-815e-92bbb4c66408",
   "metadata": {},
   "outputs": [],
   "source": [
    "lhs_diff = diff(lhs_expr, rho, rho)\n",
    "rhs_diff = diff(rhs_expr, rho, rho)"
   ]
  },
  {
   "cell_type": "code",
   "execution_count": 25,
   "id": "bef33b8d-526d-40a8-84db-8a2e23573205",
   "metadata": {},
   "outputs": [],
   "source": [
    "# Solve for ∂²η/∂ρ²\n",
    "d2eta_drho2 = symbols('d2eta_drho2')\n",
    "lhs_diff_sub = lhs_diff.subs(diff(eta, rho, rho), d2eta_drho2)\n",
    "d2eta_drho2_expr = solve(lhs_diff_sub - rhs_diff, d2eta_drho2)[0]"
   ]
  },
  {
   "cell_type": "code",
   "execution_count": 26,
   "id": "e1067487-4767-4aa9-8b1e-1e151dee6583",
   "metadata": {},
   "outputs": [
    {
     "data": {
      "image/png": "[encoded data removed]",
      "text/latex": [
       "$\\displaystyle \\frac{\\left(- \\frac{\\partial^{2}}{\\partial \\eta{\\left(\\rho,T \\right)}^{2}} n_{e}{\\left(\\eta{\\left(\\rho,T \\right)},\\beta{\\left(T \\right)} \\right)} + \\frac{\\partial^{2}}{\\partial \\eta{\\left(\\rho,T \\right)}^{2}} n_{p}{\\left(\\eta{\\left(\\rho,T \\right)},\\beta{\\left(T \\right)} \\right)}\\right) \\left(\\frac{\\partial}{\\partial \\rho} \\eta{\\left(\\rho,T \\right)}\\right)^{2}}{\\frac{\\partial}{\\partial \\eta{\\left(\\rho,T \\right)}} n_{e}{\\left(\\eta{\\left(\\rho,T \\right)},\\beta{\\left(T \\right)} \\right)} - \\frac{\\partial}{\\partial \\eta{\\left(\\rho,T \\right)}} n_{p}{\\left(\\eta{\\left(\\rho,T \\right)},\\beta{\\left(T \\right)} \\right)}}$"
      ],
      "text/plain": [
       "⎛      2                              2                       ⎞              2\n",
       "⎜     ∂                              ∂                        ⎟ ⎛∂          ⎞ \n",
       "⎜- ─────────(nₑ(η(ρ, T), β(T))) + ─────────(nₚ(η(ρ, T), β(T)))⎟⋅⎜──(η(ρ, T))⎟ \n",
       "⎜          2                              2                   ⎟ ⎝∂ρ         ⎠ \n",
       "⎝  ∂η(ρ, T)                       ∂η(ρ, T)                    ⎠               \n",
       "──────────────────────────────────────────────────────────────────────────────\n",
       "             ∂                             ∂                                  \n",
       "          ────────(nₑ(η(ρ, T), β(T))) - ────────(nₚ(η(ρ, T), β(T)))           \n",
       "          ∂η(ρ, T)                      ∂η(ρ, T)                              "
      ]
     },
     "execution_count": 26,
     "metadata": {},
     "output_type": "execute_result"
    }
   ],
   "source": [
    "simplify(d2eta_drho2_expr)"
   ]
  },
  {
   "cell_type": "markdown",
   "id": "f19c41ea-00ee-49b2-9012-95af6741df4a",
   "metadata": {},
   "source": [
    "## Derivatives of the $n_e$ and $n_p$ with respect to $\\eta$ and $\\beta$"
   ]
  },
  {
   "cell_type": "markdown",
   "id": "15c79ab4-b82f-4bf9-a460-7e8342898095",
   "metadata": {},
   "source": [
    "To evaluate the above derivatives of $\\eta$ and $\\beta$ with respect to $\\rho$ and $T$, we need the derivatives of the number density with respect to $\\eta$ and $\\beta$."
   ]
  },
  {
   "cell_type": "markdown",
   "id": "7deb8db5-c011-4921-befd-2ff547f4b205",
   "metadata": {},
   "source": [
    "First let's define the Fermi functions we'll need (we'll include the 5/2 one we need later too)"
   ]
  },
  {
   "cell_type": "code",
   "execution_count": 28,
   "id": "cbfb7276-088b-4175-ae1f-a4ddfaf6cd4e",
   "metadata": {},
   "outputs": [],
   "source": [
    "F12_func = Function(\"F_{1/2}\")(eta_sym, beta_sym)\n",
    "F32_func = Function(\"F_{3/2}\")(eta_sym, beta_sym)\n",
    "F52_func = Function(\"F_{5/2}\")(eta_sym, beta_sym)\n",
    "\n",
    "F12_expr = F12_func.subs({eta_sym: eta, beta_sym: beta})\n",
    "F32_expr = F32_func.subs({eta_sym: eta, beta_sym: beta})\n",
    "F52_expr = F52_func.subs({eta_sym: eta, beta_sym: beta})"
   ]
  },
  {
   "cell_type": "markdown",
   "id": "2497fc61-0410-4c84-b484-25432f024c3b",
   "metadata": {},
   "source": [
    "For positrons, we evaluate these with $\\tilde{\\eta}$"
   ]
  },
  {
   "cell_type": "code",
   "execution_count": 29,
   "id": "45c39e82-a368-4e18-875a-ed4709f001af",
   "metadata": {},
   "outputs": [],
   "source": [
    "F12_tilde_expr = F12_func.subs({eta_sym: eta_tilde_expr, beta_sym: beta})\n",
    "F32_tilde_expr = F32_func.subs({eta_sym: eta_tilde_expr, beta_sym: beta})\n",
    "F52_tilde_expr = F52_func.subs({eta_sym: eta_tilde_expr, beta_sym: beta})"
   ]
  },
  {
   "cell_type": "markdown",
   "id": "3a934ebf-f56d-4b9b-8541-5f219b510fa4",
   "metadata": {},
   "source": [
    "### First $n_e$"
   ]
  },
  {
   "cell_type": "markdown",
   "id": "8d325d5d-ef63-4cf9-aa3f-e2b52e9a46e7",
   "metadata": {},
   "source": [
    "now write out what the number densities are"
   ]
  },
  {
   "cell_type": "code",
   "execution_count": 30,
   "id": "8deb4072-2e7f-422d-ba05-de9c7248632b",
   "metadata": {},
   "outputs": [],
   "source": [
    "C = symbols(\"C\", constant=True)"
   ]
  },
  {
   "cell_type": "code",
   "execution_count": 33,
   "id": "b935c8df-8015-497c-9dfa-93b56ce7dfa8",
   "metadata": {},
   "outputs": [
    {
     "data": {
      "image/png": "[encoded data removed]",
      "text/latex": [
       "$\\displaystyle C \\left(F_{1/2}{\\left(\\eta{\\left(\\rho,T \\right)},\\beta{\\left(T \\right)} \\right)} + F_{3/2}{\\left(\\eta{\\left(\\rho,T \\right)},\\beta{\\left(T \\right)} \\right)} \\beta{\\left(T \\right)}\\right) \\beta^{\\frac{3}{2}}{\\left(T \\right)}$"
      ],
      "text/plain": [
       "                                                          3/2   \n",
       "C⋅(F_{1/2}(η(ρ, T), β(T)) + F_{3/2}(η(ρ, T), β(T))⋅β(T))⋅β   (T)"
      ]
     },
     "execution_count": 33,
     "metadata": {},
     "output_type": "execute_result"
    }
   ],
   "source": [
    "n_e_full = C * beta**Rational(3,2) * (F12_expr + beta * F32_expr)\n",
    "n_e_full"
   ]
  },
  {
   "cell_type": "markdown",
   "id": "cc169314-b418-4929-ae6b-0aae4d715b40",
   "metadata": {},
   "source": [
    "and we can compute the derivatives of $n_e$"
   ]
  },
  {
   "cell_type": "markdown",
   "id": "89c82066-005d-468d-a14c-e2e7ded40175",
   "metadata": {},
   "source": [
    "$\\partial n_e / \\partial \\eta$"
   ]
  },
  {
   "cell_type": "code",
   "execution_count": 34,
   "id": "72fedbd6-fb85-4ee5-ba0d-3c7ee2beeded",
   "metadata": {},
   "outputs": [
    {
     "data": {
      "image/png": "[encoded data removed]",
      "text/latex": [
       "$\\displaystyle C \\left(\\beta{\\left(T \\right)} \\frac{\\partial}{\\partial \\eta{\\left(\\rho,T \\right)}} F_{3/2}{\\left(\\eta{\\left(\\rho,T \\right)},\\beta{\\left(T \\right)} \\right)} + \\frac{\\partial}{\\partial \\eta{\\left(\\rho,T \\right)}} F_{1/2}{\\left(\\eta{\\left(\\rho,T \\right)},\\beta{\\left(T \\right)} \\right)}\\right) \\beta^{\\frac{3}{2}}{\\left(T \\right)}$"
      ],
      "text/plain": [
       "  ⎛        ∂                                  ∂                            ⎞   ↪\n",
       "C⋅⎜β(T)⋅────────(F_{3/2}(η(ρ, T), β(T))) + ────────(F_{1/2}(η(ρ, T), β(T)))⎟⋅β ↪\n",
       "  ⎝     ∂η(ρ, T)                           ∂η(ρ, T)                        ⎠   ↪\n",
       "\n",
       "↪ 3/2   \n",
       "↪    (T)\n",
       "↪       "
      ]
     },
     "execution_count": 34,
     "metadata": {},
     "output_type": "execute_result"
    }
   ],
   "source": [
    "dne_deta = diff(n_e_full, eta)\n",
    "dne_deta"
   ]
  },
  {
   "cell_type": "markdown",
   "id": "00effec1-6bcb-4f11-ad6a-447297ad6064",
   "metadata": {},
   "source": [
    "$\\partial n_e / \\partial \\beta$"
   ]
  },
  {
   "cell_type": "code",
   "execution_count": 35,
   "id": "6b6dbe34-b48c-474a-a236-c5ec6cc7f04a",
   "metadata": {},
   "outputs": [
    {
     "data": {
      "image/png": "[encoded data removed]",
      "text/latex": [
       "$\\displaystyle \\frac{C \\left(3 F_{1/2}{\\left(\\eta{\\left(\\rho,T \\right)},\\beta{\\left(T \\right)} \\right)} + 5 F_{3/2}{\\left(\\eta{\\left(\\rho,T \\right)},\\beta{\\left(T \\right)} \\right)} \\beta{\\left(T \\right)} + 2 \\beta^{2}{\\left(T \\right)} \\frac{\\partial}{\\partial \\beta{\\left(T \\right)}} F_{3/2}{\\left(\\eta{\\left(\\rho,T \\right)},\\beta{\\left(T \\right)} \\right)} + 2 \\beta{\\left(T \\right)} \\frac{\\partial}{\\partial \\beta{\\left(T \\right)}} F_{1/2}{\\left(\\eta{\\left(\\rho,T \\right)},\\beta{\\left(T \\right)} \\right)}\\right) \\sqrt{\\beta{\\left(T \\right)}}}{2}$"
      ],
      "text/plain": [
       "  ⎛                                                              2      ∂      ↪\n",
       "C⋅⎜3⋅F_{1/2}(η(ρ, T), β(T)) + 5⋅F_{3/2}(η(ρ, T), β(T))⋅β(T) + 2⋅β (T)⋅─────(F_ ↪\n",
       "  ⎝                                                                   ∂β(T)    ↪\n",
       "────────────────────────────────────────────────────────────────────────────── ↪\n",
       "                                                                         2     ↪\n",
       "\n",
       "↪                                  ∂                          ⎞   ______\n",
       "↪ {3/2}(η(ρ, T), β(T))) + 2⋅β(T)⋅─────(F_{1/2}(η(ρ, T), β(T)))⎟⋅╲╱ β(T) \n",
       "↪                                ∂β(T)                        ⎠         \n",
       "↪ ──────────────────────────────────────────────────────────────────────\n",
       "↪                                                                       "
      ]
     },
     "execution_count": 35,
     "metadata": {},
     "output_type": "execute_result"
    }
   ],
   "source": [
    "dne_dbeta = diff(n_e_full, beta)\n",
    "simplify(dne_dbeta)"
   ]
  },
  {
   "cell_type": "markdown",
   "id": "ef67efc3-7f0f-401d-b76f-d93e11bf548f",
   "metadata": {},
   "source": [
    "### Next, $n_p$"
   ]
  },
  {
   "cell_type": "code",
   "execution_count": 36,
   "id": "9cb0af46-7484-4f87-8c35-c55dbedb07d4",
   "metadata": {},
   "outputs": [
    {
     "data": {
      "image/png": "[encoded data removed]",
      "text/latex": [
       "$\\displaystyle C \\left(F_{1/2}{\\left(- \\eta{\\left(\\rho,T \\right)} - \\frac{2}{\\beta{\\left(T \\right)}},\\beta{\\left(T \\right)} \\right)} + F_{3/2}{\\left(- \\eta{\\left(\\rho,T \\right)} - \\frac{2}{\\beta{\\left(T \\right)}},\\beta{\\left(T \\right)} \\right)} \\beta{\\left(T \\right)}\\right) \\beta^{\\frac{3}{2}}{\\left(T \\right)}$"
      ],
      "text/plain": [
       "  ⎛       ⎛            2        ⎞          ⎛            2        ⎞     ⎞  3/2   \n",
       "C⋅⎜F_{1/2}⎜-η(ρ, T) - ────, β(T)⎟ + F_{3/2}⎜-η(ρ, T) - ────, β(T)⎟⋅β(T)⎟⋅β   (T)\n",
       "  ⎝       ⎝           β(T)      ⎠          ⎝           β(T)      ⎠     ⎠        "
      ]
     },
     "execution_count": 36,
     "metadata": {},
     "output_type": "execute_result"
    }
   ],
   "source": [
    "n_p_full = C * beta**Rational(3,2) * (F12_tilde_expr + beta * F32_tilde_expr)\n",
    "n_p_full"
   ]
  },
  {
   "cell_type": "markdown",
   "id": "bbf6953a-582a-4f13-ae55-238b696351a1",
   "metadata": {},
   "source": [
    "$\\partial n_p /\\partial \\eta$"
   ]
  },
  {
   "cell_type": "code",
   "execution_count": 37,
   "id": "e95d5567-5180-4aad-9bec-600f9de2917e",
   "metadata": {},
   "outputs": [
    {
     "data": {
      "image/png": "[encoded data removed]",
      "text/latex": [
       "$\\displaystyle C \\left(- \\beta{\\left(T \\right)} \\left. \\frac{\\partial}{\\partial \\xi_{1}} F_{3/2}{\\left(\\xi_{1},\\beta{\\left(T \\right)} \\right)} \\right|_{\\substack{ \\xi_{1}=- \\eta{\\left(\\rho,T \\right)} - \\frac{2}{\\beta{\\left(T \\right)}} }} - \\left. \\frac{\\partial}{\\partial \\xi_{1}} F_{1/2}{\\left(\\xi_{1},\\beta{\\left(T \\right)} \\right)} \\right|_{\\substack{ \\xi_{1}=- \\eta{\\left(\\rho,T \\right)} - \\frac{2}{\\beta{\\left(T \\right)}} }}\\right) \\beta^{\\frac{3}{2}}{\\left(T \\right)}$"
      ],
      "text/plain": [
       "  ⎛       ⎛ ∂                    ⎞│                     ⎛ ∂                    ↪\n",
       "C⋅⎜- β(T)⋅⎜───(F_{3/2}(ξ₁, β(T)))⎟│               2   - ⎜───(F_{1/2}(ξ₁, β(T)) ↪\n",
       "  ⎜       ⎝∂ξ₁                   ⎠│ξ₁=-η(ρ, T) - ────   ⎝∂ξ₁                   ↪\n",
       "  ⎝                                              β(T)                          ↪\n",
       "\n",
       "↪  ⎞│                  ⎞  3/2   \n",
       "↪ )⎟│               2  ⎟⋅β   (T)\n",
       "↪  ⎠│ξ₁=-η(ρ, T) - ────⎟        \n",
       "↪                  β(T)⎠        "
      ]
     },
     "execution_count": 37,
     "metadata": {},
     "output_type": "execute_result"
    }
   ],
   "source": [
    "dnp_deta = diff(n_p_full, eta)\n",
    "dnp_deta"
   ]
  },
  {
   "cell_type": "markdown",
   "id": "22b060e6-0eb0-4ad6-ab84-9835cd5f7940",
   "metadata": {},
   "source": [
    "$\\partial n_p / \\partial \\beta$"
   ]
  },
  {
   "cell_type": "code",
   "execution_count": 38,
   "id": "336b6d74-2db2-4d27-88d7-d4a092829099",
   "metadata": {},
   "outputs": [
    {
     "data": {
      "image/png": "[encoded data removed]",
      "text/latex": [
       "$\\displaystyle \\frac{C \\left(3 F_{1/2}{\\left(- \\eta{\\left(\\rho,T \\right)} - \\frac{2}{\\beta{\\left(T \\right)}},\\beta{\\left(T \\right)} \\right)} \\beta{\\left(T \\right)} + 5 F_{3/2}{\\left(- \\eta{\\left(\\rho,T \\right)} - \\frac{2}{\\beta{\\left(T \\right)}},\\beta{\\left(T \\right)} \\right)} \\beta^{2}{\\left(T \\right)} + 2 \\beta^{3}{\\left(T \\right)} \\left. \\frac{\\partial}{\\partial \\xi_{2}} F_{3/2}{\\left(- \\eta{\\left(\\rho,T \\right)} - \\frac{2}{\\beta{\\left(T \\right)}},\\xi_{2} \\right)} \\right|_{\\substack{ \\xi_{2}=\\beta{\\left(T \\right)} }} + 2 \\beta^{2}{\\left(T \\right)} \\left. \\frac{\\partial}{\\partial \\xi_{2}} F_{1/2}{\\left(- \\eta{\\left(\\rho,T \\right)} - \\frac{2}{\\beta{\\left(T \\right)}},\\xi_{2} \\right)} \\right|_{\\substack{ \\xi_{2}=\\beta{\\left(T \\right)} }} + 4 \\beta{\\left(T \\right)} \\left. \\frac{\\partial}{\\partial \\xi_{1}} F_{3/2}{\\left(\\xi_{1},\\beta{\\left(T \\right)} \\right)} \\right|_{\\substack{ \\xi_{1}=- \\eta{\\left(\\rho,T \\right)} - \\frac{2}{\\beta{\\left(T \\right)}} }} + 4 \\left. \\frac{\\partial}{\\partial \\xi_{1}} F_{1/2}{\\left(\\xi_{1},\\beta{\\left(T \\right)} \\right)} \\right|_{\\substack{ \\xi_{1}=- \\eta{\\left(\\rho,T \\right)} - \\frac{2}{\\beta{\\left(T \\right)}} }}\\right)}{2 \\sqrt{\\beta{\\left(T \\right)}}}$"
      ],
      "text/plain": [
       "  ⎛         ⎛            2        ⎞                 ⎛            2        ⎞  2 ↪\n",
       "C⋅⎜3⋅F_{1/2}⎜-η(ρ, T) - ────, β(T)⎟⋅β(T) + 5⋅F_{3/2}⎜-η(ρ, T) - ────, β(T)⎟⋅β  ↪\n",
       "  ⎜         ⎝           β(T)      ⎠                 ⎝           β(T)      ⎠    ↪\n",
       "  ⎝                                                                            ↪\n",
       "────────────────────────────────────────────────────────────────────────────── ↪\n",
       "                                                                               ↪\n",
       "                                                                               ↪\n",
       "\n",
       "↪          3    ⎛ ∂ ⎛       ⎛            2      ⎞⎞⎞│             2    ⎛ ∂ ⎛    ↪\n",
       "↪ (T) + 2⋅β (T)⋅⎜───⎜F_{3/2}⎜-η(ρ, T) - ────, ξ₂⎟⎟⎟│        + 2⋅β (T)⋅⎜───⎜F_{ ↪\n",
       "↪               ⎝∂ξ₂⎝       ⎝           β(T)    ⎠⎠⎠│ξ₂=β(T)           ⎝∂ξ₂⎝    ↪\n",
       "↪                                                                              ↪\n",
       "↪ ──────────────────────────────────────────────────────────────────────────── ↪\n",
       "↪                                                                   ______     ↪\n",
       "↪                                                               2⋅╲╱ β(T)      ↪\n",
       "\n",
       "↪     ⎛            2      ⎞⎞⎞│                 ⎛ ∂                    ⎞│       ↪\n",
       "↪ 1/2}⎜-η(ρ, T) - ────, ξ₂⎟⎟⎟│        + 4⋅β(T)⋅⎜───(F_{3/2}(ξ₁, β(T)))⎟│       ↪\n",
       "↪     ⎝           β(T)    ⎠⎠⎠│ξ₂=β(T)          ⎝∂ξ₁                   ⎠│ξ₁=-η( ↪\n",
       "↪                                                                              ↪\n",
       "↪ ──────────────────────────────────────────────────────────────────────────── ↪\n",
       "↪                                                                              ↪\n",
       "↪                                                                              ↪\n",
       "\n",
       "↪                  ⎛ ∂                    ⎞│                  ⎞\n",
       "↪          2   + 4⋅⎜───(F_{1/2}(ξ₁, β(T)))⎟│               2  ⎟\n",
       "↪ ρ, T) - ────     ⎝∂ξ₁                   ⎠│ξ₁=-η(ρ, T) - ────⎟\n",
       "↪         β(T)                                            β(T)⎠\n",
       "↪ ─────────────────────────────────────────────────────────────\n",
       "↪                                                              \n",
       "↪                                                              "
      ]
     },
     "execution_count": 38,
     "metadata": {},
     "output_type": "execute_result"
    }
   ],
   "source": [
    "dnp_dbeta = diff(n_p_full, beta)\n",
    "simplify(dnp_dbeta)"
   ]
  },
  {
   "cell_type": "markdown",
   "id": "559130c1-ccfc-4da2-9f79-569e799f22e0",
   "metadata": {},
   "source": [
    "### Second derivatives"
   ]
  },
  {
   "cell_type": "markdown",
   "id": "0889d846-a5fe-476b-85ee-74b3079dc7c5",
   "metadata": {},
   "source": [
    "$\\partial^2 n_e / \\partial \\eta^2$"
   ]
  },
  {
   "cell_type": "code",
   "execution_count": 39,
   "id": "114ea64d-fed1-43fa-82ba-db9701c362d6",
   "metadata": {},
   "outputs": [
    {
     "data": {
      "image/png": "[encoded data removed]",
      "text/latex": [
       "$\\displaystyle C \\left(\\beta{\\left(T \\right)} \\frac{\\partial^{2}}{\\partial \\eta{\\left(\\rho,T \\right)}^{2}} F_{3/2}{\\left(\\eta{\\left(\\rho,T \\right)},\\beta{\\left(T \\right)} \\right)} + \\frac{\\partial^{2}}{\\partial \\eta{\\left(\\rho,T \\right)}^{2}} F_{1/2}{\\left(\\eta{\\left(\\rho,T \\right)},\\beta{\\left(T \\right)} \\right)}\\right) \\beta^{\\frac{3}{2}}{\\left(T \\right)}$"
      ],
      "text/plain": [
       "  ⎛         2                                   2                            ⎞ ↪\n",
       "  ⎜        ∂                                   ∂                             ⎟ ↪\n",
       "C⋅⎜β(T)⋅─────────(F_{3/2}(η(ρ, T), β(T))) + ─────────(F_{1/2}(η(ρ, T), β(T)))⎟ ↪\n",
       "  ⎜             2                                   2                        ⎟ ↪\n",
       "  ⎝     ∂η(ρ, T)                            ∂η(ρ, T)                         ⎠ ↪\n",
       "\n",
       "↪         \n",
       "↪   3/2   \n",
       "↪ ⋅β   (T)\n",
       "↪         \n",
       "↪         "
      ]
     },
     "execution_count": 39,
     "metadata": {},
     "output_type": "execute_result"
    }
   ],
   "source": [
    "d2ne_deta2 = diff(n_e_full, eta, eta)\n",
    "d2ne_deta2"
   ]
  },
  {
   "cell_type": "markdown",
   "id": "0a736fdf-5f4c-4028-8bf6-b04473af199f",
   "metadata": {},
   "source": [
    "$\\partial^2 n_e / \\partial \\eta \\partial\\beta$"
   ]
  },
  {
   "cell_type": "code",
   "execution_count": 40,
   "id": "573a7748-a404-4527-937e-d1a4def0cbfe",
   "metadata": {},
   "outputs": [
    {
     "data": {
      "image/png": "[encoded data removed]",
      "text/latex": [
       "$\\displaystyle \\frac{C \\left(2 \\beta^{2}{\\left(T \\right)} \\frac{\\partial^{2}}{\\partial \\eta{\\left(\\rho,T \\right)}\\partial \\beta{\\left(T \\right)}} F_{3/2}{\\left(\\eta{\\left(\\rho,T \\right)},\\beta{\\left(T \\right)} \\right)} + 5 \\beta{\\left(T \\right)} \\frac{\\partial}{\\partial \\eta{\\left(\\rho,T \\right)}} F_{3/2}{\\left(\\eta{\\left(\\rho,T \\right)},\\beta{\\left(T \\right)} \\right)} + 2 \\beta{\\left(T \\right)} \\frac{\\partial^{2}}{\\partial \\eta{\\left(\\rho,T \\right)}\\partial \\beta{\\left(T \\right)}} F_{1/2}{\\left(\\eta{\\left(\\rho,T \\right)},\\beta{\\left(T \\right)} \\right)} + 3 \\frac{\\partial}{\\partial \\eta{\\left(\\rho,T \\right)}} F_{1/2}{\\left(\\eta{\\left(\\rho,T \\right)},\\beta{\\left(T \\right)} \\right)}\\right) \\sqrt{\\beta{\\left(T \\right)}}}{2}$"
      ],
      "text/plain": [
       "  ⎛               2                                                            ↪\n",
       "  ⎜   2          ∂                                            ∂                ↪\n",
       "C⋅⎜2⋅β (T)⋅──────────────(F_{3/2}(η(ρ, T), β(T))) + 5⋅β(T)⋅────────(F_{3/2}(η( ↪\n",
       "  ⎝        ∂η(ρ, T) ∂β(T)                                  ∂η(ρ, T)            ↪\n",
       "────────────────────────────────────────────────────────────────────────────── ↪\n",
       "                                                                               ↪\n",
       "\n",
       "↪                               2                                              ↪\n",
       "↪                              ∂                                       ∂       ↪\n",
       "↪ ρ, T), β(T))) + 2⋅β(T)⋅──────────────(F_{1/2}(η(ρ, T), β(T))) + 3⋅────────(F ↪\n",
       "↪                        ∂η(ρ, T) ∂β(T)                             ∂η(ρ, T)   ↪\n",
       "↪ ──────────────────────────────────────────────────────────────────────────── ↪\n",
       "↪               2                                                              ↪\n",
       "\n",
       "↪                       ⎞         \n",
       "↪                       ⎟   ______\n",
       "↪ _{1/2}(η(ρ, T), β(T)))⎟⋅╲╱ β(T) \n",
       "↪                       ⎠         \n",
       "↪ ────────────────────────────────\n",
       "↪                                 "
      ]
     },
     "execution_count": 40,
     "metadata": {},
     "output_type": "execute_result"
    }
   ],
   "source": [
    "d2ne_detadbeta = diff(n_e_full, eta, beta)\n",
    "simplify(d2ne_detadbeta)"
   ]
  },
  {
   "cell_type": "markdown",
   "id": "300319c2-ab09-4ef0-94c9-88213d346b0b",
   "metadata": {},
   "source": [
    "$\\partial^2 n_e / \\partial \\beta^2$"
   ]
  },
  {
   "cell_type": "code",
   "execution_count": 41,
   "id": "9b9554c4-913c-4ab2-8df4-8b2f6ce9c05d",
   "metadata": {},
   "outputs": [
    {
     "data": {
      "image/png": "[encoded data removed]",
      "text/latex": [
       "$\\displaystyle \\frac{C \\left(3 F_{1/2}{\\left(\\eta{\\left(\\rho,T \\right)},\\beta{\\left(T \\right)} \\right)} + 15 F_{3/2}{\\left(\\eta{\\left(\\rho,T \\right)},\\beta{\\left(T \\right)} \\right)} \\beta{\\left(T \\right)} + 4 \\beta^{3}{\\left(T \\right)} \\frac{\\partial^{2}}{\\partial \\beta{\\left(T \\right)}^{2}} F_{3/2}{\\left(\\eta{\\left(\\rho,T \\right)},\\beta{\\left(T \\right)} \\right)} + 4 \\beta^{2}{\\left(T \\right)} \\frac{\\partial^{2}}{\\partial \\beta{\\left(T \\right)}^{2}} F_{1/2}{\\left(\\eta{\\left(\\rho,T \\right)},\\beta{\\left(T \\right)} \\right)} + 20 \\beta^{2}{\\left(T \\right)} \\frac{\\partial}{\\partial \\beta{\\left(T \\right)}} F_{3/2}{\\left(\\eta{\\left(\\rho,T \\right)},\\beta{\\left(T \\right)} \\right)} + 12 \\beta{\\left(T \\right)} \\frac{\\partial}{\\partial \\beta{\\left(T \\right)}} F_{1/2}{\\left(\\eta{\\left(\\rho,T \\right)},\\beta{\\left(T \\right)} \\right)}\\right)}{4 \\sqrt{\\beta{\\left(T \\right)}}}$"
      ],
      "text/plain": [
       "  ⎛                                                                       2    ↪\n",
       "  ⎜                                                               3      ∂     ↪\n",
       "C⋅⎜3⋅F_{1/2}(η(ρ, T), β(T)) + 15⋅F_{3/2}(η(ρ, T), β(T))⋅β(T) + 4⋅β (T)⋅──────( ↪\n",
       "  ⎜                                                                         2  ↪\n",
       "  ⎝                                                                    ∂β(T)   ↪\n",
       "────────────────────────────────────────────────────────────────────────────── ↪\n",
       "                                                                               ↪\n",
       "                                                                               ↪\n",
       "\n",
       "↪                                      2                                       ↪\n",
       "↪                              2      ∂                                  2     ↪\n",
       "↪ F_{3/2}(η(ρ, T), β(T))) + 4⋅β (T)⋅──────(F_{1/2}(η(ρ, T), β(T))) + 20⋅β (T)⋅ ↪\n",
       "↪                                        2                                     ↪\n",
       "↪                                   ∂β(T)                                      ↪\n",
       "↪ ──────────────────────────────────────────────────────────────────────────── ↪\n",
       "↪                                  ______                                      ↪\n",
       "↪                              4⋅╲╱ β(T)                                       ↪\n",
       "\n",
       "↪                                                                      ⎞\n",
       "↪   ∂                                       ∂                          ⎟\n",
       "↪ ─────(F_{3/2}(η(ρ, T), β(T))) + 12⋅β(T)⋅─────(F_{1/2}(η(ρ, T), β(T)))⎟\n",
       "↪ ∂β(T)                                   ∂β(T)                        ⎟\n",
       "↪                                                                      ⎠\n",
       "↪ ──────────────────────────────────────────────────────────────────────\n",
       "↪                                                                       \n",
       "↪                                                                       "
      ]
     },
     "execution_count": 41,
     "metadata": {},
     "output_type": "execute_result"
    }
   ],
   "source": [
    "d2ne_dbeta2 = diff(n_e_full, beta, beta)\n",
    "simplify(d2ne_dbeta2)"
   ]
  },
  {
   "cell_type": "markdown",
   "id": "8b593354-5251-46e6-9bfe-40ef52bfa6dc",
   "metadata": {},
   "source": [
    "$\\partial^2 n_p / \\partial \\eta^2$"
   ]
  },
  {
   "cell_type": "code",
   "execution_count": 42,
   "id": "cb8adf65-27ae-4708-b948-1e671e9dae85",
   "metadata": {},
   "outputs": [
    {
     "data": {
      "image/png": "[encoded data removed]",
      "text/latex": [
       "$\\displaystyle C \\left(\\beta{\\left(T \\right)} \\left. \\frac{\\partial^{2}}{\\partial \\xi_{1}^{2}} F_{3/2}{\\left(\\xi_{1},\\beta{\\left(T \\right)} \\right)} \\right|_{\\substack{ \\xi_{1}=- (\\eta{\\left(\\rho,T \\right)} + \\frac{2}{\\beta{\\left(T \\right)}}) }} + \\left. \\frac{\\partial^{2}}{\\partial \\xi_{1}^{2}} F_{1/2}{\\left(\\xi_{1},\\beta{\\left(T \\right)} \\right)} \\right|_{\\substack{ \\xi_{1}=- (\\eta{\\left(\\rho,T \\right)} + \\frac{2}{\\beta{\\left(T \\right)}}) }}\\right) \\beta^{\\frac{3}{2}}{\\left(T \\right)}$"
      ],
      "text/plain": [
       "  ⎛     ⎛  2                    ⎞│                       ⎛  2                  ↪\n",
       "  ⎜     ⎜ ∂                     ⎟│                       ⎜ ∂                   ↪\n",
       "C⋅⎜β(T)⋅⎜────(F_{3/2}(ξ₁, β(T)))⎟│                     + ⎜────(F_{1/2}(ξ₁, β(T ↪\n",
       "  ⎜     ⎜   2                   ⎟│    ⎛           2  ⎞   ⎜   2                 ↪\n",
       "  ⎜     ⎝∂ξ₁                    ⎠│ξ₁=-⎜η(ρ, T) + ────⎟   ⎝∂ξ₁                  ↪\n",
       "  ⎝                                   ⎝          β(T)⎠                         ↪\n",
       "\n",
       "↪    ⎞│                    ⎞        \n",
       "↪    ⎟│                    ⎟  3/2   \n",
       "↪ )))⎟│                    ⎟⋅β   (T)\n",
       "↪    ⎟│    ⎛           2  ⎞⎟        \n",
       "↪    ⎠│ξ₁=-⎜η(ρ, T) + ────⎟⎟        \n",
       "↪          ⎝          β(T)⎠⎠        "
      ]
     },
     "execution_count": 42,
     "metadata": {},
     "output_type": "execute_result"
    }
   ],
   "source": [
    "d2np_deta2 = diff(n_p_full, eta, eta)\n",
    "d2np_deta2"
   ]
  },
  {
   "cell_type": "markdown",
   "id": "60ecae97-db40-4aca-85c2-31d7e5828a76",
   "metadata": {},
   "source": [
    "$\\partial^2 n_p / \\partial \\eta \\partial\\beta$"
   ]
  },
  {
   "cell_type": "code",
   "execution_count": 43,
   "id": "c19cb87c-88c4-45cc-b971-6f9f7abd4f08",
   "metadata": {},
   "outputs": [
    {
     "data": {
      "image/png": "[encoded data removed]",
      "text/latex": [
       "$\\displaystyle - \\frac{C \\left(2 \\beta^{3}{\\left(T \\right)} \\left. \\frac{\\partial^{2}}{\\partial \\beta{\\left(T \\right)}\\partial \\xi_{1}} F_{3/2}{\\left(\\xi_{1},\\beta{\\left(T \\right)} \\right)} \\right|_{\\substack{ \\xi_{1}=- \\eta{\\left(\\rho,T \\right)} - \\frac{2}{\\beta{\\left(T \\right)}} }} + 5 \\beta^{2}{\\left(T \\right)} \\left. \\frac{\\partial}{\\partial \\xi_{1}} F_{3/2}{\\left(\\xi_{1},\\beta{\\left(T \\right)} \\right)} \\right|_{\\substack{ \\xi_{1}=- \\eta{\\left(\\rho,T \\right)} - \\frac{2}{\\beta{\\left(T \\right)}} }} + 2 \\beta^{2}{\\left(T \\right)} \\left. \\frac{\\partial^{2}}{\\partial \\beta{\\left(T \\right)}\\partial \\xi_{1}} F_{1/2}{\\left(\\xi_{1},\\beta{\\left(T \\right)} \\right)} \\right|_{\\substack{ \\xi_{1}=- \\eta{\\left(\\rho,T \\right)} - \\frac{2}{\\beta{\\left(T \\right)}} }} + 3 \\beta{\\left(T \\right)} \\left. \\frac{\\partial}{\\partial \\xi_{1}} F_{1/2}{\\left(\\xi_{1},\\beta{\\left(T \\right)} \\right)} \\right|_{\\substack{ \\xi_{1}=- \\eta{\\left(\\rho,T \\right)} - \\frac{2}{\\beta{\\left(T \\right)}} }} + 4 \\beta{\\left(T \\right)} \\left. \\frac{\\partial^{2}}{\\partial \\xi_{1}^{2}} F_{3/2}{\\left(\\xi_{1},\\beta{\\left(T \\right)} \\right)} \\right|_{\\substack{ \\xi_{1}=- \\eta{\\left(\\rho,T \\right)} - \\frac{2}{\\beta{\\left(T \\right)}} }} + 4 \\left. \\frac{\\partial^{2}}{\\partial \\xi_{1}^{2}} F_{1/2}{\\left(\\xi_{1},\\beta{\\left(T \\right)} \\right)} \\right|_{\\substack{ \\xi_{1}=- \\eta{\\left(\\rho,T \\right)} - \\frac{2}{\\beta{\\left(T \\right)}} }}\\right)}{2 \\sqrt{\\beta{\\left(T \\right)}}}$"
      ],
      "text/plain": [
       "   ⎛        ⎛    2                       ⎞│                                    ↪\n",
       "   ⎜   3    ⎜   ∂                        ⎟│                        2    ⎛ ∂    ↪\n",
       "-C⋅⎜2⋅β (T)⋅⎜─────────(F_{3/2}(ξ₁, β(T)))⎟│               2   + 5⋅β (T)⋅⎜───(F ↪\n",
       "   ⎜        ⎝∂β(T) ∂ξ₁                   ⎠│ξ₁=-η(ρ, T) - ────           ⎝∂ξ₁   ↪\n",
       "   ⎜                                                     β(T)                  ↪\n",
       "   ⎝                                                                           ↪\n",
       "────────────────────────────────────────────────────────────────────────────── ↪\n",
       "                                                                               ↪\n",
       "                                                                               ↪\n",
       "\n",
       "↪                                                 ⎛    2                       ↪\n",
       "↪                  ⎞│                        2    ⎜   ∂                        ↪\n",
       "↪ _{3/2}(ξ₁, β(T)))⎟│               2   + 2⋅β (T)⋅⎜─────────(F_{1/2}(ξ₁, β(T)) ↪\n",
       "↪                  ⎠│ξ₁=-η(ρ, T) - ────           ⎝∂β(T) ∂ξ₁                   ↪\n",
       "↪                                  β(T)                                        ↪\n",
       "↪                                                                              ↪\n",
       "↪ ──────────────────────────────────────────────────────────────────────────── ↪\n",
       "↪                                                                              ↪\n",
       "↪                                                                              ↪\n",
       "\n",
       "↪  ⎞│                                                                          ↪\n",
       "↪  ⎟│                            ⎛ ∂                    ⎞│                     ↪\n",
       "↪ )⎟│               2   + 3⋅β(T)⋅⎜───(F_{1/2}(ξ₁, β(T)))⎟│               2   + ↪\n",
       "↪  ⎠│ξ₁=-η(ρ, T) - ────          ⎝∂ξ₁                   ⎠│ξ₁=-η(ρ, T) - ────   ↪\n",
       "↪                  β(T)                                                 β(T)   ↪\n",
       "↪                                                                              ↪\n",
       "↪ ──────────────────────────────────────────────────────────────────────────── ↪\n",
       "↪            ______                                                            ↪\n",
       "↪        2⋅╲╱ β(T)                                                             ↪\n",
       "\n",
       "↪         ⎛  2                    ⎞│                       ⎛  2                ↪\n",
       "↪         ⎜ ∂                     ⎟│                       ⎜ ∂                 ↪\n",
       "↪  4⋅β(T)⋅⎜────(F_{3/2}(ξ₁, β(T)))⎟│                   + 4⋅⎜────(F_{1/2}(ξ₁, β ↪\n",
       "↪         ⎜   2                   ⎟│               2       ⎜   2               ↪\n",
       "↪         ⎝∂ξ₁                    ⎠│ξ₁=-η(ρ, T) - ────     ⎝∂ξ₁                ↪\n",
       "↪                                                 β(T)                         ↪\n",
       "↪ ──────────────────────────────────────────────────────────────────────────── ↪\n",
       "↪                                                                              ↪\n",
       "↪                                                                              ↪\n",
       "\n",
       "↪      ⎞│                  ⎞ \n",
       "↪      ⎟│                  ⎟ \n",
       "↪ (T)))⎟│                  ⎟ \n",
       "↪      ⎟│               2  ⎟ \n",
       "↪      ⎠│ξ₁=-η(ρ, T) - ────⎟ \n",
       "↪                      β(T)⎠ \n",
       "↪ ───────────────────────────\n",
       "↪                            \n",
       "↪                            "
      ]
     },
     "execution_count": 43,
     "metadata": {},
     "output_type": "execute_result"
    }
   ],
   "source": [
    "d2np_detadbeta = diff(n_p_full, eta, beta)\n",
    "simplify(d2np_detadbeta)"
   ]
  },
  {
   "cell_type": "markdown",
   "id": "a032b2a7-5e80-4fb2-a465-8b3d9a1d45d3",
   "metadata": {},
   "source": [
    "$\\partial^2 n_p / \\partial \\beta^2$"
   ]
  },
  {
   "cell_type": "code",
   "execution_count": 44,
   "id": "32d8c658-e118-40c9-b222-f87e94cd0e2d",
   "metadata": {},
   "outputs": [
    {
     "data": {
      "image/png": "[encoded data removed]",
      "text/latex": [
       "$\\displaystyle \\frac{C \\left(3 F_{1/2}{\\left(- \\eta{\\left(\\rho,T \\right)} - \\frac{2}{\\beta{\\left(T \\right)}},\\beta{\\left(T \\right)} \\right)} \\beta^{2}{\\left(T \\right)} + 15 F_{3/2}{\\left(- \\eta{\\left(\\rho,T \\right)} - \\frac{2}{\\beta{\\left(T \\right)}},\\beta{\\left(T \\right)} \\right)} \\beta^{3}{\\left(T \\right)} + 4 \\beta^{5}{\\left(T \\right)} \\left. \\frac{\\partial^{2}}{\\partial \\xi_{2}^{2}} F_{3/2}{\\left(- (\\eta{\\left(\\rho,T \\right)} + \\frac{2}{\\beta{\\left(T \\right)}}),\\xi_{2} \\right)} \\right|_{\\substack{ \\xi_{2}=\\beta{\\left(T \\right)} }} + 4 \\beta^{4}{\\left(T \\right)} \\left. \\frac{\\partial^{2}}{\\partial \\xi_{2}^{2}} F_{1/2}{\\left(- (\\eta{\\left(\\rho,T \\right)} + \\frac{2}{\\beta{\\left(T \\right)}}),\\xi_{2} \\right)} \\right|_{\\substack{ \\xi_{2}=\\beta{\\left(T \\right)} }} + 20 \\beta^{4}{\\left(T \\right)} \\left. \\frac{\\partial}{\\partial \\xi_{2}} F_{3/2}{\\left(- \\eta{\\left(\\rho,T \\right)} - \\frac{2}{\\beta{\\left(T \\right)}},\\xi_{2} \\right)} \\right|_{\\substack{ \\xi_{2}=\\beta{\\left(T \\right)} }} + 12 \\beta^{3}{\\left(T \\right)} \\left. \\frac{\\partial}{\\partial \\xi_{2}} F_{1/2}{\\left(- \\eta{\\left(\\rho,T \\right)} - \\frac{2}{\\beta{\\left(T \\right)}},\\xi_{2} \\right)} \\right|_{\\substack{ \\xi_{2}=\\beta{\\left(T \\right)} }} + 16 \\beta^{3}{\\left(T \\right)} \\left. \\frac{\\partial^{2}}{\\partial \\beta{\\left(T \\right)}\\partial \\xi_{1}} F_{3/2}{\\left(\\xi_{1},\\beta{\\left(T \\right)} \\right)} \\right|_{\\substack{ \\xi_{1}=- \\eta{\\left(\\rho,T \\right)} - \\frac{2}{\\beta{\\left(T \\right)}} }} + 24 \\beta^{2}{\\left(T \\right)} \\left. \\frac{\\partial}{\\partial \\xi_{1}} F_{3/2}{\\left(\\xi_{1},\\beta{\\left(T \\right)} \\right)} \\right|_{\\substack{ \\xi_{1}=- \\eta{\\left(\\rho,T \\right)} - \\frac{2}{\\beta{\\left(T \\right)}} }} + 16 \\beta^{2}{\\left(T \\right)} \\left. \\frac{\\partial^{2}}{\\partial \\beta{\\left(T \\right)}\\partial \\xi_{1}} F_{1/2}{\\left(\\xi_{1},\\beta{\\left(T \\right)} \\right)} \\right|_{\\substack{ \\xi_{1}=- \\eta{\\left(\\rho,T \\right)} - \\frac{2}{\\beta{\\left(T \\right)}} }} + 8 \\beta{\\left(T \\right)} \\left. \\frac{\\partial}{\\partial \\xi_{1}} F_{1/2}{\\left(\\xi_{1},\\beta{\\left(T \\right)} \\right)} \\right|_{\\substack{ \\xi_{1}=- \\eta{\\left(\\rho,T \\right)} - \\frac{2}{\\beta{\\left(T \\right)}} }} + 16 \\beta{\\left(T \\right)} \\left. \\frac{\\partial^{2}}{\\partial \\xi_{1}^{2}} F_{3/2}{\\left(\\xi_{1},\\beta{\\left(T \\right)} \\right)} \\right|_{\\substack{ \\xi_{1}=- \\eta{\\left(\\rho,T \\right)} - \\frac{2}{\\beta{\\left(T \\right)}} }} + 16 \\left. \\frac{\\partial^{2}}{\\partial \\xi_{1}^{2}} F_{1/2}{\\left(\\xi_{1},\\beta{\\left(T \\right)} \\right)} \\right|_{\\substack{ \\xi_{1}=- \\eta{\\left(\\rho,T \\right)} - \\frac{2}{\\beta{\\left(T \\right)}} }}\\right)}{4 \\beta^{\\frac{5}{2}}{\\left(T \\right)}}$"
      ],
      "text/plain": [
       "  ⎛                                                                            ↪\n",
       "  ⎜         ⎛            2        ⎞  2                ⎛            2        ⎞  ↪\n",
       "C⋅⎜3⋅F_{1/2}⎜-η(ρ, T) - ────, β(T)⎟⋅β (T) + 15⋅F_{3/2}⎜-η(ρ, T) - ────, β(T)⎟⋅ ↪\n",
       "  ⎜         ⎝           β(T)      ⎠                   ⎝           β(T)      ⎠  ↪\n",
       "  ⎜                                                                            ↪\n",
       "  ⎝                                                                            ↪\n",
       "────────────────────────────────────────────────────────────────────────────── ↪\n",
       "                                                                               ↪\n",
       "                                                                               ↪\n",
       "\n",
       "↪                 ⎛  2                                 ⎞│                  ⎛   ↪\n",
       "↪  3         5    ⎜ ∂  ⎛       ⎛ ⎛           2  ⎞    ⎞⎞⎟│             4    ⎜ ∂ ↪\n",
       "↪ β (T) + 4⋅β (T)⋅⎜────⎜F_{3/2}⎜-⎜η(ρ, T) + ────⎟, ξ₂⎟⎟⎟│        + 4⋅β (T)⋅⎜── ↪\n",
       "↪                 ⎜   2⎝       ⎝ ⎝          β(T)⎠    ⎠⎠⎟│                  ⎜   ↪\n",
       "↪                 ⎝∂ξ₂                                 ⎠│ξ₂=β(T)           ⎝∂ξ ↪\n",
       "↪                                                                              ↪\n",
       "↪ ──────────────────────────────────────────────────────────────────────────── ↪\n",
       "↪                                                                              ↪\n",
       "↪                                                                              ↪\n",
       "\n",
       "↪ 2                                 ⎞│                                         ↪\n",
       "↪   ⎛       ⎛ ⎛           2  ⎞    ⎞⎞⎟│              4    ⎛ ∂ ⎛       ⎛         ↪\n",
       "↪ ──⎜F_{1/2}⎜-⎜η(ρ, T) + ────⎟, ξ₂⎟⎟⎟│        + 20⋅β (T)⋅⎜───⎜F_{3/2}⎜-η(ρ, T) ↪\n",
       "↪  2⎝       ⎝ ⎝          β(T)⎠    ⎠⎠⎟│                   ⎝∂ξ₂⎝       ⎝         ↪\n",
       "↪ ₂                                 ⎠│ξ₂=β(T)                                  ↪\n",
       "↪                                                                              ↪\n",
       "↪ ──────────────────────────────────────────────────────────────────────────── ↪\n",
       "↪                                                                              ↪\n",
       "↪                                                                              ↪\n",
       "\n",
       "↪                                                                              ↪\n",
       "↪     2      ⎞⎞⎞│              3    ⎛ ∂ ⎛       ⎛            2      ⎞⎞⎞│       ↪\n",
       "↪  - ────, ξ₂⎟⎟⎟│        + 12⋅β (T)⋅⎜───⎜F_{1/2}⎜-η(ρ, T) - ────, ξ₂⎟⎟⎟│       ↪\n",
       "↪    β(T)    ⎠⎠⎠│ξ₂=β(T)            ⎝∂ξ₂⎝       ⎝           β(T)    ⎠⎠⎠│ξ₂=β(T ↪\n",
       "↪                                                                              ↪\n",
       "↪                                                                              ↪\n",
       "↪ ──────────────────────────────────────────────────────────────────────────── ↪\n",
       "↪                                                                              ↪\n",
       "↪                                                                              ↪\n",
       "\n",
       "↪              ⎛    2                       ⎞│                                 ↪\n",
       "↪         3    ⎜   ∂                        ⎟│                         2    ⎛  ↪\n",
       "↪   + 16⋅β (T)⋅⎜─────────(F_{3/2}(ξ₁, β(T)))⎟│               2   + 24⋅β (T)⋅⎜─ ↪\n",
       "↪ )            ⎝∂β(T) ∂ξ₁                   ⎠│ξ₁=-η(ρ, T) - ────            ⎝∂ ↪\n",
       "↪                                                           β(T)               ↪\n",
       "↪                                                                              ↪\n",
       "↪ ──────────────────────────────────────────────────────────────────────────── ↪\n",
       "↪               5/2                                                            ↪\n",
       "↪            4⋅β   (T)                                                         ↪\n",
       "\n",
       "↪                                                      ⎛    2                  ↪\n",
       "↪ ∂                    ⎞│                         2    ⎜   ∂                   ↪\n",
       "↪ ──(F_{3/2}(ξ₁, β(T)))⎟│               2   + 16⋅β (T)⋅⎜─────────(F_{1/2}(ξ₁,  ↪\n",
       "↪ ξ₁                   ⎠│ξ₁=-η(ρ, T) - ────            ⎝∂β(T) ∂ξ₁              ↪\n",
       "↪                                      β(T)                                    ↪\n",
       "↪                                                                              ↪\n",
       "↪ ──────────────────────────────────────────────────────────────────────────── ↪\n",
       "↪                                                                              ↪\n",
       "↪                                                                              ↪\n",
       "\n",
       "↪       ⎞│                                                                     ↪\n",
       "↪       ⎟│                            ⎛ ∂                    ⎞│                ↪\n",
       "↪ β(T)))⎟│               2   + 8⋅β(T)⋅⎜───(F_{1/2}(ξ₁, β(T)))⎟│                ↪\n",
       "↪       ⎠│ξ₁=-η(ρ, T) - ────          ⎝∂ξ₁                   ⎠│ξ₁=-η(ρ, T) - ─ ↪\n",
       "↪                       β(T)                                                 β ↪\n",
       "↪                                                                              ↪\n",
       "↪ ──────────────────────────────────────────────────────────────────────────── ↪\n",
       "↪                                                                              ↪\n",
       "↪                                                                              ↪\n",
       "\n",
       "↪               ⎛  2                    ⎞│                        ⎛  2         ↪\n",
       "↪               ⎜ ∂                     ⎟│                        ⎜ ∂          ↪\n",
       "↪ 2   + 16⋅β(T)⋅⎜────(F_{3/2}(ξ₁, β(T)))⎟│                   + 16⋅⎜────(F_{1/2 ↪\n",
       "↪ ───           ⎜   2                   ⎟│               2        ⎜   2        ↪\n",
       "↪ (T)           ⎝∂ξ₁                    ⎠│ξ₁=-η(ρ, T) - ────      ⎝∂ξ₁         ↪\n",
       "↪                                                       β(T)                   ↪\n",
       "↪ ──────────────────────────────────────────────────────────────────────────── ↪\n",
       "↪                                                                              ↪\n",
       "↪                                                                              ↪\n",
       "\n",
       "↪             ⎞│                  ⎞\n",
       "↪             ⎟│                  ⎟\n",
       "↪ }(ξ₁, β(T)))⎟│                  ⎟\n",
       "↪             ⎟│               2  ⎟\n",
       "↪             ⎠│ξ₁=-η(ρ, T) - ────⎟\n",
       "↪                             β(T)⎠\n",
       "↪ ─────────────────────────────────\n",
       "↪                                  \n",
       "↪                                  "
      ]
     },
     "execution_count": 44,
     "metadata": {},
     "output_type": "execute_result"
    }
   ],
   "source": [
    "d2np_dbeta2 = diff(n_p_full, beta, beta)\n",
    "simplify(d2np_dbeta2)"
   ]
  },
  {
   "cell_type": "markdown",
   "id": "a939ae04-7b10-48e1-a866-ffbe2331ffcf",
   "metadata": {},
   "source": [
    "## Chain Rule"
   ]
  },
  {
   "cell_type": "markdown",
   "id": "9743f7b8-22e0-45ba-ac9b-5c19d741ace0",
   "metadata": {},
   "source": [
    "For any thermodynamic function $f$, we can compute the derivatives of $f$ with respect to $\\rho$ and $T$ through their dependencies in $\\beta$ and $\\eta$.\n",
    "This is how we'll compute the derivatives of $p$, $e$ and $s$ with respect to $\\rho$ and $T$ (including the second derivatives)"
   ]
  },
  {
   "cell_type": "code",
   "execution_count": 45,
   "id": "8eae1103-e4bc-465b-be4a-660746490591",
   "metadata": {},
   "outputs": [],
   "source": [
    "f_func = Function('f')(eta_sym, beta_sym)\n",
    "f_expr = f_func.subs({eta_sym: eta, beta_sym: beta})"
   ]
  },
  {
   "cell_type": "markdown",
   "id": "39fe9e76-2cd7-4987-a92d-457a48be28e3",
   "metadata": {},
   "source": [
    "### First derivatives"
   ]
  },
  {
   "cell_type": "markdown",
   "id": "15c4db0e-0c81-4e14-b150-dffef572ed73",
   "metadata": {},
   "source": [
    "$\\partial f/\\partial \\rho$"
   ]
  },
  {
   "cell_type": "code",
   "execution_count": 46,
   "id": "e630e712-50a9-4fba-9ef7-e577496e5553",
   "metadata": {},
   "outputs": [
    {
     "data": {
      "image/png": "[encoded data removed]",
      "text/latex": [
       "$\\displaystyle \\frac{\\partial}{\\partial \\rho} \\eta{\\left(\\rho,T \\right)} \\frac{\\partial}{\\partial \\eta{\\left(\\rho,T \\right)}} f{\\left(\\eta{\\left(\\rho,T \\right)},\\beta{\\left(T \\right)} \\right)}$"
      ],
      "text/plain": [
       "∂              ∂                      \n",
       "──(η(ρ, T))⋅────────(f(η(ρ, T), β(T)))\n",
       "∂ρ          ∂η(ρ, T)                  "
      ]
     },
     "execution_count": 46,
     "metadata": {},
     "output_type": "execute_result"
    }
   ],
   "source": [
    "df_drho = diff(f_expr, rho)\n",
    "df_drho"
   ]
  },
  {
   "cell_type": "markdown",
   "id": "d5431449-b2e6-4133-bf66-7a0d191a6388",
   "metadata": {},
   "source": [
    "$\\partial f/\\partial T$"
   ]
  },
  {
   "cell_type": "code",
   "execution_count": 47,
   "id": "18cd4ec8-5b0e-4dbc-84df-b79f3209f3d9",
   "metadata": {},
   "outputs": [
    {
     "data": {
      "image/png": "[encoded data removed]",
      "text/latex": [
       "$\\displaystyle \\frac{d}{d T} \\beta{\\left(T \\right)} \\frac{\\partial}{\\partial \\beta{\\left(T \\right)}} f{\\left(\\eta{\\left(\\rho,T \\right)},\\beta{\\left(T \\right)} \\right)} + \\frac{\\partial}{\\partial T} \\eta{\\left(\\rho,T \\right)} \\frac{\\partial}{\\partial \\eta{\\left(\\rho,T \\right)}} f{\\left(\\eta{\\left(\\rho,T \\right)},\\beta{\\left(T \\right)} \\right)}$"
      ],
      "text/plain": [
       "d          ∂                       ∂              ∂                      \n",
       "──(β(T))⋅─────(f(η(ρ, T), β(T))) + ──(η(ρ, T))⋅────────(f(η(ρ, T), β(T)))\n",
       "dT       ∂β(T)                     ∂T          ∂η(ρ, T)                  "
      ]
     },
     "execution_count": 47,
     "metadata": {},
     "output_type": "execute_result"
    }
   ],
   "source": [
    "df_dT = diff(f_expr, T)\n",
    "df_dT"
   ]
  },
  {
   "cell_type": "markdown",
   "id": "9e84c2ce-b04a-4d6d-9c87-1c055ed1a155",
   "metadata": {},
   "source": [
    "### Second derivatives"
   ]
  },
  {
   "cell_type": "markdown",
   "id": "fdd81256-419e-400b-9087-47e163e52403",
   "metadata": {},
   "source": [
    "$\\partial^2 f / \\partial \\rho^2$"
   ]
  },
  {
   "cell_type": "code",
   "execution_count": 48,
   "id": "91a3f977-141e-46f6-a2d7-17c29c061141",
   "metadata": {},
   "outputs": [
    {
     "data": {
      "image/png": "[encoded data removed]",
      "text/latex": [
       "$\\displaystyle \\left(\\frac{\\partial}{\\partial \\rho} \\eta{\\left(\\rho,T \\right)}\\right)^{2} \\frac{\\partial^{2}}{\\partial \\eta{\\left(\\rho,T \\right)}^{2}} f{\\left(\\eta{\\left(\\rho,T \\right)},\\beta{\\left(T \\right)} \\right)} + \\frac{\\partial^{2}}{\\partial \\rho^{2}} \\eta{\\left(\\rho,T \\right)} \\frac{\\partial}{\\partial \\eta{\\left(\\rho,T \\right)}} f{\\left(\\eta{\\left(\\rho,T \\right)},\\beta{\\left(T \\right)} \\right)}$"
      ],
      "text/plain": [
       "             2     2                          2                                ↪\n",
       "⎛∂          ⎞     ∂                          ∂               ∂                 ↪\n",
       "⎜──(η(ρ, T))⎟ ⋅─────────(f(η(ρ, T), β(T))) + ───(η(ρ, T))⋅────────(f(η(ρ, T),  ↪\n",
       "⎝∂ρ         ⎠          2                       2          ∂η(ρ, T)             ↪\n",
       "               ∂η(ρ, T)                      ∂ρ                                ↪\n",
       "\n",
       "↪       \n",
       "↪       \n",
       "↪ β(T)))\n",
       "↪       \n",
       "↪       "
      ]
     },
     "execution_count": 48,
     "metadata": {},
     "output_type": "execute_result"
    }
   ],
   "source": [
    "d2f_drho2 = diff(f_expr, rho, rho)\n",
    "d2f_drho2"
   ]
  },
  {
   "cell_type": "markdown",
   "id": "b2894d22-26f0-4b73-b8cb-b034c8e074b0",
   "metadata": {},
   "source": [
    "$\\partial^2 f /\\partial T^2$"
   ]
  },
  {
   "cell_type": "code",
   "execution_count": 50,
   "id": "047c426e-c570-42f4-be8f-9f53a33bb481",
   "metadata": {},
   "outputs": [
    {
     "data": {
      "image/png": "[encoded data removed]",
      "text/latex": [
       "$\\displaystyle a^{2} \\left. \\frac{\\partial^{2}}{\\partial \\xi^{2}} f{\\left(\\eta{\\left(\\rho,T \\right)},\\xi \\right)} \\right|_{\\substack{ \\xi=T a }} + 2 a \\frac{\\partial}{\\partial T} \\eta{\\left(\\rho,T \\right)} \\left. \\frac{\\partial^{2}}{\\partial \\eta{\\left(\\rho,T \\right)}\\partial \\xi} f{\\left(\\eta{\\left(\\rho,T \\right)},\\xi \\right)} \\right|_{\\substack{ \\xi=T a }} + \\left(\\frac{\\partial}{\\partial T} \\eta{\\left(\\rho,T \\right)}\\right)^{2} \\frac{\\partial^{2}}{\\partial \\eta{\\left(\\rho,T \\right)}^{2}} f{\\left(\\eta{\\left(\\rho,T \\right)},T a \\right)} + \\frac{\\partial^{2}}{\\partial T^{2}} \\eta{\\left(\\rho,T \\right)} \\frac{\\partial}{\\partial \\eta{\\left(\\rho,T \\right)}} f{\\left(\\eta{\\left(\\rho,T \\right)},T a \\right)}$"
      ],
      "text/plain": [
       "   ⎛ 2                ⎞│                        ⎛     2                    ⎞│  ↪\n",
       " 2 ⎜∂                 ⎟│            ∂           ⎜    ∂                     ⎟│  ↪\n",
       "a ⋅⎜───(f(η(ρ, T), ξ))⎟│      + 2⋅a⋅──(η(ρ, T))⋅⎜───────────(f(η(ρ, T), ξ))⎟│  ↪\n",
       "   ⎜  2               ⎟│            ∂T          ⎝∂η(ρ, T) ∂ξ               ⎠│ξ ↪\n",
       "   ⎝∂ξ                ⎠│ξ=T⋅a                                                  ↪\n",
       "\n",
       "↪                     2     2                         2                        ↪\n",
       "↪        ⎛∂          ⎞     ∂                         ∂               ∂         ↪\n",
       "↪      + ⎜──(η(ρ, T))⎟ ⋅─────────(f(η(ρ, T), T⋅a)) + ───(η(ρ, T))⋅────────(f(η ↪\n",
       "↪ =T⋅a   ⎝∂T         ⎠          2                      2          ∂η(ρ, T)     ↪\n",
       "↪                       ∂η(ρ, T)                     ∂T                        ↪\n",
       "\n",
       "↪              \n",
       "↪              \n",
       "↪ (ρ, T), T⋅a))\n",
       "↪              \n",
       "↪              "
      ]
     },
     "execution_count": 50,
     "metadata": {},
     "output_type": "execute_result"
    }
   ],
   "source": [
    "d2f_dT2 = diff(f_expr, T, T)\n",
    "simplify(d2f_dT2.subs(beta, a * T))"
   ]
  },
  {
   "cell_type": "markdown",
   "id": "9e63dd42-d6f2-4bbe-9c34-a2a97f3bd658",
   "metadata": {},
   "source": [
    "$\\partial^2 f /\\partial \\rho \\partial T$"
   ]
  },
  {
   "cell_type": "code",
   "execution_count": 52,
   "id": "c31eafce-6f81-4214-9944-4cb5a5671e42",
   "metadata": {
    "scrolled": true
   },
   "outputs": [
    {
     "data": {
      "image/png": "[encoded data removed]",
      "text/latex": [
       "$\\displaystyle \\frac{d}{d T} \\beta{\\left(T \\right)} \\frac{\\partial}{\\partial \\rho} \\eta{\\left(\\rho,T \\right)} \\frac{\\partial^{2}}{\\partial \\eta{\\left(\\rho,T \\right)}\\partial \\beta{\\left(T \\right)}} f{\\left(\\eta{\\left(\\rho,T \\right)},\\beta{\\left(T \\right)} \\right)} + \\frac{\\partial}{\\partial T} \\eta{\\left(\\rho,T \\right)} \\frac{\\partial}{\\partial \\rho} \\eta{\\left(\\rho,T \\right)} \\frac{\\partial^{2}}{\\partial \\eta{\\left(\\rho,T \\right)}^{2}} f{\\left(\\eta{\\left(\\rho,T \\right)},\\beta{\\left(T \\right)} \\right)} + \\frac{\\partial}{\\partial \\eta{\\left(\\rho,T \\right)}} f{\\left(\\eta{\\left(\\rho,T \\right)},\\beta{\\left(T \\right)} \\right)} \\frac{\\partial^{2}}{\\partial \\rho\\partial T} \\eta{\\left(\\rho,T \\right)}$"
      ],
      "text/plain": [
       "                            2                                                  ↪\n",
       "d        ∂                 ∂                            ∂           ∂          ↪\n",
       "──(β(T))⋅──(η(ρ, T))⋅──────────────(f(η(ρ, T), β(T))) + ──(η(ρ, T))⋅──(η(ρ, T) ↪\n",
       "dT       ∂ρ          ∂η(ρ, T) ∂β(T)                     ∂T          ∂ρ         ↪\n",
       "                                                                               ↪\n",
       "\n",
       "↪       2                                                      2           \n",
       "↪      ∂                             ∂                        ∂            \n",
       "↪ )⋅─────────(f(η(ρ, T), β(T))) + ────────(f(η(ρ, T), β(T)))⋅─────(η(ρ, T))\n",
       "↪           2                     ∂η(ρ, T)                   ∂ρ ∂T         \n",
       "↪   ∂η(ρ, T)                                                               "
      ]
     },
     "execution_count": 52,
     "metadata": {},
     "output_type": "execute_result"
    }
   ],
   "source": [
    "d2f_drhodT = diff(f_expr, rho, T)\n",
    "simplify(d2f_drhodT)"
   ]
  },
  {
   "cell_type": "markdown",
   "id": "24cc08f4-3eb8-45bf-858c-7116f7c79056",
   "metadata": {},
   "source": [
    "## Now thermodynamic derivatives"
   ]
  },
  {
   "cell_type": "markdown",
   "id": "85a415fb-5d70-416e-9041-a1114517fab2",
   "metadata": {},
   "source": [
    "We just need the derivatives with respect to $\\eta$ and $\\beta$, so we can apply the chain rule.\n",
    "\n",
    "Note: $E$ here is $\\rho e$, where $e$ is the specific thermal energy."
   ]
  },
  {
   "cell_type": "code",
   "execution_count": 53,
   "id": "e28f4b71-213a-47d3-9093-efb1c613be7f",
   "metadata": {},
   "outputs": [],
   "source": [
    "A, B = symbols(\"A B\", constant=True)"
   ]
  },
  {
   "cell_type": "markdown",
   "id": "c81822a7-5899-4589-b9f4-75f7e9358790",
   "metadata": {},
   "source": [
    "### $p_e$"
   ]
  },
  {
   "cell_type": "code",
   "execution_count": 56,
   "id": "ff35dc3a-184c-402c-9486-76f6fe8d7ae1",
   "metadata": {},
   "outputs": [
    {
     "data": {
      "image/png": "[encoded data removed]",
      "text/latex": [
       "$\\displaystyle A \\left(F_{3/2}{\\left(\\eta{\\left(\\rho,T \\right)},\\beta{\\left(T \\right)} \\right)} + \\frac{F_{5/2}{\\left(\\eta{\\left(\\rho,T \\right)},\\beta{\\left(T \\right)} \\right)} \\beta{\\left(T \\right)}}{2}\\right) \\beta^{\\frac{5}{2}}{\\left(T \\right)}$"
      ],
      "text/plain": [
       "  ⎛                         F_{5/2}(η(ρ, T), β(T))⋅β(T)⎞  5/2   \n",
       "A⋅⎜F_{3/2}(η(ρ, T), β(T)) + ───────────────────────────⎟⋅β   (T)\n",
       "  ⎝                                      2             ⎠        "
      ]
     },
     "execution_count": 56,
     "metadata": {},
     "output_type": "execute_result"
    }
   ],
   "source": [
    "p_e_full = A * beta**Rational(5,2) * (F32_expr + Rational(1, 2) * beta * F52_expr)\n",
    "p_e_full"
   ]
  },
  {
   "cell_type": "markdown",
   "id": "8864916f-3ce4-4043-8658-0058246b6051",
   "metadata": {},
   "source": [
    "$\\partial p_e/\\partial \\eta$"
   ]
  },
  {
   "cell_type": "code",
   "execution_count": 58,
   "id": "d2ab5d54-a90e-4d65-b342-932a4a597661",
   "metadata": {},
   "outputs": [
    {
     "data": {
      "image/png": "[encoded data removed]",
      "text/latex": [
       "$\\displaystyle A \\left(\\frac{\\beta{\\left(T \\right)} \\frac{\\partial}{\\partial \\eta{\\left(\\rho,T \\right)}} F_{5/2}{\\left(\\eta{\\left(\\rho,T \\right)},\\beta{\\left(T \\right)} \\right)}}{2} + \\frac{\\partial}{\\partial \\eta{\\left(\\rho,T \\right)}} F_{3/2}{\\left(\\eta{\\left(\\rho,T \\right)},\\beta{\\left(T \\right)} \\right)}\\right) \\beta^{\\frac{5}{2}}{\\left(T \\right)}$"
      ],
      "text/plain": [
       "  ⎛        ∂                                                               ⎞   ↪\n",
       "  ⎜β(T)⋅────────(F_{5/2}(η(ρ, T), β(T)))                                   ⎟   ↪\n",
       "  ⎜     ∂η(ρ, T)                              ∂                            ⎟   ↪\n",
       "A⋅⎜───────────────────────────────────── + ────────(F_{3/2}(η(ρ, T), β(T)))⎟⋅β ↪\n",
       "  ⎝                  2                     ∂η(ρ, T)                        ⎠   ↪\n",
       "\n",
       "↪       \n",
       "↪       \n",
       "↪ 5/2   \n",
       "↪    (T)\n",
       "↪       "
      ]
     },
     "execution_count": 58,
     "metadata": {},
     "output_type": "execute_result"
    }
   ],
   "source": [
    "dpe_deta = diff(p_e_full, eta)\n",
    "dpe_deta"
   ]
  },
  {
   "cell_type": "markdown",
   "id": "e158c86d-065b-47a1-9062-0e21527e6e30",
   "metadata": {},
   "source": [
    "$\\partial p_e /\\partial \\beta$"
   ]
  },
  {
   "cell_type": "code",
   "execution_count": 59,
   "id": "65060ebb-fb21-4f00-b3c9-4382bd5e7e20",
   "metadata": {},
   "outputs": [
    {
     "data": {
      "image/png": "[encoded data removed]",
      "text/latex": [
       "$\\displaystyle \\frac{A \\left(10 F_{3/2}{\\left(\\eta{\\left(\\rho,T \\right)},\\beta{\\left(T \\right)} \\right)} + 7 F_{5/2}{\\left(\\eta{\\left(\\rho,T \\right)},\\beta{\\left(T \\right)} \\right)} \\beta{\\left(T \\right)} + 2 \\beta^{2}{\\left(T \\right)} \\frac{\\partial}{\\partial \\beta{\\left(T \\right)}} F_{5/2}{\\left(\\eta{\\left(\\rho,T \\right)},\\beta{\\left(T \\right)} \\right)} + 4 \\beta{\\left(T \\right)} \\frac{\\partial}{\\partial \\beta{\\left(T \\right)}} F_{3/2}{\\left(\\eta{\\left(\\rho,T \\right)},\\beta{\\left(T \\right)} \\right)}\\right) \\beta^{\\frac{3}{2}}{\\left(T \\right)}}{4}$"
      ],
      "text/plain": [
       "  ⎛                                                               2      ∂     ↪\n",
       "A⋅⎜10⋅F_{3/2}(η(ρ, T), β(T)) + 7⋅F_{5/2}(η(ρ, T), β(T))⋅β(T) + 2⋅β (T)⋅─────(F ↪\n",
       "  ⎝                                                                    ∂β(T)   ↪\n",
       "────────────────────────────────────────────────────────────────────────────── ↪\n",
       "                                                                         4     ↪\n",
       "\n",
       "↪                                   ∂                          ⎞  3/2   \n",
       "↪ _{5/2}(η(ρ, T), β(T))) + 4⋅β(T)⋅─────(F_{3/2}(η(ρ, T), β(T)))⎟⋅β   (T)\n",
       "↪                                 ∂β(T)                        ⎠        \n",
       "↪ ──────────────────────────────────────────────────────────────────────\n",
       "↪                                                                       "
      ]
     },
     "execution_count": 59,
     "metadata": {},
     "output_type": "execute_result"
    }
   ],
   "source": [
    "dpe_dbeta = diff(p_e_full, beta)\n",
    "simplify(dpe_dbeta)"
   ]
  },
  {
   "cell_type": "markdown",
   "id": "881e9b7f-869a-4314-b737-7137fc69b19e",
   "metadata": {},
   "source": [
    "$\\partial^2 p_e / \\partial \\eta^2$"
   ]
  },
  {
   "cell_type": "code",
   "execution_count": 60,
   "id": "74b92a4f-e938-4ca3-9aa6-d0dec80ce047",
   "metadata": {},
   "outputs": [
    {
     "data": {
      "image/png": "[encoded data removed]",
      "text/latex": [
       "$\\displaystyle A \\left(\\frac{\\beta{\\left(T \\right)} \\frac{\\partial^{2}}{\\partial \\eta{\\left(\\rho,T \\right)}^{2}} F_{5/2}{\\left(\\eta{\\left(\\rho,T \\right)},\\beta{\\left(T \\right)} \\right)}}{2} + \\frac{\\partial^{2}}{\\partial \\eta{\\left(\\rho,T \\right)}^{2}} F_{3/2}{\\left(\\eta{\\left(\\rho,T \\right)},\\beta{\\left(T \\right)} \\right)}\\right) \\beta^{\\frac{5}{2}}{\\left(T \\right)}$"
      ],
      "text/plain": [
       "  ⎛         2                                                                ⎞ ↪\n",
       "  ⎜        ∂                                                                 ⎟ ↪\n",
       "  ⎜β(T)⋅─────────(F_{5/2}(η(ρ, T), β(T)))                                    ⎟ ↪\n",
       "  ⎜             2                               2                            ⎟ ↪\n",
       "  ⎜     ∂η(ρ, T)                               ∂                             ⎟ ↪\n",
       "A⋅⎜────────────────────────────────────── + ─────────(F_{3/2}(η(ρ, T), β(T)))⎟ ↪\n",
       "  ⎜                  2                              2                        ⎟ ↪\n",
       "  ⎝                                         ∂η(ρ, T)                         ⎠ ↪\n",
       "\n",
       "↪         \n",
       "↪         \n",
       "↪         \n",
       "↪         \n",
       "↪   5/2   \n",
       "↪ ⋅β   (T)\n",
       "↪         \n",
       "↪         "
      ]
     },
     "execution_count": 60,
     "metadata": {},
     "output_type": "execute_result"
    }
   ],
   "source": [
    "d2pe_deta2 = diff(p_e_full, eta, eta)\n",
    "d2pe_deta2"
   ]
  },
  {
   "cell_type": "markdown",
   "id": "72443782-27f8-44aa-98cd-3bdd14bf1f40",
   "metadata": {},
   "source": [
    "$\\partial^2 p_e / \\partial \\beta^2$"
   ]
  },
  {
   "cell_type": "code",
   "execution_count": 62,
   "id": "ec4aec6a-e8d4-4e5b-adb3-48fb1a81907a",
   "metadata": {},
   "outputs": [
    {
     "data": {
      "image/png": "[encoded data removed]",
      "text/latex": [
       "$\\displaystyle \\frac{A \\left(30 F_{3/2}{\\left(\\eta{\\left(\\rho,T \\right)},\\beta{\\left(T \\right)} \\right)} + 35 F_{5/2}{\\left(\\eta{\\left(\\rho,T \\right)},\\beta{\\left(T \\right)} \\right)} \\beta{\\left(T \\right)} + 4 \\beta^{3}{\\left(T \\right)} \\frac{\\partial^{2}}{\\partial \\beta{\\left(T \\right)}^{2}} F_{5/2}{\\left(\\eta{\\left(\\rho,T \\right)},\\beta{\\left(T \\right)} \\right)} + 8 \\beta^{2}{\\left(T \\right)} \\frac{\\partial^{2}}{\\partial \\beta{\\left(T \\right)}^{2}} F_{3/2}{\\left(\\eta{\\left(\\rho,T \\right)},\\beta{\\left(T \\right)} \\right)} + 28 \\beta^{2}{\\left(T \\right)} \\frac{\\partial}{\\partial \\beta{\\left(T \\right)}} F_{5/2}{\\left(\\eta{\\left(\\rho,T \\right)},\\beta{\\left(T \\right)} \\right)} + 40 \\beta{\\left(T \\right)} \\frac{\\partial}{\\partial \\beta{\\left(T \\right)}} F_{3/2}{\\left(\\eta{\\left(\\rho,T \\right)},\\beta{\\left(T \\right)} \\right)}\\right) \\sqrt{\\beta{\\left(T \\right)}}}{8}$"
      ],
      "text/plain": [
       "  ⎛                                                                        2   ↪\n",
       "  ⎜                                                                3      ∂    ↪\n",
       "A⋅⎜30⋅F_{3/2}(η(ρ, T), β(T)) + 35⋅F_{5/2}(η(ρ, T), β(T))⋅β(T) + 4⋅β (T)⋅────── ↪\n",
       "  ⎜                                                                          2 ↪\n",
       "  ⎝                                                                     ∂β(T)  ↪\n",
       "────────────────────────────────────────────────────────────────────────────── ↪\n",
       "                                                                               ↪\n",
       "\n",
       "↪                                       2                                      ↪\n",
       "↪                               2      ∂                                  2    ↪\n",
       "↪ (F_{5/2}(η(ρ, T), β(T))) + 8⋅β (T)⋅──────(F_{3/2}(η(ρ, T), β(T))) + 28⋅β (T) ↪\n",
       "↪                                         2                                    ↪\n",
       "↪                                    ∂β(T)                                     ↪\n",
       "↪ ──────────────────────────────────────────────────────────────────────────── ↪\n",
       "↪                                       8                                      ↪\n",
       "\n",
       "↪                                                                       ⎞      ↪\n",
       "↪    ∂                                       ∂                          ⎟   __ ↪\n",
       "↪ ⋅─────(F_{5/2}(η(ρ, T), β(T))) + 40⋅β(T)⋅─────(F_{3/2}(η(ρ, T), β(T)))⎟⋅╲╱ β ↪\n",
       "↪  ∂β(T)                                   ∂β(T)                        ⎟      ↪\n",
       "↪                                                                       ⎠      ↪\n",
       "↪ ──────────────────────────────────────────────────────────────────────────── ↪\n",
       "↪                                                                              ↪\n",
       "\n",
       "↪     \n",
       "↪ ____\n",
       "↪ (T) \n",
       "↪     \n",
       "↪     \n",
       "↪ ────\n",
       "↪     "
      ]
     },
     "execution_count": 62,
     "metadata": {},
     "output_type": "execute_result"
    }
   ],
   "source": [
    "d2pe_dbeta2 = diff(p_e_full, beta, beta)\n",
    "simplify(d2pe_dbeta2)"
   ]
  },
  {
   "cell_type": "markdown",
   "id": "8990a9e6-f99d-41b4-99e6-8968c8205a62",
   "metadata": {},
   "source": [
    "$\\partial^2 p_e /\\partial \\eta\\partial \\beta$"
   ]
  },
  {
   "cell_type": "code",
   "execution_count": 64,
   "id": "f8f4c043-bbc5-487e-a774-514cfaeac422",
   "metadata": {},
   "outputs": [
    {
     "data": {
      "image/png": "[encoded data removed]",
      "text/latex": [
       "$\\displaystyle \\frac{A \\left(2 \\beta^{2}{\\left(T \\right)} \\frac{\\partial^{2}}{\\partial \\eta{\\left(\\rho,T \\right)}\\partial \\beta{\\left(T \\right)}} F_{5/2}{\\left(\\eta{\\left(\\rho,T \\right)},\\beta{\\left(T \\right)} \\right)} + 7 \\beta{\\left(T \\right)} \\frac{\\partial}{\\partial \\eta{\\left(\\rho,T \\right)}} F_{5/2}{\\left(\\eta{\\left(\\rho,T \\right)},\\beta{\\left(T \\right)} \\right)} + 4 \\beta{\\left(T \\right)} \\frac{\\partial^{2}}{\\partial \\eta{\\left(\\rho,T \\right)}\\partial \\beta{\\left(T \\right)}} F_{3/2}{\\left(\\eta{\\left(\\rho,T \\right)},\\beta{\\left(T \\right)} \\right)} + 10 \\frac{\\partial}{\\partial \\eta{\\left(\\rho,T \\right)}} F_{3/2}{\\left(\\eta{\\left(\\rho,T \\right)},\\beta{\\left(T \\right)} \\right)}\\right) \\beta^{\\frac{3}{2}}{\\left(T \\right)}}{4}$"
      ],
      "text/plain": [
       "  ⎛               2                                                            ↪\n",
       "  ⎜   2          ∂                                            ∂                ↪\n",
       "A⋅⎜2⋅β (T)⋅──────────────(F_{5/2}(η(ρ, T), β(T))) + 7⋅β(T)⋅────────(F_{5/2}(η( ↪\n",
       "  ⎝        ∂η(ρ, T) ∂β(T)                                  ∂η(ρ, T)            ↪\n",
       "────────────────────────────────────────────────────────────────────────────── ↪\n",
       "                                                                               ↪\n",
       "\n",
       "↪                               2                                              ↪\n",
       "↪                              ∂                                        ∂      ↪\n",
       "↪ ρ, T), β(T))) + 4⋅β(T)⋅──────────────(F_{3/2}(η(ρ, T), β(T))) + 10⋅────────( ↪\n",
       "↪                        ∂η(ρ, T) ∂β(T)                              ∂η(ρ, T)  ↪\n",
       "↪ ──────────────────────────────────────────────────────────────────────────── ↪\n",
       "↪               4                                                              ↪\n",
       "\n",
       "↪                        ⎞        \n",
       "↪                        ⎟  3/2   \n",
       "↪ F_{3/2}(η(ρ, T), β(T)))⎟⋅β   (T)\n",
       "↪                        ⎠        \n",
       "↪ ────────────────────────────────\n",
       "↪                                 "
      ]
     },
     "execution_count": 64,
     "metadata": {},
     "output_type": "execute_result"
    }
   ],
   "source": [
    "d2pe_detadbeta = diff(p_e_full, eta, beta)\n",
    "simplify(d2pe_detadbeta)"
   ]
  },
  {
   "cell_type": "markdown",
   "id": "00be3306-dc23-4351-89a2-66d084329a1f",
   "metadata": {},
   "source": [
    "### $e_e$"
   ]
  },
  {
   "cell_type": "code",
   "execution_count": null,
   "id": "64a9aa43-dd0e-42f3-9588-9cc39aa36f90",
   "metadata": {},
   "outputs": [],
   "source": [
    "E_e_full = B * beta**Rational(5,2) * (F32_expr + beta * F52_expr)"
   ]
  },
  {
   "cell_type": "code",
   "execution_count": null,
   "id": "79509e90-0701-4e16-b92c-9685fadc21ee",
   "metadata": {},
   "outputs": [],
   "source": [
    "dEe_deta = diff(E_e_full, eta)\n",
    "simplify(dEe_deta)"
   ]
  },
  {
   "cell_type": "code",
   "execution_count": null,
   "id": "543afb7b-0477-4a43-9d7e-3ceb211694b3",
   "metadata": {},
   "outputs": [],
   "source": [
    "dEe_dbeta = diff(E_e_full, beta)\n",
    "simplify(dEe_dbeta)"
   ]
  },
  {
   "cell_type": "markdown",
   "id": "13d92fad-4dd8-444c-bce5-599109541147",
   "metadata": {},
   "source": [
    "### positrons"
   ]
  },
  {
   "cell_type": "code",
   "execution_count": null,
   "id": "9eb6f6f7-0325-4993-b1d6-f6548f5d0347",
   "metadata": {},
   "outputs": [],
   "source": [
    "Erm = symbols(r\"E_{rm}\", constants=True)"
   ]
  },
  {
   "cell_type": "code",
   "execution_count": null,
   "id": "2cde5108-9d57-4f94-ae83-064a1ad35e08",
   "metadata": {},
   "outputs": [],
   "source": [
    "p_p_full = A * beta**Rational(5,2) * (F32_tilde_expr + Rational(1,2) * beta * F52_tilde_expr)\n",
    "E_p_full = B * beta**Rational(5,2) * (F32_tilde_expr + beta * F52_tilde_expr) + 2 * Erm * n_p_full"
   ]
  },
  {
   "cell_type": "markdown",
   "id": "3177a4ae-8702-47de-982b-c10c38100b7e",
   "metadata": {},
   "source": [
    "### $p_p$"
   ]
  },
  {
   "cell_type": "code",
   "execution_count": null,
   "id": "5d432617-ffe2-4f79-820d-72d763432b41",
   "metadata": {},
   "outputs": [],
   "source": [
    "dpp_deta = diff(p_p_full, eta)\n",
    "simplify(dpp_deta)"
   ]
  },
  {
   "cell_type": "code",
   "execution_count": null,
   "id": "7bc6f3df-c93c-4d3d-ad3a-2085b7bd7905",
   "metadata": {},
   "outputs": [],
   "source": [
    "dpp_dbeta = diff(p_p_full, beta)\n",
    "simplify(dpp_dbeta)"
   ]
  },
  {
   "cell_type": "markdown",
   "id": "38541def-bb09-4930-bdb6-bf6d88965bf6",
   "metadata": {},
   "source": [
    "### $e_p$"
   ]
  },
  {
   "cell_type": "markdown",
   "id": "df3516ac-5893-4736-b3a4-59236cc3c0f4",
   "metadata": {},
   "source": [
    "The full $E_p$ includes the rest mass contribution of the positrons that were created.  We don't need to explicitly differentiate this here, since that is just proportional to $n_p$, which we already know the derivatives of.  Therefore, we'll work with just the remaining part."
   ]
  },
  {
   "cell_type": "code",
   "execution_count": null,
   "id": "d126989d-2b55-45f9-8c51-1490e5e665e5",
   "metadata": {},
   "outputs": [],
   "source": [
    "E_p_partial = B * beta**Rational(5,2) * (F32_tilde_expr + beta * F52_tilde_expr)"
   ]
  },
  {
   "cell_type": "code",
   "execution_count": null,
   "id": "196de620-f7f7-490d-9658-4e960b501d75",
   "metadata": {},
   "outputs": [],
   "source": [
    "dEp_deta = diff(E_p_partial, eta)\n",
    "simplify(dEp_deta)"
   ]
  },
  {
   "cell_type": "code",
   "execution_count": null,
   "id": "53129320-202c-479b-806d-df49e16d9243",
   "metadata": {},
   "outputs": [],
   "source": [
    "dEp_dbeta = diff(E_p_partial, beta)\n",
    "simplify(dEp_dbeta)"
   ]
  },
  {
   "cell_type": "markdown",
   "id": "7cca0cca-d89f-429d-b662-16d73ebda711",
   "metadata": {},
   "source": [
    "## Alternate approach"
   ]
  },
  {
   "cell_type": "markdown",
   "id": "ea790c2e-fb27-432b-a182-dd930a5c500e",
   "metadata": {},
   "source": [
    "We could have SymPy do the chain rule for us itself, e.g., compute $\\partial p_e / \\partial \\rho |_T$ directly as:"
   ]
  },
  {
   "cell_type": "code",
   "execution_count": null,
   "id": "1e9f0a81-c344-4e5a-8a78-e0c072b70181",
   "metadata": {},
   "outputs": [],
   "source": [
    "dpe_drho = diff(p_e_full, rho)\n",
    "dpe_drho"
   ]
  },
  {
   "cell_type": "markdown",
   "id": "1f7fe71d-1933-4940-a530-e0b69e7c2b31",
   "metadata": {},
   "source": [
    "but these expressions start to get very complex (see below), and it is easier to just build the terms that go into the chainrule separately, as above."
   ]
  },
  {
   "cell_type": "code",
   "execution_count": null,
   "id": "ceb80a0a-1289-489c-979a-5a5aaac362fd",
   "metadata": {},
   "outputs": [],
   "source": [
    "dpe_dT = diff(p_e_full, T)\n",
    "simplify(dpe_dT)"
   ]
  },
  {
   "cell_type": "code",
   "execution_count": null,
   "id": "b518b607-6f89-49e2-9265-b89388b52b1a",
   "metadata": {},
   "outputs": [],
   "source": []
  }
 ],
 "metadata": {
  "kernelspec": {
   "display_name": "Python 3 (ipykernel)",
   "language": "python",
   "name": "python3"
  },
  "language_info": {
   "codemirror_mode": {
    "name": "ipython",
    "version": 3
   },
   "file_extension": ".py",
   "mimetype": "text/x-python",
   "name": "python",
   "nbconvert_exporter": "python",
   "pygments_lexer": "ipython3",
   "version": "3.13.5"
  }
 },
 "nbformat": 4,
 "nbformat_minor": 5
}
