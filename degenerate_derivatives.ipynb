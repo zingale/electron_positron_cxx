{
 "cells": [
  {
   "cell_type": "markdown",
   "id": "cfe2a0fd-af93-4c1b-a152-4ca07430a9d6",
   "metadata": {},
   "source": [
    "# Electron degeneracy derivatives"
   ]
  },
  {
   "cell_type": "markdown",
   "id": "dac14c2d-ddc2-4ba2-837c-32b9cb740730",
   "metadata": {},
   "source": [
    "Compute the various thermodynamic derivatives of the electron-positron number density, pressure, and energy.\n",
    "In general, each quantity is a function of various Fermi-Dirac integrals of the form:\n",
    "\n",
    "$$F_k(\\eta, \\beta) = \\int_0^\\infty\n",
    "           \\frac{x^k [1 + (x\\beta/2)]^{1/2}}{e^{x-\\eta} + 1} dx$$\n",
    "\n",
    "where $\\beta = kT / (m_e c^2)$ and $\\eta = (\\mu - m_e c^2)/(kT)$\n",
    "\n",
    "The expressions we use for $n_e$, $p_e$, $e_e$, and their positron equivalents come from Timmes & Arnett (1999), but note that their expression for $n_e$ is missing a $\\beta$ factor.\n",
    "\n",
    "In general, we compute the derivatives with respect to $\\rho$ and $T$ via the chain rule, which means that we need $d\\eta/d\\rho |_T$, $d\\eta/dT|_\\rho$, and $d\\beta/dT|_\\rho = k / (m_e c^2)$ (note that $d\\beta /d\\rho|_T = 0)$."
   ]
  },
  {
   "cell_type": "code",
   "execution_count": 1,
   "id": "22e692da-a969-4ece-bc3d-1dff7758163f",
   "metadata": {},
   "outputs": [],
   "source": [
    "from sympy import init_session"
   ]
  },
  {
   "cell_type": "code",
   "execution_count": 2,
   "id": "19c2aadc-1707-4e1c-a387-fc9c946e8eaf",
   "metadata": {},
   "outputs": [
    {
     "name": "stdout",
     "output_type": "stream",
     "text": [
      "IPython console for SymPy 1.14.0 (Python 3.13.5-64-bit) (ground types: gmpy)\n",
      "\n",
      "These commands were executed:\n",
      ">>> from sympy import *\n",
      ">>> x, y, z, t = symbols('x y z t')\n",
      ">>> k, m, n = symbols('k m n', integer=True)\n",
      ">>> f, g, h = symbols('f g h', cls=Function)\n",
      ">>> init_printing()\n",
      "\n",
      "Documentation can be found at https://docs.sympy.org/1.14.0/\n",
      "\n"
     ]
    }
   ],
   "source": [
    "init_session()"
   ]
  },
  {
   "cell_type": "markdown",
   "id": "dbfc464f-7772-43e4-9431-2cdee067ab19",
   "metadata": {},
   "source": [
    "## Setup the dependencies"
   ]
  },
  {
   "cell_type": "markdown",
   "id": "7a91e461-e4fb-4ee2-879b-1d24fec854b2",
   "metadata": {},
   "source": [
    "We'll have $\\rho$ and $T$ be the independent variables."
   ]
  },
  {
   "cell_type": "code",
   "execution_count": 3,
   "id": "ac553bd8-4610-4634-863a-88e6f35a582b",
   "metadata": {},
   "outputs": [],
   "source": [
    "# Independent variables\n",
    "rho, T = symbols('rho T')"
   ]
  },
  {
   "cell_type": "markdown",
   "id": "b34f920c-90bb-4385-abf0-bb953e95524e",
   "metadata": {},
   "source": [
    "We'll express $\\eta = \\eta(\\rho, T)$ and $\\beta = \\beta(T)$ (since $\\beta = kT / (m_e c^2)$).\n",
    "\n",
    "When simplifying, we'll express $\\beta = a T$ to evaluate the derivatives for us."
   ]
  },
  {
   "cell_type": "code",
   "execution_count": 4,
   "id": "0ef34254-273a-45bb-8648-f405f7c04dd7",
   "metadata": {},
   "outputs": [],
   "source": [
    "a = symbols(\"a\", real=-True, positive=True)"
   ]
  },
  {
   "cell_type": "code",
   "execution_count": 5,
   "id": "74ef71fb-defe-4c85-9fc2-14443bbceef9",
   "metadata": {},
   "outputs": [],
   "source": [
    "eta = Function('eta')(rho, T)\n",
    "beta = Function('beta')(T)"
   ]
  },
  {
   "cell_type": "code",
   "execution_count": 6,
   "id": "d6f5c426-1daf-4073-8e2c-2ad1d32cc24a",
   "metadata": {},
   "outputs": [],
   "source": [
    "# for positrons, we will use eta_tilde in the expressions\n",
    "eta_tilde_expr = -eta - 2 / beta"
   ]
  },
  {
   "cell_type": "markdown",
   "id": "7f2ae0dc-03d3-4098-9710-771b87786642",
   "metadata": {},
   "source": [
    "## Derivatives of $\\eta$ with respect to $\\rho$ and $T$"
   ]
  },
  {
   "cell_type": "markdown",
   "id": "2d227845-fc80-4cd3-88a1-43f060e82918",
   "metadata": {},
   "source": [
    "Now, we'll write the electron and positron densities as functions of the symbol $\\eta$ and $\\beta$"
   ]
  },
  {
   "cell_type": "code",
   "execution_count": 7,
   "id": "2f8da795-cd7a-40c4-86e4-56eda895799d",
   "metadata": {},
   "outputs": [],
   "source": [
    "# dummy variables for the arguments\n",
    "eta_sym, beta_sym = symbols('eta beta')\n",
    "n_e_func = Function('n_e')(eta_sym, beta_sym)\n",
    "n_p_func = Function('n_p')(eta_sym, beta_sym)\n",
    "\n",
    "# Now substitute eta(rho, T) and beta(T) into n_e and n_p\n",
    "n_e_expr = n_e_func.subs({eta_sym: eta, beta_sym: beta})\n",
    "n_p_expr = n_p_func.subs({eta_sym: eta, beta_sym: beta})"
   ]
  },
  {
   "cell_type": "markdown",
   "id": "5053e4c8-8754-4b24-b2c4-530f9f4e060b",
   "metadata": {},
   "source": [
    "Now we want to construct the expression\n",
    "\n",
    "$$n_e - n_p = N_A \\frac{Z}{A} \\rho$$\n",
    "\n",
    "we'll do this by defining the left and righthand sides separately."
   ]
  },
  {
   "cell_type": "code",
   "execution_count": 8,
   "id": "f393d2e7-cb71-4c0f-93cb-1b1e5f0d368f",
   "metadata": {},
   "outputs": [],
   "source": [
    "lhs_expr = n_e_expr - n_p_expr"
   ]
  },
  {
   "cell_type": "code",
   "execution_count": 9,
   "id": "e085e70c-9410-43e8-ad17-4d329be87a7e",
   "metadata": {},
   "outputs": [],
   "source": [
    "N_A, Z, A = symbols('N_A Z A', constant=True)\n",
    "rhs_expr = (N_A * Z / A) * rho"
   ]
  },
  {
   "cell_type": "markdown",
   "id": "1cd51f4d-7019-49fd-8aa2-1fdcbbb70ae2",
   "metadata": {},
   "source": [
    "### Compute $\\partial \\eta/\\partial T$"
   ]
  },
  {
   "cell_type": "code",
   "execution_count": 10,
   "id": "51f0ccf4-f968-4cb6-8255-abb0944b8136",
   "metadata": {},
   "outputs": [
    {
     "data": {
      "image/png": "[encoded data removed]",
      "text/latex": [
       "$\\displaystyle \\frac{a \\left(- \\left. \\frac{\\partial}{\\partial \\xi} n_{e}{\\left(\\eta{\\left(\\rho,T \\right)},\\xi \\right)} \\right|_{\\substack{ \\xi=T a }} + \\left. \\frac{\\partial}{\\partial \\xi} n_{p}{\\left(\\eta{\\left(\\rho,T \\right)},\\xi \\right)} \\right|_{\\substack{ \\xi=T a }}\\right)}{\\frac{\\partial}{\\partial \\eta{\\left(\\rho,T \\right)}} n_{e}{\\left(\\eta{\\left(\\rho,T \\right)},T a \\right)} - \\frac{\\partial}{\\partial \\eta{\\left(\\rho,T \\right)}} n_{p}{\\left(\\eta{\\left(\\rho,T \\right)},T a \\right)}}$"
      ],
      "text/plain": [
       "  ⎛  ⎛∂                 ⎞│        ⎛∂                 ⎞│     ⎞\n",
       "a⋅⎜- ⎜──(nₑ(η(ρ, T), ξ))⎟│      + ⎜──(nₚ(η(ρ, T), ξ))⎟│     ⎟\n",
       "  ⎝  ⎝∂ξ                ⎠│ξ=T⋅a   ⎝∂ξ                ⎠│ξ=T⋅a⎠\n",
       "─────────────────────────────────────────────────────────────\n",
       "      ∂                            ∂                         \n",
       "   ────────(nₑ(η(ρ, T), T⋅a)) - ────────(nₚ(η(ρ, T), T⋅a))   \n",
       "   ∂η(ρ, T)                     ∂η(ρ, T)                     "
      ]
     },
     "execution_count": 10,
     "metadata": {},
     "output_type": "execute_result"
    }
   ],
   "source": [
    "lhs_diff = diff(lhs_expr, T)\n",
    "rhs_diff = diff(rhs_expr, T)\n",
    "\n",
    "# Solve for ∂η/∂T\n",
    "deta_dT = symbols('deta_dT')\n",
    "lhs_diff_sub = lhs_diff.subs(diff(eta, T), deta_dT)\n",
    "deta_dT_expr = solve(lhs_diff_sub - rhs_diff, deta_dT)[0]\n",
    "\n",
    "simplify(deta_dT_expr.subs(beta, a * T))"
   ]
  },
  {
   "cell_type": "markdown",
   "id": "a4e3ace2-e0db-4fd5-b04f-8ed2a027b98e",
   "metadata": {},
   "source": [
    "### Compute $\\partial \\eta / \\partial \\rho$"
   ]
  },
  {
   "cell_type": "code",
   "execution_count": 11,
   "id": "2cec834f-7b32-4b0c-8719-ef6c676b5e30",
   "metadata": {},
   "outputs": [
    {
     "data": {
      "image/png": "[encoded data removed]",
      "text/latex": [
       "$\\displaystyle \\frac{N_{A} Z}{A \\left(\\frac{\\partial}{\\partial \\eta{\\left(\\rho,T \\right)}} n_{e}{\\left(\\eta{\\left(\\rho,T \\right)},\\beta{\\left(T \\right)} \\right)} - \\frac{\\partial}{\\partial \\eta{\\left(\\rho,T \\right)}} n_{p}{\\left(\\eta{\\left(\\rho,T \\right)},\\beta{\\left(T \\right)} \\right)}\\right)}$"
      ],
      "text/plain": [
       "                            N_A⋅Z                            \n",
       "─────────────────────────────────────────────────────────────\n",
       "  ⎛   ∂                             ∂                       ⎞\n",
       "A⋅⎜────────(nₑ(η(ρ, T), β(T))) - ────────(nₚ(η(ρ, T), β(T)))⎟\n",
       "  ⎝∂η(ρ, T)                      ∂η(ρ, T)                   ⎠"
      ]
     },
     "execution_count": 11,
     "metadata": {},
     "output_type": "execute_result"
    }
   ],
   "source": [
    "lhs_diff = diff(lhs_expr, rho)\n",
    "rhs_diff = diff(rhs_expr, rho)\n",
    "\n",
    "# Solve for ∂η/∂ρ\n",
    "deta_drho = symbols('deta_drho')\n",
    "lhs_diff_sub = lhs_diff.subs(diff(eta, rho), deta_drho)\n",
    "deta_drho_expr = solve(lhs_diff_sub - rhs_diff, deta_drho)[0]\n",
    "\n",
    "deta_drho_expr"
   ]
  },
  {
   "cell_type": "markdown",
   "id": "5c0237d0-377d-4f6f-9605-57464fcaf903",
   "metadata": {},
   "source": [
    "### Compute $\\partial^2 \\eta/\\partial T^2$"
   ]
  },
  {
   "cell_type": "code",
   "execution_count": 12,
   "id": "5b44ce3d-da3e-4009-9438-21e7b01eb12f",
   "metadata": {},
   "outputs": [
    {
     "data": {
      "image/png": "[encoded data removed]",
      "text/latex": [
       "$\\displaystyle \\frac{- a^{2} \\left. \\frac{\\partial^{2}}{\\partial \\xi^{2}} n_{e}{\\left(\\eta{\\left(\\rho,T \\right)},\\xi \\right)} \\right|_{\\substack{ \\xi=T a }} + a^{2} \\left. \\frac{\\partial^{2}}{\\partial \\xi^{2}} n_{p}{\\left(\\eta{\\left(\\rho,T \\right)},\\xi \\right)} \\right|_{\\substack{ \\xi=T a }} - 2 a \\frac{\\partial}{\\partial T} \\eta{\\left(\\rho,T \\right)} \\left. \\frac{\\partial^{2}}{\\partial \\eta{\\left(\\rho,T \\right)}\\partial \\xi} n_{e}{\\left(\\eta{\\left(\\rho,T \\right)},\\xi \\right)} \\right|_{\\substack{ \\xi=T a }} + 2 a \\frac{\\partial}{\\partial T} \\eta{\\left(\\rho,T \\right)} \\left. \\frac{\\partial^{2}}{\\partial \\eta{\\left(\\rho,T \\right)}\\partial \\xi} n_{p}{\\left(\\eta{\\left(\\rho,T \\right)},\\xi \\right)} \\right|_{\\substack{ \\xi=T a }} - \\left(\\frac{\\partial}{\\partial T} \\eta{\\left(\\rho,T \\right)}\\right)^{2} \\frac{\\partial^{2}}{\\partial \\eta{\\left(\\rho,T \\right)}^{2}} n_{e}{\\left(\\eta{\\left(\\rho,T \\right)},T a \\right)} + \\left(\\frac{\\partial}{\\partial T} \\eta{\\left(\\rho,T \\right)}\\right)^{2} \\frac{\\partial^{2}}{\\partial \\eta{\\left(\\rho,T \\right)}^{2}} n_{p}{\\left(\\eta{\\left(\\rho,T \\right)},T a \\right)}}{\\frac{\\partial}{\\partial \\eta{\\left(\\rho,T \\right)}} n_{e}{\\left(\\eta{\\left(\\rho,T \\right)},T a \\right)} - \\frac{\\partial}{\\partial \\eta{\\left(\\rho,T \\right)}} n_{p}{\\left(\\eta{\\left(\\rho,T \\right)},T a \\right)}}$"
      ],
      "text/plain": [
       "     ⎛ 2                 ⎞│           ⎛ 2                 ⎞│                   ↪\n",
       "   2 ⎜∂                  ⎟│         2 ⎜∂                  ⎟│            ∂      ↪\n",
       "- a ⋅⎜───(nₑ(η(ρ, T), ξ))⎟│      + a ⋅⎜───(nₚ(η(ρ, T), ξ))⎟│      - 2⋅a⋅──(η(ρ ↪\n",
       "     ⎜  2                ⎟│           ⎜  2                ⎟│            ∂T     ↪\n",
       "     ⎝∂ξ                 ⎠│ξ=T⋅a      ⎝∂ξ                 ⎠│ξ=T⋅a              ↪\n",
       "────────────────────────────────────────────────────────────────────────────── ↪\n",
       "                                                                               ↪\n",
       "                                                                               ↪\n",
       "                                                                               ↪\n",
       "\n",
       "↪       ⎛     2                     ⎞│                        ⎛     2          ↪\n",
       "↪       ⎜    ∂                      ⎟│            ∂           ⎜    ∂           ↪\n",
       "↪ , T))⋅⎜───────────(nₑ(η(ρ, T), ξ))⎟│      + 2⋅a⋅──(η(ρ, T))⋅⎜───────────(nₚ( ↪\n",
       "↪       ⎝∂η(ρ, T) ∂ξ                ⎠│ξ=T⋅a       ∂T          ⎝∂η(ρ, T) ∂ξ     ↪\n",
       "↪                                                                              ↪\n",
       "↪ ──────────────────────────────────────────────────────────────────────────── ↪\n",
       "↪                              ∂                            ∂                  ↪\n",
       "↪                           ────────(nₑ(η(ρ, T), T⋅a)) - ────────(nₚ(η(ρ, T),  ↪\n",
       "↪                           ∂η(ρ, T)                     ∂η(ρ, T)              ↪\n",
       "\n",
       "↪             ⎞│                     2     2                                   ↪\n",
       "↪             ⎟│        ⎛∂          ⎞     ∂                          ⎛∂        ↪\n",
       "↪ η(ρ, T), ξ))⎟│      - ⎜──(η(ρ, T))⎟ ⋅─────────(nₑ(η(ρ, T), T⋅a)) + ⎜──(η(ρ,  ↪\n",
       "↪             ⎠│ξ=T⋅a   ⎝∂T         ⎠          2                     ⎝∂T       ↪\n",
       "↪                                      ∂η(ρ, T)                                ↪\n",
       "↪ ──────────────────────────────────────────────────────────────────────────── ↪\n",
       "↪                                                                              ↪\n",
       "↪ T⋅a))                                                                        ↪\n",
       "↪                                                                              ↪\n",
       "\n",
       "↪     2     2                      \n",
       "↪    ⎞     ∂                       \n",
       "↪ T))⎟ ⋅─────────(nₚ(η(ρ, T), T⋅a))\n",
       "↪    ⎠          2                  \n",
       "↪       ∂η(ρ, T)                   \n",
       "↪ ─────────────────────────────────\n",
       "↪                                  \n",
       "↪                                  \n",
       "↪                                  "
      ]
     },
     "execution_count": 12,
     "metadata": {},
     "output_type": "execute_result"
    }
   ],
   "source": [
    "lhs_diff = diff(lhs_expr, T, T)\n",
    "rhs_diff = diff(rhs_expr, T, T)\n",
    "\n",
    "# Solve for ∂²η/∂T²\n",
    "d2eta_dT2 = symbols('d2eta_dT2')\n",
    "lhs_diff_sub = lhs_diff.subs(diff(eta, T, T), d2eta_dT2)\n",
    "d2eta_dT2_expr = solve(lhs_diff_sub - rhs_diff, d2eta_dT2)[0]\n",
    "\n",
    "simplify(d2eta_dT2_expr.subs(beta, a * T))"
   ]
  },
  {
   "cell_type": "markdown",
   "id": "cf697314-f93f-4dc4-a4eb-03d45f04c079",
   "metadata": {},
   "source": [
    "### Compute $\\partial^2 \\eta /\\partial \\rho \\partial T$"
   ]
  },
  {
   "cell_type": "code",
   "execution_count": 13,
   "id": "e97a6adc-31d7-41d9-8cfa-138170c2e860",
   "metadata": {},
   "outputs": [
    {
     "data": {
      "image/png": "[encoded data removed]",
      "text/latex": [
       "$\\displaystyle \\frac{\\left(- a \\left. \\frac{\\partial^{2}}{\\partial \\eta{\\left(\\rho,T \\right)}\\partial \\xi} n_{e}{\\left(\\eta{\\left(\\rho,T \\right)},\\xi \\right)} \\right|_{\\substack{ \\xi=T a }} + a \\left. \\frac{\\partial^{2}}{\\partial \\eta{\\left(\\rho,T \\right)}\\partial \\xi} n_{p}{\\left(\\eta{\\left(\\rho,T \\right)},\\xi \\right)} \\right|_{\\substack{ \\xi=T a }} - \\frac{\\partial}{\\partial T} \\eta{\\left(\\rho,T \\right)} \\frac{\\partial^{2}}{\\partial \\eta{\\left(\\rho,T \\right)}^{2}} n_{e}{\\left(\\eta{\\left(\\rho,T \\right)},T a \\right)} + \\frac{\\partial}{\\partial T} \\eta{\\left(\\rho,T \\right)} \\frac{\\partial^{2}}{\\partial \\eta{\\left(\\rho,T \\right)}^{2}} n_{p}{\\left(\\eta{\\left(\\rho,T \\right)},T a \\right)}\\right) \\frac{\\partial}{\\partial \\rho} \\eta{\\left(\\rho,T \\right)}}{\\frac{\\partial}{\\partial \\eta{\\left(\\rho,T \\right)}} n_{e}{\\left(\\eta{\\left(\\rho,T \\right)},T a \\right)} - \\frac{\\partial}{\\partial \\eta{\\left(\\rho,T \\right)}} n_{p}{\\left(\\eta{\\left(\\rho,T \\right)},T a \\right)}}$"
      ],
      "text/plain": [
       "⎛    ⎛     2                     ⎞│          ⎛     2                     ⎞│    ↪\n",
       "⎜    ⎜    ∂                      ⎟│          ⎜    ∂                      ⎟│    ↪\n",
       "⎜- a⋅⎜───────────(nₑ(η(ρ, T), ξ))⎟│      + a⋅⎜───────────(nₚ(η(ρ, T), ξ))⎟│    ↪\n",
       "⎜    ⎝∂η(ρ, T) ∂ξ                ⎠│ξ=T⋅a     ⎝∂η(ρ, T) ∂ξ                ⎠│ξ=T ↪\n",
       "⎝                                                                              ↪\n",
       "────────────────────────────────────────────────────────────────────────────── ↪\n",
       "                                                                ∂              ↪\n",
       "                                                             ────────(nₑ(η(ρ,  ↪\n",
       "                                                             ∂η(ρ, T)          ↪\n",
       "\n",
       "↪                      2                                         2             ↪\n",
       "↪      ∂              ∂                          ∂              ∂              ↪\n",
       "↪    - ──(η(ρ, T))⋅─────────(nₑ(η(ρ, T), T⋅a)) + ──(η(ρ, T))⋅─────────(nₚ(η(ρ, ↪\n",
       "↪ ⋅a   ∂T                  2                     ∂T                  2         ↪\n",
       "↪                  ∂η(ρ, T)                                  ∂η(ρ, T)          ↪\n",
       "↪ ──────────────────────────────────────────────────────────────────────────── ↪\n",
       "↪                ∂                                                             ↪\n",
       "↪ T), T⋅a)) - ────────(nₚ(η(ρ, T), T⋅a))                                       ↪\n",
       "↪             ∂η(ρ, T)                                                         ↪\n",
       "\n",
       "↪           ⎞            \n",
       "↪           ⎟ ∂          \n",
       "↪  T), T⋅a))⎟⋅──(η(ρ, T))\n",
       "↪           ⎟ ∂ρ         \n",
       "↪           ⎠            \n",
       "↪ ───────────────────────\n",
       "↪                        \n",
       "↪                        \n",
       "↪                        "
      ]
     },
     "execution_count": 13,
     "metadata": {},
     "output_type": "execute_result"
    }
   ],
   "source": [
    "lhs_diff = diff(lhs_expr, T, rho)\n",
    "rhs_diff = diff(rhs_expr, T, rho)\n",
    "\n",
    "# Solve for ∂²η/∂T∂ρ\n",
    "d2eta_dTdrho = symbols('d2eta_dTdrho')\n",
    "lhs_diff_sub = lhs_diff.subs(diff(eta, T, rho), d2eta_dTdrho)\n",
    "d2eta_dTdrho_expr = solve(lhs_diff_sub - rhs_diff, d2eta_dTdrho)[0]\n",
    "\n",
    "simplify(d2eta_dTdrho_expr.subs(beta, a * T))"
   ]
  },
  {
   "cell_type": "markdown",
   "id": "1b3195cb-2932-4b27-a9b9-d975a86e32f6",
   "metadata": {},
   "source": [
    "### Compute $\\partial^2 \\eta /\\partial \\rho^2$"
   ]
  },
  {
   "cell_type": "code",
   "execution_count": 14,
   "id": "d53b435d-dc0d-4bc9-b59d-aa25df1704bc",
   "metadata": {},
   "outputs": [
    {
     "data": {
      "image/png": "[encoded data removed]",
      "text/latex": [
       "$\\displaystyle \\frac{\\left(- \\frac{\\partial^{2}}{\\partial \\eta{\\left(\\rho,T \\right)}^{2}} n_{e}{\\left(\\eta{\\left(\\rho,T \\right)},\\beta{\\left(T \\right)} \\right)} + \\frac{\\partial^{2}}{\\partial \\eta{\\left(\\rho,T \\right)}^{2}} n_{p}{\\left(\\eta{\\left(\\rho,T \\right)},\\beta{\\left(T \\right)} \\right)}\\right) \\left(\\frac{\\partial}{\\partial \\rho} \\eta{\\left(\\rho,T \\right)}\\right)^{2}}{\\frac{\\partial}{\\partial \\eta{\\left(\\rho,T \\right)}} n_{e}{\\left(\\eta{\\left(\\rho,T \\right)},\\beta{\\left(T \\right)} \\right)} - \\frac{\\partial}{\\partial \\eta{\\left(\\rho,T \\right)}} n_{p}{\\left(\\eta{\\left(\\rho,T \\right)},\\beta{\\left(T \\right)} \\right)}}$"
      ],
      "text/plain": [
       "⎛      2                              2                       ⎞              2\n",
       "⎜     ∂                              ∂                        ⎟ ⎛∂          ⎞ \n",
       "⎜- ─────────(nₑ(η(ρ, T), β(T))) + ─────────(nₚ(η(ρ, T), β(T)))⎟⋅⎜──(η(ρ, T))⎟ \n",
       "⎜          2                              2                   ⎟ ⎝∂ρ         ⎠ \n",
       "⎝  ∂η(ρ, T)                       ∂η(ρ, T)                    ⎠               \n",
       "──────────────────────────────────────────────────────────────────────────────\n",
       "             ∂                             ∂                                  \n",
       "          ────────(nₑ(η(ρ, T), β(T))) - ────────(nₚ(η(ρ, T), β(T)))           \n",
       "          ∂η(ρ, T)                      ∂η(ρ, T)                              "
      ]
     },
     "execution_count": 14,
     "metadata": {},
     "output_type": "execute_result"
    }
   ],
   "source": [
    "lhs_diff = diff(lhs_expr, rho, rho)\n",
    "rhs_diff = diff(rhs_expr, rho, rho)\n",
    "\n",
    "# Solve for ∂²η/∂ρ²\n",
    "d2eta_drho2 = symbols('d2eta_drho2')\n",
    "lhs_diff_sub = lhs_diff.subs(diff(eta, rho, rho), d2eta_drho2)\n",
    "d2eta_drho2_expr = solve(lhs_diff_sub - rhs_diff, d2eta_drho2)[0]\n",
    "\n",
    "simplify(d2eta_drho2_expr)"
   ]
  },
  {
   "cell_type": "markdown",
   "id": "230398a3-83c1-4457-a67e-02638e2169b2",
   "metadata": {},
   "source": [
    "### Compute $\\partial^3 \\eta /\\partial T^3$"
   ]
  },
  {
   "cell_type": "code",
   "execution_count": 19,
   "id": "cf036bbd-7fd1-4dab-bfe4-5303f5874c3e",
   "metadata": {},
   "outputs": [
    {
     "data": {
      "image/png": "[encoded data removed]",
      "text/latex": [
       "$\\displaystyle \\frac{- a^{3} \\left. \\frac{\\partial^{3}}{\\partial \\xi^{3}} n_{e}{\\left(\\eta{\\left(\\rho,T \\right)},\\xi \\right)} \\right|_{\\substack{ \\xi=T a }} + a^{3} \\left. \\frac{\\partial^{3}}{\\partial \\xi^{3}} n_{p}{\\left(\\eta{\\left(\\rho,T \\right)},\\xi \\right)} \\right|_{\\substack{ \\xi=T a }} - 3 a^{2} \\frac{\\partial}{\\partial T} \\eta{\\left(\\rho,T \\right)} \\left. \\frac{\\partial^{3}}{\\partial \\eta{\\left(\\rho,T \\right)}\\partial \\xi^{2}} n_{e}{\\left(\\eta{\\left(\\rho,T \\right)},\\xi \\right)} \\right|_{\\substack{ \\xi=T a }} + 3 a^{2} \\frac{\\partial}{\\partial T} \\eta{\\left(\\rho,T \\right)} \\left. \\frac{\\partial^{3}}{\\partial \\eta{\\left(\\rho,T \\right)}\\partial \\xi^{2}} n_{p}{\\left(\\eta{\\left(\\rho,T \\right)},\\xi \\right)} \\right|_{\\substack{ \\xi=T a }} - 3 a \\left(\\frac{\\partial}{\\partial T} \\eta{\\left(\\rho,T \\right)}\\right)^{2} \\left. \\frac{\\partial^{3}}{\\partial \\eta{\\left(\\rho,T \\right)}^{2}\\partial \\xi} n_{e}{\\left(\\eta{\\left(\\rho,T \\right)},\\xi \\right)} \\right|_{\\substack{ \\xi=T a }} + 3 a \\left(\\frac{\\partial}{\\partial T} \\eta{\\left(\\rho,T \\right)}\\right)^{2} \\left. \\frac{\\partial^{3}}{\\partial \\eta{\\left(\\rho,T \\right)}^{2}\\partial \\xi} n_{p}{\\left(\\eta{\\left(\\rho,T \\right)},\\xi \\right)} \\right|_{\\substack{ \\xi=T a }} - 3 a \\frac{\\partial^{2}}{\\partial T^{2}} \\eta{\\left(\\rho,T \\right)} \\left. \\frac{\\partial^{2}}{\\partial \\eta{\\left(\\rho,T \\right)}\\partial \\xi} n_{e}{\\left(\\eta{\\left(\\rho,T \\right)},\\xi \\right)} \\right|_{\\substack{ \\xi=T a }} + 3 a \\frac{\\partial^{2}}{\\partial T^{2}} \\eta{\\left(\\rho,T \\right)} \\left. \\frac{\\partial^{2}}{\\partial \\eta{\\left(\\rho,T \\right)}\\partial \\xi} n_{p}{\\left(\\eta{\\left(\\rho,T \\right)},\\xi \\right)} \\right|_{\\substack{ \\xi=T a }} - \\left(\\frac{\\partial}{\\partial T} \\eta{\\left(\\rho,T \\right)}\\right)^{3} \\frac{\\partial^{3}}{\\partial \\eta{\\left(\\rho,T \\right)}^{3}} n_{e}{\\left(\\eta{\\left(\\rho,T \\right)},T a \\right)} + \\left(\\frac{\\partial}{\\partial T} \\eta{\\left(\\rho,T \\right)}\\right)^{3} \\frac{\\partial^{3}}{\\partial \\eta{\\left(\\rho,T \\right)}^{3}} n_{p}{\\left(\\eta{\\left(\\rho,T \\right)},T a \\right)} - 3 \\frac{\\partial}{\\partial T} \\eta{\\left(\\rho,T \\right)} \\frac{\\partial^{2}}{\\partial T^{2}} \\eta{\\left(\\rho,T \\right)} \\frac{\\partial^{2}}{\\partial \\eta{\\left(\\rho,T \\right)}^{2}} n_{e}{\\left(\\eta{\\left(\\rho,T \\right)},T a \\right)} + 3 \\frac{\\partial}{\\partial T} \\eta{\\left(\\rho,T \\right)} \\frac{\\partial^{2}}{\\partial T^{2}} \\eta{\\left(\\rho,T \\right)} \\frac{\\partial^{2}}{\\partial \\eta{\\left(\\rho,T \\right)}^{2}} n_{p}{\\left(\\eta{\\left(\\rho,T \\right)},T a \\right)}}{\\frac{\\partial}{\\partial \\eta{\\left(\\rho,T \\right)}} n_{e}{\\left(\\eta{\\left(\\rho,T \\right)},T a \\right)} - \\frac{\\partial}{\\partial \\eta{\\left(\\rho,T \\right)}} n_{p}{\\left(\\eta{\\left(\\rho,T \\right)},T a \\right)}}$"
      ],
      "text/plain": [
       "     ⎛ 3                 ⎞│           ⎛ 3                 ⎞│                   ↪\n",
       "   3 ⎜∂                  ⎟│         3 ⎜∂                  ⎟│           2 ∂     ↪\n",
       "- a ⋅⎜───(nₑ(η(ρ, T), ξ))⎟│      + a ⋅⎜───(nₚ(η(ρ, T), ξ))⎟│      - 3⋅a ⋅──(η( ↪\n",
       "     ⎜  3                ⎟│           ⎜  3                ⎟│             ∂T    ↪\n",
       "     ⎝∂ξ                 ⎠│ξ=T⋅a      ⎝∂ξ                 ⎠│ξ=T⋅a              ↪\n",
       "────────────────────────────────────────────────────────────────────────────── ↪\n",
       "                                                                               ↪\n",
       "                                                                               ↪\n",
       "                                                                               ↪\n",
       "\n",
       "↪        ⎛      3                     ⎞│                         ⎛      3      ↪\n",
       "↪        ⎜     ∂                      ⎟│           2 ∂           ⎜     ∂       ↪\n",
       "↪ ρ, T))⋅⎜────────────(nₑ(η(ρ, T), ξ))⎟│      + 3⋅a ⋅──(η(ρ, T))⋅⎜──────────── ↪\n",
       "↪        ⎜           2                ⎟│             ∂T          ⎜           2 ↪\n",
       "↪        ⎝∂η(ρ, T) ∂ξ                 ⎠│ξ=T⋅a                    ⎝∂η(ρ, T) ∂ξ  ↪\n",
       "↪ ──────────────────────────────────────────────────────────────────────────── ↪\n",
       "↪                                                                              ↪\n",
       "↪                                                                              ↪\n",
       "↪                                                                              ↪\n",
       "\n",
       "↪                 ⎞│                         2 ⎛      3                     ⎞│ ↪\n",
       "↪                 ⎟│            ⎛∂          ⎞  ⎜     ∂                      ⎟│ ↪\n",
       "↪ (nₚ(η(ρ, T), ξ))⎟│      - 3⋅a⋅⎜──(η(ρ, T))⎟ ⋅⎜────────────(nₑ(η(ρ, T), ξ))⎟│ ↪\n",
       "↪                 ⎟│            ⎝∂T         ⎠  ⎜        2                   ⎟│ ↪\n",
       "↪                 ⎠│ξ=T⋅a                      ⎝∂η(ρ, T)  ∂ξ                ⎠│ ↪\n",
       "↪ ──────────────────────────────────────────────────────────────────────────── ↪\n",
       "↪                                                                              ↪\n",
       "↪                                                                              ↪\n",
       "↪                                                                              ↪\n",
       "\n",
       "↪                          2 ⎛      3                     ⎞│             2     ↪\n",
       "↪             ⎛∂          ⎞  ⎜     ∂                      ⎟│            ∂      ↪\n",
       "↪       + 3⋅a⋅⎜──(η(ρ, T))⎟ ⋅⎜────────────(nₚ(η(ρ, T), ξ))⎟│      - 3⋅a⋅───(η( ↪\n",
       "↪             ⎝∂T         ⎠  ⎜        2                   ⎟│              2    ↪\n",
       "↪ ξ=T⋅a                      ⎝∂η(ρ, T)  ∂ξ                ⎠│ξ=T⋅a       ∂T     ↪\n",
       "↪ ──────────────────────────────────────────────────────────────────────────── ↪\n",
       "↪                                                  ∂                           ↪\n",
       "↪                                               ────────(nₑ(η(ρ, T), T⋅a)) - ─ ↪\n",
       "↪                                               ∂η(ρ, T)                     ∂ ↪\n",
       "\n",
       "↪        ⎛     2                     ⎞│             2           ⎛     2        ↪\n",
       "↪        ⎜    ∂                      ⎟│            ∂            ⎜    ∂         ↪\n",
       "↪ ρ, T))⋅⎜───────────(nₑ(η(ρ, T), ξ))⎟│      + 3⋅a⋅───(η(ρ, T))⋅⎜───────────(n ↪\n",
       "↪        ⎝∂η(ρ, T) ∂ξ                ⎠│ξ=T⋅a         2          ⎝∂η(ρ, T) ∂ξ   ↪\n",
       "↪                                                  ∂T                          ↪\n",
       "↪ ──────────────────────────────────────────────────────────────────────────── ↪\n",
       "↪   ∂                                                                          ↪\n",
       "↪ ───────(nₚ(η(ρ, T), T⋅a))                                                    ↪\n",
       "↪ η(ρ, T)                                                                      ↪\n",
       "\n",
       "↪               ⎞│                     3     3                                 ↪\n",
       "↪               ⎟│        ⎛∂          ⎞     ∂                          ⎛∂      ↪\n",
       "↪ ₚ(η(ρ, T), ξ))⎟│      - ⎜──(η(ρ, T))⎟ ⋅─────────(nₑ(η(ρ, T), T⋅a)) + ⎜──(η(ρ ↪\n",
       "↪               ⎠│ξ=T⋅a   ⎝∂T         ⎠          3                     ⎝∂T     ↪\n",
       "↪                                        ∂η(ρ, T)                              ↪\n",
       "↪ ──────────────────────────────────────────────────────────────────────────── ↪\n",
       "↪                                                                              ↪\n",
       "↪                                                                              ↪\n",
       "↪                                                                              ↪\n",
       "\n",
       "↪       3     3                                        2               2       ↪\n",
       "↪      ⎞     ∂                            ∂           ∂               ∂        ↪\n",
       "↪ , T))⎟ ⋅─────────(nₚ(η(ρ, T), T⋅a)) - 3⋅──(η(ρ, T))⋅───(η(ρ, T))⋅─────────(n ↪\n",
       "↪      ⎠          3                       ∂T            2                  2   ↪\n",
       "↪         ∂η(ρ, T)                                    ∂T           ∂η(ρ, T)    ↪\n",
       "↪ ──────────────────────────────────────────────────────────────────────────── ↪\n",
       "↪                                                                              ↪\n",
       "↪                                                                              ↪\n",
       "↪                                                                              ↪\n",
       "\n",
       "↪                                   2               2                      \n",
       "↪                      ∂           ∂               ∂                       \n",
       "↪ ₑ(η(ρ, T), T⋅a)) + 3⋅──(η(ρ, T))⋅───(η(ρ, T))⋅─────────(nₚ(η(ρ, T), T⋅a))\n",
       "↪                      ∂T            2                  2                  \n",
       "↪                                  ∂T           ∂η(ρ, T)                   \n",
       "↪ ─────────────────────────────────────────────────────────────────────────\n",
       "↪                                                                          \n",
       "↪                                                                          \n",
       "↪                                                                          "
      ]
     },
     "execution_count": 19,
     "metadata": {},
     "output_type": "execute_result"
    }
   ],
   "source": [
    "lhs_diff = diff(lhs_expr, T, T, T)\n",
    "rhs_diff = diff(rhs_expr, T, T, T)\n",
    "\n",
    "# Solve for ∂³η/∂T³\n",
    "d3eta_dT3 = symbols('d3eta_dT3')\n",
    "lhs_diff_sub = lhs_diff.subs(diff(eta, T, T, T), d3eta_dT3)\n",
    "d3eta_dT3_expr = solve(lhs_diff_sub - rhs_diff, d3eta_dT3)[0]\n",
    "\n",
    "simplify(d3eta_dT3_expr.subs(beta, a * T))"
   ]
  },
  {
   "cell_type": "markdown",
   "id": "cdc6c526-0cb3-4865-8ba6-fc9eaacd655a",
   "metadata": {},
   "source": [
    "### Compute $\\partial^3 \\eta /\\partial T^2 \\partial \\rho$"
   ]
  },
  {
   "cell_type": "code",
   "execution_count": 20,
   "id": "ccf78175-f1e7-4efe-a389-c555c1b8e2a2",
   "metadata": {},
   "outputs": [
    {
     "data": {
      "image/png": "[encoded data removed]",
      "text/latex": [
       "$\\displaystyle \\frac{- a^{2} \\frac{\\partial}{\\partial \\rho} \\eta{\\left(\\rho,T \\right)} \\left. \\frac{\\partial^{3}}{\\partial \\eta{\\left(\\rho,T \\right)}\\partial \\xi^{2}} n_{e}{\\left(\\eta{\\left(\\rho,T \\right)},\\xi \\right)} \\right|_{\\substack{ \\xi=T a }} + a^{2} \\frac{\\partial}{\\partial \\rho} \\eta{\\left(\\rho,T \\right)} \\left. \\frac{\\partial^{3}}{\\partial \\eta{\\left(\\rho,T \\right)}\\partial \\xi^{2}} n_{p}{\\left(\\eta{\\left(\\rho,T \\right)},\\xi \\right)} \\right|_{\\substack{ \\xi=T a }} - 2 a \\frac{\\partial}{\\partial T} \\eta{\\left(\\rho,T \\right)} \\frac{\\partial}{\\partial \\rho} \\eta{\\left(\\rho,T \\right)} \\left. \\frac{\\partial^{3}}{\\partial \\eta{\\left(\\rho,T \\right)}^{2}\\partial \\xi} n_{e}{\\left(\\eta{\\left(\\rho,T \\right)},\\xi \\right)} \\right|_{\\substack{ \\xi=T a }} + 2 a \\frac{\\partial}{\\partial T} \\eta{\\left(\\rho,T \\right)} \\frac{\\partial}{\\partial \\rho} \\eta{\\left(\\rho,T \\right)} \\left. \\frac{\\partial^{3}}{\\partial \\eta{\\left(\\rho,T \\right)}^{2}\\partial \\xi} n_{p}{\\left(\\eta{\\left(\\rho,T \\right)},\\xi \\right)} \\right|_{\\substack{ \\xi=T a }} - 2 a \\frac{\\partial^{2}}{\\partial \\rho\\partial T} \\eta{\\left(\\rho,T \\right)} \\left. \\frac{\\partial^{2}}{\\partial \\eta{\\left(\\rho,T \\right)}\\partial \\xi} n_{e}{\\left(\\eta{\\left(\\rho,T \\right)},\\xi \\right)} \\right|_{\\substack{ \\xi=T a }} + 2 a \\frac{\\partial^{2}}{\\partial \\rho\\partial T} \\eta{\\left(\\rho,T \\right)} \\left. \\frac{\\partial^{2}}{\\partial \\eta{\\left(\\rho,T \\right)}\\partial \\xi} n_{p}{\\left(\\eta{\\left(\\rho,T \\right)},\\xi \\right)} \\right|_{\\substack{ \\xi=T a }} - \\left(\\frac{\\partial}{\\partial T} \\eta{\\left(\\rho,T \\right)}\\right)^{2} \\frac{\\partial}{\\partial \\rho} \\eta{\\left(\\rho,T \\right)} \\frac{\\partial^{3}}{\\partial \\eta{\\left(\\rho,T \\right)}^{3}} n_{e}{\\left(\\eta{\\left(\\rho,T \\right)},T a \\right)} + \\left(\\frac{\\partial}{\\partial T} \\eta{\\left(\\rho,T \\right)}\\right)^{2} \\frac{\\partial}{\\partial \\rho} \\eta{\\left(\\rho,T \\right)} \\frac{\\partial^{3}}{\\partial \\eta{\\left(\\rho,T \\right)}^{3}} n_{p}{\\left(\\eta{\\left(\\rho,T \\right)},T a \\right)} - 2 \\frac{\\partial}{\\partial T} \\eta{\\left(\\rho,T \\right)} \\frac{\\partial^{2}}{\\partial \\eta{\\left(\\rho,T \\right)}^{2}} n_{e}{\\left(\\eta{\\left(\\rho,T \\right)},T a \\right)} \\frac{\\partial^{2}}{\\partial \\rho\\partial T} \\eta{\\left(\\rho,T \\right)} + 2 \\frac{\\partial}{\\partial T} \\eta{\\left(\\rho,T \\right)} \\frac{\\partial^{2}}{\\partial \\eta{\\left(\\rho,T \\right)}^{2}} n_{p}{\\left(\\eta{\\left(\\rho,T \\right)},T a \\right)} \\frac{\\partial^{2}}{\\partial \\rho\\partial T} \\eta{\\left(\\rho,T \\right)} - \\frac{\\partial^{2}}{\\partial T^{2}} \\eta{\\left(\\rho,T \\right)} \\frac{\\partial}{\\partial \\rho} \\eta{\\left(\\rho,T \\right)} \\frac{\\partial^{2}}{\\partial \\eta{\\left(\\rho,T \\right)}^{2}} n_{e}{\\left(\\eta{\\left(\\rho,T \\right)},T a \\right)} + \\frac{\\partial^{2}}{\\partial T^{2}} \\eta{\\left(\\rho,T \\right)} \\frac{\\partial}{\\partial \\rho} \\eta{\\left(\\rho,T \\right)} \\frac{\\partial^{2}}{\\partial \\eta{\\left(\\rho,T \\right)}^{2}} n_{p}{\\left(\\eta{\\left(\\rho,T \\right)},T a \\right)}}{\\frac{\\partial}{\\partial \\eta{\\left(\\rho,T \\right)}} n_{e}{\\left(\\eta{\\left(\\rho,T \\right)},T a \\right)} - \\frac{\\partial}{\\partial \\eta{\\left(\\rho,T \\right)}} n_{p}{\\left(\\eta{\\left(\\rho,T \\right)},T a \\right)}}$"
      ],
      "text/plain": [
       "                 ⎛      3                     ⎞│                       ⎛       ↪\n",
       "   2 ∂           ⎜     ∂                      ⎟│         2 ∂           ⎜     ∂ ↪\n",
       "- a ⋅──(η(ρ, T))⋅⎜────────────(nₑ(η(ρ, T), ξ))⎟│      + a ⋅──(η(ρ, T))⋅⎜────── ↪\n",
       "     ∂ρ          ⎜           2                ⎟│           ∂ρ          ⎜       ↪\n",
       "                 ⎝∂η(ρ, T) ∂ξ                 ⎠│ξ=T⋅a                  ⎝∂η(ρ,  ↪\n",
       "────────────────────────────────────────────────────────────────────────────── ↪\n",
       "                                                                               ↪\n",
       "                                                                               ↪\n",
       "                                                                               ↪\n",
       "\n",
       "↪ 3                     ⎞│                                    ⎛      3         ↪\n",
       "↪                       ⎟│            ∂           ∂           ⎜     ∂          ↪\n",
       "↪ ──────(nₚ(η(ρ, T), ξ))⎟│      - 2⋅a⋅──(η(ρ, T))⋅──(η(ρ, T))⋅⎜────────────(nₑ ↪\n",
       "↪      2                ⎟│            ∂T          ∂ρ          ⎜        2       ↪\n",
       "↪ T) ∂ξ                 ⎠│ξ=T⋅a                               ⎝∂η(ρ, T)  ∂ξ    ↪\n",
       "↪ ──────────────────────────────────────────────────────────────────────────── ↪\n",
       "↪                                                                              ↪\n",
       "↪                                                                              ↪\n",
       "↪                                                                              ↪\n",
       "\n",
       "↪              ⎞│                                    ⎛      3                  ↪\n",
       "↪              ⎟│            ∂           ∂           ⎜     ∂                   ↪\n",
       "↪ (η(ρ, T), ξ))⎟│      + 2⋅a⋅──(η(ρ, T))⋅──(η(ρ, T))⋅⎜────────────(nₚ(η(ρ, T), ↪\n",
       "↪              ⎟│            ∂T          ∂ρ          ⎜        2                ↪\n",
       "↪              ⎠│ξ=T⋅a                               ⎝∂η(ρ, T)  ∂ξ             ↪\n",
       "↪ ──────────────────────────────────────────────────────────────────────────── ↪\n",
       "↪                                                                              ↪\n",
       "↪                                                                              ↪\n",
       "↪                                                                              ↪\n",
       "\n",
       "↪     ⎞│              2            ⎛     2                     ⎞│              ↪\n",
       "↪     ⎟│             ∂             ⎜    ∂                      ⎟│              ↪\n",
       "↪  ξ))⎟│      - 2⋅a⋅─────(η(ρ, T))⋅⎜───────────(nₑ(η(ρ, T), ξ))⎟│      + 2⋅a⋅─ ↪\n",
       "↪     ⎟│            ∂ρ ∂T          ⎝∂η(ρ, T) ∂ξ                ⎠│ξ=T⋅a       ∂ ↪\n",
       "↪     ⎠│ξ=T⋅a                                                                  ↪\n",
       "↪ ──────────────────────────────────────────────────────────────────────────── ↪\n",
       "↪                                                                              ↪\n",
       "↪                                                                              ↪\n",
       "↪                                                                              ↪\n",
       "\n",
       "↪  2            ⎛     2                     ⎞│                     2           ↪\n",
       "↪ ∂             ⎜    ∂                      ⎟│        ⎛∂          ⎞  ∂         ↪\n",
       "↪ ────(η(ρ, T))⋅⎜───────────(nₚ(η(ρ, T), ξ))⎟│      - ⎜──(η(ρ, T))⎟ ⋅──(η(ρ, T ↪\n",
       "↪ ρ ∂T          ⎝∂η(ρ, T) ∂ξ                ⎠│ξ=T⋅a   ⎝∂T         ⎠  ∂ρ        ↪\n",
       "↪                                                                              ↪\n",
       "↪ ──────────────────────────────────────────────────────────────────────────── ↪\n",
       "↪                   ∂                            ∂                             ↪\n",
       "↪                ────────(nₑ(η(ρ, T), T⋅a)) - ────────(nₚ(η(ρ, T), T⋅a))       ↪\n",
       "↪                ∂η(ρ, T)                     ∂η(ρ, T)                         ↪\n",
       "\n",
       "↪        3                                      2                 3            ↪\n",
       "↪       ∂                          ⎛∂          ⎞  ∂              ∂             ↪\n",
       "↪ ))⋅─────────(nₑ(η(ρ, T), T⋅a)) + ⎜──(η(ρ, T))⎟ ⋅──(η(ρ, T))⋅─────────(nₚ(η(ρ ↪\n",
       "↪            3                     ⎝∂T         ⎠  ∂ρ                  3        ↪\n",
       "↪    ∂η(ρ, T)                                                 ∂η(ρ, T)         ↪\n",
       "↪ ──────────────────────────────────────────────────────────────────────────── ↪\n",
       "↪                                                                              ↪\n",
       "↪                                                                              ↪\n",
       "↪                                                                              ↪\n",
       "\n",
       "↪                                 2                         2                  ↪\n",
       "↪                 ∂              ∂                         ∂                 ∂ ↪\n",
       "↪ , T), T⋅a)) - 2⋅──(η(ρ, T))⋅─────────(nₑ(η(ρ, T), T⋅a))⋅─────(η(ρ, T)) + 2⋅─ ↪\n",
       "↪                 ∂T                  2                   ∂ρ ∂T              ∂ ↪\n",
       "↪                             ∂η(ρ, T)                                         ↪\n",
       "↪ ──────────────────────────────────────────────────────────────────────────── ↪\n",
       "↪                                                                              ↪\n",
       "↪                                                                              ↪\n",
       "↪                                                                              ↪\n",
       "\n",
       "↪                2                         2               2                   ↪\n",
       "↪               ∂                         ∂               ∂            ∂       ↪\n",
       "↪ ─(η(ρ, T))⋅─────────(nₚ(η(ρ, T), T⋅a))⋅─────(η(ρ, T)) - ───(η(ρ, T))⋅──(η(ρ, ↪\n",
       "↪ T                  2                   ∂ρ ∂T              2          ∂ρ      ↪\n",
       "↪            ∂η(ρ, T)                                     ∂T                   ↪\n",
       "↪ ──────────────────────────────────────────────────────────────────────────── ↪\n",
       "↪                                                                              ↪\n",
       "↪                                                                              ↪\n",
       "↪                                                                              ↪\n",
       "\n",
       "↪          2                          2                           2            ↪\n",
       "↪         ∂                          ∂            ∂              ∂             ↪\n",
       "↪  T))⋅─────────(nₑ(η(ρ, T), T⋅a)) + ───(η(ρ, T))⋅──(η(ρ, T))⋅─────────(nₚ(η(ρ ↪\n",
       "↪              2                       2          ∂ρ                  2        ↪\n",
       "↪      ∂η(ρ, T)                      ∂T                       ∂η(ρ, T)         ↪\n",
       "↪ ──────────────────────────────────────────────────────────────────────────── ↪\n",
       "↪                                                                              ↪\n",
       "↪                                                                              ↪\n",
       "↪                                                                              ↪\n",
       "\n",
       "↪            \n",
       "↪            \n",
       "↪ , T), T⋅a))\n",
       "↪            \n",
       "↪            \n",
       "↪ ───────────\n",
       "↪            \n",
       "↪            \n",
       "↪            "
      ]
     },
     "execution_count": 20,
     "metadata": {},
     "output_type": "execute_result"
    }
   ],
   "source": [
    "lhs_diff = diff(lhs_expr, rho, T, T)\n",
    "rhs_diff = diff(rhs_expr, rho, T, T)\n",
    "\n",
    "# Solve for ∂³η/∂ρ∂T²\n",
    "d3eta_drhodT2 = symbols('d3eta_drhodT2')\n",
    "lhs_diff_sub = lhs_diff.subs(diff(eta, rho, T, T), d3eta_drhodT2)\n",
    "d3eta_drhodT2_expr = solve(lhs_diff_sub - rhs_diff, d3eta_drhodT2)[0]\n",
    "\n",
    "simplify(d3eta_drhodT2_expr.subs(beta, a * T))"
   ]
  },
  {
   "cell_type": "markdown",
   "id": "9a7e2452-8ef2-403f-ac94-53b74db3aab4",
   "metadata": {},
   "source": [
    "### Compute $\\partial^3 \\eta /\\partial T \\partial \\rho^2$"
   ]
  },
  {
   "cell_type": "code",
   "execution_count": 17,
   "id": "e6d74d50-a0fe-4baf-bafa-658420178661",
   "metadata": {},
   "outputs": [
    {
     "data": {
      "image/png": "[encoded data removed]",
      "text/latex": [
       "$\\displaystyle \\frac{- \\frac{d}{d T} \\beta{\\left(T \\right)} \\left(\\frac{\\partial}{\\partial \\rho} \\eta{\\left(\\rho,T \\right)}\\right)^{2} \\frac{\\partial^{3}}{\\partial \\eta{\\left(\\rho,T \\right)}^{2}\\partial \\beta{\\left(T \\right)}} n_{e}{\\left(\\eta{\\left(\\rho,T \\right)},\\beta{\\left(T \\right)} \\right)} + \\frac{d}{d T} \\beta{\\left(T \\right)} \\left(\\frac{\\partial}{\\partial \\rho} \\eta{\\left(\\rho,T \\right)}\\right)^{2} \\frac{\\partial^{3}}{\\partial \\eta{\\left(\\rho,T \\right)}^{2}\\partial \\beta{\\left(T \\right)}} n_{p}{\\left(\\eta{\\left(\\rho,T \\right)},\\beta{\\left(T \\right)} \\right)} - \\frac{d}{d T} \\beta{\\left(T \\right)} \\frac{\\partial^{2}}{\\partial \\rho^{2}} \\eta{\\left(\\rho,T \\right)} \\frac{\\partial^{2}}{\\partial \\eta{\\left(\\rho,T \\right)}\\partial \\beta{\\left(T \\right)}} n_{e}{\\left(\\eta{\\left(\\rho,T \\right)},\\beta{\\left(T \\right)} \\right)} + \\frac{d}{d T} \\beta{\\left(T \\right)} \\frac{\\partial^{2}}{\\partial \\rho^{2}} \\eta{\\left(\\rho,T \\right)} \\frac{\\partial^{2}}{\\partial \\eta{\\left(\\rho,T \\right)}\\partial \\beta{\\left(T \\right)}} n_{p}{\\left(\\eta{\\left(\\rho,T \\right)},\\beta{\\left(T \\right)} \\right)} - \\frac{\\partial}{\\partial T} \\eta{\\left(\\rho,T \\right)} \\left(\\frac{\\partial}{\\partial \\rho} \\eta{\\left(\\rho,T \\right)}\\right)^{2} \\frac{\\partial^{3}}{\\partial \\eta{\\left(\\rho,T \\right)}^{3}} n_{e}{\\left(\\eta{\\left(\\rho,T \\right)},\\beta{\\left(T \\right)} \\right)} + \\frac{\\partial}{\\partial T} \\eta{\\left(\\rho,T \\right)} \\left(\\frac{\\partial}{\\partial \\rho} \\eta{\\left(\\rho,T \\right)}\\right)^{2} \\frac{\\partial^{3}}{\\partial \\eta{\\left(\\rho,T \\right)}^{3}} n_{p}{\\left(\\eta{\\left(\\rho,T \\right)},\\beta{\\left(T \\right)} \\right)} - \\frac{\\partial}{\\partial T} \\eta{\\left(\\rho,T \\right)} \\frac{\\partial^{2}}{\\partial \\rho^{2}} \\eta{\\left(\\rho,T \\right)} \\frac{\\partial^{2}}{\\partial \\eta{\\left(\\rho,T \\right)}^{2}} n_{e}{\\left(\\eta{\\left(\\rho,T \\right)},\\beta{\\left(T \\right)} \\right)} + \\frac{\\partial}{\\partial T} \\eta{\\left(\\rho,T \\right)} \\frac{\\partial^{2}}{\\partial \\rho^{2}} \\eta{\\left(\\rho,T \\right)} \\frac{\\partial^{2}}{\\partial \\eta{\\left(\\rho,T \\right)}^{2}} n_{p}{\\left(\\eta{\\left(\\rho,T \\right)},\\beta{\\left(T \\right)} \\right)} - 2 \\frac{\\partial}{\\partial \\rho} \\eta{\\left(\\rho,T \\right)} \\frac{\\partial^{2}}{\\partial \\eta{\\left(\\rho,T \\right)}^{2}} n_{e}{\\left(\\eta{\\left(\\rho,T \\right)},\\beta{\\left(T \\right)} \\right)} \\frac{\\partial^{2}}{\\partial \\rho\\partial T} \\eta{\\left(\\rho,T \\right)} + 2 \\frac{\\partial}{\\partial \\rho} \\eta{\\left(\\rho,T \\right)} \\frac{\\partial^{2}}{\\partial \\eta{\\left(\\rho,T \\right)}^{2}} n_{p}{\\left(\\eta{\\left(\\rho,T \\right)},\\beta{\\left(T \\right)} \\right)} \\frac{\\partial^{2}}{\\partial \\rho\\partial T} \\eta{\\left(\\rho,T \\right)}}{\\frac{\\partial}{\\partial \\eta{\\left(\\rho,T \\right)}} n_{e}{\\left(\\eta{\\left(\\rho,T \\right)},\\beta{\\left(T \\right)} \\right)} - \\frac{\\partial}{\\partial \\eta{\\left(\\rho,T \\right)}} n_{p}{\\left(\\eta{\\left(\\rho,T \\right)},\\beta{\\left(T \\right)} \\right)}}$"
      ],
      "text/plain": [
       "                        2        3                                             ↪\n",
       "  d        ⎛∂          ⎞        ∂                              d        ⎛∂     ↪\n",
       "- ──(β(T))⋅⎜──(η(ρ, T))⎟ ⋅───────────────(nₑ(η(ρ, T), β(T))) + ──(β(T))⋅⎜──(η( ↪\n",
       "  dT       ⎝∂ρ         ⎠          2                            dT       ⎝∂ρ    ↪\n",
       "                          ∂η(ρ, T)  ∂β(T)                                      ↪\n",
       "────────────────────────────────────────────────────────────────────────────── ↪\n",
       "                                                                               ↪\n",
       "                                                                               ↪\n",
       "                                                                               ↪\n",
       "\n",
       "↪        2        3                                       2                  2 ↪\n",
       "↪       ⎞        ∂                              d        ∂                  ∂  ↪\n",
       "↪ ρ, T))⎟ ⋅───────────────(nₚ(η(ρ, T), β(T))) - ──(β(T))⋅───(η(ρ, T))⋅──────── ↪\n",
       "↪       ⎠          2                            dT         2          ∂η(ρ, T) ↪\n",
       "↪          ∂η(ρ, T)  ∂β(T)                               ∂ρ                    ↪\n",
       "↪ ──────────────────────────────────────────────────────────────────────────── ↪\n",
       "↪                                                                              ↪\n",
       "↪                                                                              ↪\n",
       "↪                                                                              ↪\n",
       "\n",
       "↪                                       2                  2                   ↪\n",
       "↪                             d        ∂                  ∂                    ↪\n",
       "↪ ──────(nₑ(η(ρ, T), β(T))) + ──(β(T))⋅───(η(ρ, T))⋅──────────────(nₚ(η(ρ, T), ↪\n",
       "↪  ∂β(T)                      dT         2          ∂η(ρ, T) ∂β(T)             ↪\n",
       "↪                                      ∂ρ                                      ↪\n",
       "↪ ──────────────────────────────────────────────────────────────────────────── ↪\n",
       "↪                                                                              ↪\n",
       "↪                                                                              ↪\n",
       "↪                                                                              ↪\n",
       "\n",
       "↪                                    2     3                                   ↪\n",
       "↪           ∂           ⎛∂          ⎞     ∂                           ∂        ↪\n",
       "↪  β(T))) - ──(η(ρ, T))⋅⎜──(η(ρ, T))⎟ ⋅─────────(nₑ(η(ρ, T), β(T))) + ──(η(ρ,  ↪\n",
       "↪           ∂T          ⎝∂ρ         ⎠          3                      ∂T       ↪\n",
       "↪                                      ∂η(ρ, T)                                ↪\n",
       "↪ ──────────────────────────────────────────────────────────────────────────── ↪\n",
       "↪                                      ∂                             ∂         ↪\n",
       "↪                                   ────────(nₑ(η(ρ, T), β(T))) - ────────(nₚ( ↪\n",
       "↪                                   ∂η(ρ, T)                      ∂η(ρ, T)     ↪\n",
       "\n",
       "↪                  2     3                                       2             ↪\n",
       "↪     ⎛∂          ⎞     ∂                           ∂           ∂              ↪\n",
       "↪ T))⋅⎜──(η(ρ, T))⎟ ⋅─────────(nₚ(η(ρ, T), β(T))) - ──(η(ρ, T))⋅───(η(ρ, T))⋅─ ↪\n",
       "↪     ⎝∂ρ         ⎠          3                      ∂T            2            ↪\n",
       "↪                    ∂η(ρ, T)                                   ∂ρ           ∂ ↪\n",
       "↪ ──────────────────────────────────────────────────────────────────────────── ↪\n",
       "↪                                                                              ↪\n",
       "↪ η(ρ, T), β(T)))                                                              ↪\n",
       "↪                                                                              ↪\n",
       "\n",
       "↪    2                                       2               2                 ↪\n",
       "↪   ∂                           ∂           ∂               ∂                  ↪\n",
       "↪ ────────(nₑ(η(ρ, T), β(T))) + ──(η(ρ, T))⋅───(η(ρ, T))⋅─────────(nₚ(η(ρ, T), ↪\n",
       "↪        2                      ∂T            2                  2             ↪\n",
       "↪ η(ρ, T)                                   ∂ρ           ∂η(ρ, T)              ↪\n",
       "↪ ──────────────────────────────────────────────────────────────────────────── ↪\n",
       "↪                                                                              ↪\n",
       "↪                                                                              ↪\n",
       "↪                                                                              ↪\n",
       "\n",
       "↪                             2                          2                     ↪\n",
       "↪             ∂              ∂                          ∂                 ∂    ↪\n",
       "↪  β(T))) - 2⋅──(η(ρ, T))⋅─────────(nₑ(η(ρ, T), β(T)))⋅─────(η(ρ, T)) + 2⋅──(η ↪\n",
       "↪             ∂ρ                  2                    ∂ρ ∂T              ∂ρ   ↪\n",
       "↪                         ∂η(ρ, T)                                             ↪\n",
       "↪ ──────────────────────────────────────────────────────────────────────────── ↪\n",
       "↪                                                                              ↪\n",
       "↪                                                                              ↪\n",
       "↪                                                                              ↪\n",
       "\n",
       "↪             2                          2           \n",
       "↪            ∂                          ∂            \n",
       "↪ (ρ, T))⋅─────────(nₚ(η(ρ, T), β(T)))⋅─────(η(ρ, T))\n",
       "↪                 2                    ∂ρ ∂T         \n",
       "↪         ∂η(ρ, T)                                   \n",
       "↪ ───────────────────────────────────────────────────\n",
       "↪                                                    \n",
       "↪                                                    \n",
       "↪                                                    "
      ]
     },
     "execution_count": 17,
     "metadata": {},
     "output_type": "execute_result"
    }
   ],
   "source": [
    "lhs_diff = diff(lhs_expr, rho, rho, T)\n",
    "rhs_diff = diff(rhs_expr, rho, rho, T)\n",
    "\n",
    "# Solve for ∂³η/∂ρ²∂T\n",
    "d3eta_drho2dT = symbols('d3eta_drho2dT')\n",
    "lhs_diff_sub = lhs_diff.subs(diff(eta, rho, rho, T), d3eta_drho2dT)\n",
    "d3eta_drho2dT_expr = solve(lhs_diff_sub - rhs_diff, d3eta_drho2dT)[0]\n",
    "\n",
    "simplify(d3eta_drho2dT_expr)"
   ]
  },
  {
   "cell_type": "markdown",
   "id": "a04ed985-51e9-4cab-9818-4aa5344d1268",
   "metadata": {},
   "source": [
    "### Compute $\\partial^3 \\eta /\\partial \\rho^3$"
   ]
  },
  {
   "cell_type": "code",
   "execution_count": 18,
   "id": "9fc7946b-ba27-4fbb-914a-0d83228030b3",
   "metadata": {},
   "outputs": [
    {
     "data": {
      "image/png": "[encoded data removed]",
      "text/latex": [
       "$\\displaystyle \\frac{\\left(- \\left(\\frac{\\partial}{\\partial \\rho} \\eta{\\left(\\rho,T \\right)}\\right)^{2} \\frac{\\partial^{3}}{\\partial \\eta{\\left(\\rho,T \\right)}^{3}} n_{e}{\\left(\\eta{\\left(\\rho,T \\right)},\\beta{\\left(T \\right)} \\right)} + \\left(\\frac{\\partial}{\\partial \\rho} \\eta{\\left(\\rho,T \\right)}\\right)^{2} \\frac{\\partial^{3}}{\\partial \\eta{\\left(\\rho,T \\right)}^{3}} n_{p}{\\left(\\eta{\\left(\\rho,T \\right)},\\beta{\\left(T \\right)} \\right)} - 3 \\frac{\\partial^{2}}{\\partial \\rho^{2}} \\eta{\\left(\\rho,T \\right)} \\frac{\\partial^{2}}{\\partial \\eta{\\left(\\rho,T \\right)}^{2}} n_{e}{\\left(\\eta{\\left(\\rho,T \\right)},\\beta{\\left(T \\right)} \\right)} + 3 \\frac{\\partial^{2}}{\\partial \\rho^{2}} \\eta{\\left(\\rho,T \\right)} \\frac{\\partial^{2}}{\\partial \\eta{\\left(\\rho,T \\right)}^{2}} n_{p}{\\left(\\eta{\\left(\\rho,T \\right)},\\beta{\\left(T \\right)} \\right)}\\right) \\frac{\\partial}{\\partial \\rho} \\eta{\\left(\\rho,T \\right)}}{\\frac{\\partial}{\\partial \\eta{\\left(\\rho,T \\right)}} n_{e}{\\left(\\eta{\\left(\\rho,T \\right)},\\beta{\\left(T \\right)} \\right)} - \\frac{\\partial}{\\partial \\eta{\\left(\\rho,T \\right)}} n_{p}{\\left(\\eta{\\left(\\rho,T \\right)},\\beta{\\left(T \\right)} \\right)}}$"
      ],
      "text/plain": [
       "⎛               2     3                                       2     3          ↪\n",
       "⎜  ⎛∂          ⎞     ∂                           ⎛∂          ⎞     ∂           ↪\n",
       "⎜- ⎜──(η(ρ, T))⎟ ⋅─────────(nₑ(η(ρ, T), β(T))) + ⎜──(η(ρ, T))⎟ ⋅─────────(nₚ(η ↪\n",
       "⎜  ⎝∂ρ         ⎠          3                      ⎝∂ρ         ⎠          3      ↪\n",
       "⎝                 ∂η(ρ, T)                                      ∂η(ρ, T)       ↪\n",
       "────────────────────────────────────────────────────────────────────────────── ↪\n",
       "                                                                         ∂     ↪\n",
       "                                                                      ──────── ↪\n",
       "                                                                      ∂η(ρ, T) ↪\n",
       "\n",
       "↪                     2               2                             2          ↪\n",
       "↪                    ∂               ∂                             ∂           ↪\n",
       "↪ (ρ, T), β(T))) - 3⋅───(η(ρ, T))⋅─────────(nₑ(η(ρ, T), β(T))) + 3⋅───(η(ρ, T) ↪\n",
       "↪                      2                  2                          2         ↪\n",
       "↪                    ∂ρ           ∂η(ρ, T)                         ∂ρ          ↪\n",
       "↪ ──────────────────────────────────────────────────────────────────────────── ↪\n",
       "↪                          ∂                                                   ↪\n",
       "↪ (nₑ(η(ρ, T), β(T))) - ────────(nₚ(η(ρ, T), β(T)))                            ↪\n",
       "↪                       ∂η(ρ, T)                                               ↪\n",
       "\n",
       "↪       2                       ⎞            \n",
       "↪      ∂                        ⎟ ∂          \n",
       "↪ )⋅─────────(nₚ(η(ρ, T), β(T)))⎟⋅──(η(ρ, T))\n",
       "↪           2                   ⎟ ∂ρ         \n",
       "↪   ∂η(ρ, T)                    ⎠            \n",
       "↪ ───────────────────────────────────────────\n",
       "↪                                            \n",
       "↪                                            \n",
       "↪                                            "
      ]
     },
     "execution_count": 18,
     "metadata": {},
     "output_type": "execute_result"
    }
   ],
   "source": [
    "lhs_diff = diff(lhs_expr, rho, rho, rho)\n",
    "rhs_diff = diff(rhs_expr, rho, rho, rho)\n",
    "\n",
    "# Solve for ∂³η/∂ρ³\n",
    "d3eta_drho3 = symbols('d3eta_drho3')\n",
    "lhs_diff_sub = lhs_diff.subs(diff(eta, rho, rho, rho), d3eta_drho3)\n",
    "d3eta_drho3_expr = solve(lhs_diff_sub - rhs_diff, d3eta_drho3)[0]\n",
    "\n",
    "simplify(d3eta_drho3_expr)"
   ]
  },
  {
   "cell_type": "markdown",
   "id": "f19c41ea-00ee-49b2-9012-95af6741df4a",
   "metadata": {},
   "source": [
    "## Derivatives of the $n_e$ and $n_p$ with respect to $\\eta$ and $\\beta$"
   ]
  },
  {
   "cell_type": "markdown",
   "id": "15c79ab4-b82f-4bf9-a460-7e8342898095",
   "metadata": {},
   "source": [
    "To evaluate the above derivatives of $\\eta$ and $\\beta$ with respect to $\\rho$ and $T$, we need the derivatives of the number density with respect to $\\eta$ and $\\beta$."
   ]
  },
  {
   "cell_type": "markdown",
   "id": "7deb8db5-c011-4921-befd-2ff547f4b205",
   "metadata": {},
   "source": [
    "First let's define the Fermi functions we'll need (we'll include the 5/2 one we need later too)"
   ]
  },
  {
   "cell_type": "code",
   "execution_count": null,
   "id": "cbfb7276-088b-4175-ae1f-a4ddfaf6cd4e",
   "metadata": {},
   "outputs": [],
   "source": [
    "F12_func = Function(\"F_{1/2}\")(eta_sym, beta_sym)\n",
    "F32_func = Function(\"F_{3/2}\")(eta_sym, beta_sym)\n",
    "F52_func = Function(\"F_{5/2}\")(eta_sym, beta_sym)\n",
    "\n",
    "F12_expr = F12_func.subs({eta_sym: eta, beta_sym: beta})\n",
    "F32_expr = F32_func.subs({eta_sym: eta, beta_sym: beta})\n",
    "F52_expr = F52_func.subs({eta_sym: eta, beta_sym: beta})"
   ]
  },
  {
   "cell_type": "markdown",
   "id": "2497fc61-0410-4c84-b484-25432f024c3b",
   "metadata": {},
   "source": [
    "For positrons, we evaluate these with $\\tilde{\\eta}$"
   ]
  },
  {
   "cell_type": "code",
   "execution_count": null,
   "id": "45c39e82-a368-4e18-875a-ed4709f001af",
   "metadata": {},
   "outputs": [],
   "source": [
    "F12_tilde_expr = F12_func.subs({eta_sym: eta_tilde_expr, beta_sym: beta})\n",
    "F32_tilde_expr = F32_func.subs({eta_sym: eta_tilde_expr, beta_sym: beta})\n",
    "F52_tilde_expr = F52_func.subs({eta_sym: eta_tilde_expr, beta_sym: beta})"
   ]
  },
  {
   "cell_type": "markdown",
   "id": "3a934ebf-f56d-4b9b-8541-5f219b510fa4",
   "metadata": {},
   "source": [
    "### First $n_e$"
   ]
  },
  {
   "cell_type": "markdown",
   "id": "8d325d5d-ef63-4cf9-aa3f-e2b52e9a46e7",
   "metadata": {},
   "source": [
    "now write out what the number densities are"
   ]
  },
  {
   "cell_type": "code",
   "execution_count": null,
   "id": "8deb4072-2e7f-422d-ba05-de9c7248632b",
   "metadata": {},
   "outputs": [],
   "source": [
    "C = symbols(\"C\", constant=True)"
   ]
  },
  {
   "cell_type": "code",
   "execution_count": null,
   "id": "b935c8df-8015-497c-9dfa-93b56ce7dfa8",
   "metadata": {},
   "outputs": [],
   "source": [
    "n_e_full = C * beta**Rational(3,2) * (F12_expr + beta * F32_expr)\n",
    "n_e_full"
   ]
  },
  {
   "cell_type": "markdown",
   "id": "cc169314-b418-4929-ae6b-0aae4d715b40",
   "metadata": {},
   "source": [
    "and we can compute the derivatives of $n_e$"
   ]
  },
  {
   "cell_type": "markdown",
   "id": "89c82066-005d-468d-a14c-e2e7ded40175",
   "metadata": {},
   "source": [
    "$\\partial n_e / \\partial \\eta$"
   ]
  },
  {
   "cell_type": "code",
   "execution_count": null,
   "id": "72fedbd6-fb85-4ee5-ba0d-3c7ee2beeded",
   "metadata": {},
   "outputs": [],
   "source": [
    "dne_deta = diff(n_e_full, eta)\n",
    "dne_deta"
   ]
  },
  {
   "cell_type": "markdown",
   "id": "00effec1-6bcb-4f11-ad6a-447297ad6064",
   "metadata": {},
   "source": [
    "$\\partial n_e / \\partial \\beta$"
   ]
  },
  {
   "cell_type": "code",
   "execution_count": null,
   "id": "6b6dbe34-b48c-474a-a236-c5ec6cc7f04a",
   "metadata": {},
   "outputs": [],
   "source": [
    "dne_dbeta = diff(n_e_full, beta)\n",
    "simplify(dne_dbeta)"
   ]
  },
  {
   "cell_type": "markdown",
   "id": "ef67efc3-7f0f-401d-b76f-d93e11bf548f",
   "metadata": {},
   "source": [
    "### Next, $n_p$"
   ]
  },
  {
   "cell_type": "code",
   "execution_count": null,
   "id": "9cb0af46-7484-4f87-8c35-c55dbedb07d4",
   "metadata": {},
   "outputs": [],
   "source": [
    "n_p_full = C * beta**Rational(3,2) * (F12_tilde_expr + beta * F32_tilde_expr)\n",
    "n_p_full"
   ]
  },
  {
   "cell_type": "markdown",
   "id": "bbf6953a-582a-4f13-ae55-238b696351a1",
   "metadata": {},
   "source": [
    "$\\partial n_p /\\partial \\eta$"
   ]
  },
  {
   "cell_type": "code",
   "execution_count": null,
   "id": "e95d5567-5180-4aad-9bec-600f9de2917e",
   "metadata": {},
   "outputs": [],
   "source": [
    "dnp_deta = diff(n_p_full, eta)\n",
    "dnp_deta"
   ]
  },
  {
   "cell_type": "markdown",
   "id": "22b060e6-0eb0-4ad6-ab84-9835cd5f7940",
   "metadata": {},
   "source": [
    "$\\partial n_p / \\partial \\beta$"
   ]
  },
  {
   "cell_type": "code",
   "execution_count": null,
   "id": "336b6d74-2db2-4d27-88d7-d4a092829099",
   "metadata": {},
   "outputs": [],
   "source": [
    "dnp_dbeta = diff(n_p_full, beta)\n",
    "simplify(dnp_dbeta)"
   ]
  },
  {
   "cell_type": "markdown",
   "id": "559130c1-ccfc-4da2-9f79-569e799f22e0",
   "metadata": {},
   "source": [
    "### Second derivatives"
   ]
  },
  {
   "cell_type": "markdown",
   "id": "0889d846-a5fe-476b-85ee-74b3079dc7c5",
   "metadata": {},
   "source": [
    "$\\partial^2 n_e / \\partial \\eta^2$"
   ]
  },
  {
   "cell_type": "code",
   "execution_count": null,
   "id": "114ea64d-fed1-43fa-82ba-db9701c362d6",
   "metadata": {},
   "outputs": [],
   "source": [
    "d2ne_deta2 = diff(n_e_full, eta, eta)\n",
    "d2ne_deta2"
   ]
  },
  {
   "cell_type": "markdown",
   "id": "0a736fdf-5f4c-4028-8bf6-b04473af199f",
   "metadata": {},
   "source": [
    "$\\partial^2 n_e / \\partial \\eta \\partial\\beta$"
   ]
  },
  {
   "cell_type": "code",
   "execution_count": null,
   "id": "573a7748-a404-4527-937e-d1a4def0cbfe",
   "metadata": {},
   "outputs": [],
   "source": [
    "d2ne_detadbeta = diff(n_e_full, eta, beta)\n",
    "simplify(d2ne_detadbeta)"
   ]
  },
  {
   "cell_type": "markdown",
   "id": "300319c2-ab09-4ef0-94c9-88213d346b0b",
   "metadata": {},
   "source": [
    "$\\partial^2 n_e / \\partial \\beta^2$"
   ]
  },
  {
   "cell_type": "code",
   "execution_count": null,
   "id": "9b9554c4-913c-4ab2-8df4-8b2f6ce9c05d",
   "metadata": {},
   "outputs": [],
   "source": [
    "d2ne_dbeta2 = diff(n_e_full, beta, beta)\n",
    "simplify(d2ne_dbeta2)"
   ]
  },
  {
   "cell_type": "markdown",
   "id": "8b593354-5251-46e6-9bfe-40ef52bfa6dc",
   "metadata": {},
   "source": [
    "$\\partial^2 n_p / \\partial \\eta^2$"
   ]
  },
  {
   "cell_type": "code",
   "execution_count": null,
   "id": "cb8adf65-27ae-4708-b948-1e671e9dae85",
   "metadata": {},
   "outputs": [],
   "source": [
    "d2np_deta2 = diff(n_p_full, eta, eta)\n",
    "d2np_deta2"
   ]
  },
  {
   "cell_type": "markdown",
   "id": "60ecae97-db40-4aca-85c2-31d7e5828a76",
   "metadata": {},
   "source": [
    "$\\partial^2 n_p / \\partial \\eta \\partial\\beta$"
   ]
  },
  {
   "cell_type": "code",
   "execution_count": null,
   "id": "c19cb87c-88c4-45cc-b971-6f9f7abd4f08",
   "metadata": {},
   "outputs": [],
   "source": [
    "d2np_detadbeta = diff(n_p_full, eta, beta)\n",
    "simplify(d2np_detadbeta)"
   ]
  },
  {
   "cell_type": "markdown",
   "id": "a032b2a7-5e80-4fb2-a465-8b3d9a1d45d3",
   "metadata": {},
   "source": [
    "$\\partial^2 n_p / \\partial \\beta^2$"
   ]
  },
  {
   "cell_type": "code",
   "execution_count": null,
   "id": "32d8c658-e118-40c9-b222-f87e94cd0e2d",
   "metadata": {},
   "outputs": [],
   "source": [
    "d2np_dbeta2 = diff(n_p_full, beta, beta)\n",
    "simplify(d2np_dbeta2)"
   ]
  },
  {
   "cell_type": "markdown",
   "id": "a40b9862-bba6-4616-b0a3-2d7e61170a0a",
   "metadata": {},
   "source": [
    "At this point, we can compute $\\partial \\eta/\\partial \\rho$, $\\partial \\eta / \\partial T$, $\\partial^2 \\eta/\\partial \\rho^2$, $\\partial^2 \\eta /\\partial T^2$, and $\\partial^2 \\eta / \\partial \\rho \\partial T$.  And we also know $\\partial \\beta /\\partial T$.  Therefore we have everything we need to compute the first and second derivatives of all the thermodynamic quantities via the chain rule."
   ]
  },
  {
   "cell_type": "markdown",
   "id": "a939ae04-7b10-48e1-a866-ffbe2331ffcf",
   "metadata": {},
   "source": [
    "## Chain Rule"
   ]
  },
  {
   "cell_type": "markdown",
   "id": "9743f7b8-22e0-45ba-ac9b-5c19d741ace0",
   "metadata": {},
   "source": [
    "For any thermodynamic function $f$, we can compute the derivatives of $f$ with respect to $\\rho$ and $T$ through their dependencies in $\\beta$ and $\\eta$.\n",
    "This is how we'll compute the derivatives of $p$, $e$ and $s$ with respect to $\\rho$ and $T$ (including the second derivatives)"
   ]
  },
  {
   "cell_type": "code",
   "execution_count": null,
   "id": "8eae1103-e4bc-465b-be4a-660746490591",
   "metadata": {},
   "outputs": [],
   "source": [
    "f_func = Function('f')(eta_sym, beta_sym)\n",
    "f_expr = f_func.subs({eta_sym: eta, beta_sym: beta})"
   ]
  },
  {
   "cell_type": "markdown",
   "id": "39fe9e76-2cd7-4987-a92d-457a48be28e3",
   "metadata": {},
   "source": [
    "### First derivatives"
   ]
  },
  {
   "cell_type": "markdown",
   "id": "15c4db0e-0c81-4e14-b150-dffef572ed73",
   "metadata": {},
   "source": [
    "$\\partial f/\\partial \\rho$"
   ]
  },
  {
   "cell_type": "code",
   "execution_count": null,
   "id": "e630e712-50a9-4fba-9ef7-e577496e5553",
   "metadata": {},
   "outputs": [],
   "source": [
    "df_drho = diff(f_expr, rho)\n",
    "df_drho"
   ]
  },
  {
   "cell_type": "markdown",
   "id": "d5431449-b2e6-4133-bf66-7a0d191a6388",
   "metadata": {},
   "source": [
    "$\\partial f/\\partial T$"
   ]
  },
  {
   "cell_type": "code",
   "execution_count": null,
   "id": "18cd4ec8-5b0e-4dbc-84df-b79f3209f3d9",
   "metadata": {},
   "outputs": [],
   "source": [
    "df_dT = diff(f_expr, T)\n",
    "df_dT"
   ]
  },
  {
   "cell_type": "markdown",
   "id": "9e84c2ce-b04a-4d6d-9c87-1c055ed1a155",
   "metadata": {},
   "source": [
    "### Second derivatives"
   ]
  },
  {
   "cell_type": "markdown",
   "id": "fdd81256-419e-400b-9087-47e163e52403",
   "metadata": {},
   "source": [
    "$\\partial^2 f / \\partial \\rho^2$"
   ]
  },
  {
   "cell_type": "code",
   "execution_count": null,
   "id": "91a3f977-141e-46f6-a2d7-17c29c061141",
   "metadata": {},
   "outputs": [],
   "source": [
    "d2f_drho2 = diff(f_expr, rho, rho)\n",
    "d2f_drho2"
   ]
  },
  {
   "cell_type": "markdown",
   "id": "b2894d22-26f0-4b73-b8cb-b034c8e074b0",
   "metadata": {},
   "source": [
    "$\\partial^2 f /\\partial T^2$"
   ]
  },
  {
   "cell_type": "code",
   "execution_count": null,
   "id": "047c426e-c570-42f4-be8f-9f53a33bb481",
   "metadata": {},
   "outputs": [],
   "source": [
    "d2f_dT2 = diff(f_expr, T, T)\n",
    "simplify(d2f_dT2.subs(beta, a * T))"
   ]
  },
  {
   "cell_type": "markdown",
   "id": "9e63dd42-d6f2-4bbe-9c34-a2a97f3bd658",
   "metadata": {},
   "source": [
    "$\\partial^2 f /\\partial \\rho \\partial T$"
   ]
  },
  {
   "cell_type": "code",
   "execution_count": null,
   "id": "c31eafce-6f81-4214-9944-4cb5a5671e42",
   "metadata": {
    "scrolled": true
   },
   "outputs": [],
   "source": [
    "d2f_drhodT = diff(f_expr, rho, T)\n",
    "simplify(d2f_drhodT)"
   ]
  },
  {
   "cell_type": "markdown",
   "id": "24cc08f4-3eb8-45bf-858c-7116f7c79056",
   "metadata": {},
   "source": [
    "## Now thermodynamic derivatives"
   ]
  },
  {
   "cell_type": "markdown",
   "id": "85a415fb-5d70-416e-9041-a1114517fab2",
   "metadata": {},
   "source": [
    "We just need the derivatives with respect to $\\eta$ and $\\beta$, so we can apply the chain rule.\n",
    "\n",
    "Note: $E$ here is $\\rho e$, where $e$ is the specific thermal energy."
   ]
  },
  {
   "cell_type": "code",
   "execution_count": null,
   "id": "e28f4b71-213a-47d3-9093-efb1c613be7f",
   "metadata": {},
   "outputs": [],
   "source": [
    "A, B = symbols(\"A B\", constant=True)"
   ]
  },
  {
   "cell_type": "markdown",
   "id": "c81822a7-5899-4589-b9f4-75f7e9358790",
   "metadata": {},
   "source": [
    "### $p_e$"
   ]
  },
  {
   "cell_type": "code",
   "execution_count": null,
   "id": "ff35dc3a-184c-402c-9486-76f6fe8d7ae1",
   "metadata": {},
   "outputs": [],
   "source": [
    "p_e_full = A * beta**Rational(5,2) * (F32_expr + Rational(1, 2) * beta * F52_expr)\n",
    "p_e_full"
   ]
  },
  {
   "cell_type": "markdown",
   "id": "8864916f-3ce4-4043-8658-0058246b6051",
   "metadata": {},
   "source": [
    "$\\partial p_e/\\partial \\eta$"
   ]
  },
  {
   "cell_type": "code",
   "execution_count": null,
   "id": "d2ab5d54-a90e-4d65-b342-932a4a597661",
   "metadata": {},
   "outputs": [],
   "source": [
    "dpe_deta = diff(p_e_full, eta)\n",
    "dpe_deta"
   ]
  },
  {
   "cell_type": "markdown",
   "id": "e158c86d-065b-47a1-9062-0e21527e6e30",
   "metadata": {},
   "source": [
    "$\\partial p_e /\\partial \\beta$"
   ]
  },
  {
   "cell_type": "code",
   "execution_count": null,
   "id": "65060ebb-fb21-4f00-b3c9-4382bd5e7e20",
   "metadata": {},
   "outputs": [],
   "source": [
    "dpe_dbeta = diff(p_e_full, beta)\n",
    "simplify(dpe_dbeta)"
   ]
  },
  {
   "cell_type": "markdown",
   "id": "881e9b7f-869a-4314-b737-7137fc69b19e",
   "metadata": {},
   "source": [
    "$\\partial^2 p_e / \\partial \\eta^2$"
   ]
  },
  {
   "cell_type": "code",
   "execution_count": null,
   "id": "74b92a4f-e938-4ca3-9aa6-d0dec80ce047",
   "metadata": {},
   "outputs": [],
   "source": [
    "d2pe_deta2 = diff(p_e_full, eta, eta)\n",
    "d2pe_deta2"
   ]
  },
  {
   "cell_type": "markdown",
   "id": "72443782-27f8-44aa-98cd-3bdd14bf1f40",
   "metadata": {},
   "source": [
    "$\\partial^2 p_e / \\partial \\beta^2$"
   ]
  },
  {
   "cell_type": "code",
   "execution_count": null,
   "id": "ec4aec6a-e8d4-4e5b-adb3-48fb1a81907a",
   "metadata": {},
   "outputs": [],
   "source": [
    "d2pe_dbeta2 = diff(p_e_full, beta, beta)\n",
    "simplify(d2pe_dbeta2)"
   ]
  },
  {
   "cell_type": "markdown",
   "id": "8990a9e6-f99d-41b4-99e6-8968c8205a62",
   "metadata": {},
   "source": [
    "$\\partial^2 p_e /\\partial \\eta\\partial \\beta$"
   ]
  },
  {
   "cell_type": "code",
   "execution_count": null,
   "id": "f8f4c043-bbc5-487e-a774-514cfaeac422",
   "metadata": {},
   "outputs": [],
   "source": [
    "d2pe_detadbeta = diff(p_e_full, eta, beta)\n",
    "simplify(d2pe_detadbeta)"
   ]
  },
  {
   "cell_type": "markdown",
   "id": "00be3306-dc23-4351-89a2-66d084329a1f",
   "metadata": {},
   "source": [
    "### $E_e$"
   ]
  },
  {
   "cell_type": "code",
   "execution_count": null,
   "id": "64a9aa43-dd0e-42f3-9588-9cc39aa36f90",
   "metadata": {},
   "outputs": [],
   "source": [
    "E_e_full = B * beta**Rational(5,2) * (F32_expr + beta * F52_expr)\n",
    "E_e_full"
   ]
  },
  {
   "cell_type": "markdown",
   "id": "e220b51a-d51f-45c5-b98d-be49da0e6965",
   "metadata": {},
   "source": [
    "$\\partial E_e/\\partial \\eta$"
   ]
  },
  {
   "cell_type": "code",
   "execution_count": null,
   "id": "79509e90-0701-4e16-b92c-9685fadc21ee",
   "metadata": {},
   "outputs": [],
   "source": [
    "dEe_deta = diff(E_e_full, eta)\n",
    "simplify(dEe_deta)"
   ]
  },
  {
   "cell_type": "markdown",
   "id": "ac6030c5-dffb-4c8d-ac6f-dfb54a4f9783",
   "metadata": {},
   "source": [
    "$\\partial E_e / \\partial \\beta$"
   ]
  },
  {
   "cell_type": "code",
   "execution_count": null,
   "id": "543afb7b-0477-4a43-9d7e-3ceb211694b3",
   "metadata": {},
   "outputs": [],
   "source": [
    "dEe_dbeta = diff(E_e_full, beta)\n",
    "simplify(dEe_dbeta)"
   ]
  },
  {
   "cell_type": "markdown",
   "id": "c1b204dd-7922-4221-b42e-81cb43d3f8eb",
   "metadata": {},
   "source": [
    "$\\partial^2 E_e / \\partial \\eta^2$"
   ]
  },
  {
   "cell_type": "code",
   "execution_count": null,
   "id": "fb4ee719-f85b-4c48-ae02-bb8b567c2e7d",
   "metadata": {},
   "outputs": [],
   "source": [
    "d2Ee_deta2 = diff(E_e_full, eta, eta)\n",
    "simplify(d2Ee_deta2)"
   ]
  },
  {
   "cell_type": "markdown",
   "id": "6d0030b0-21db-4bec-bda0-68c2925c42de",
   "metadata": {},
   "source": [
    "$\\partial^2 E_e / \\partial \\beta^2$"
   ]
  },
  {
   "cell_type": "code",
   "execution_count": null,
   "id": "74df176f-969f-43f1-a1cd-e2c7e17b0514",
   "metadata": {},
   "outputs": [],
   "source": [
    "d2Ee_dbeta2 = diff(E_e_full, beta, beta)\n",
    "simplify(d2Ee_dbeta2)"
   ]
  },
  {
   "cell_type": "markdown",
   "id": "a6ee6e00-6e25-404d-9ce3-43bb3371fb74",
   "metadata": {},
   "source": [
    "$\\partial^2 E_e / \\partial \\eta\\partial \\beta$"
   ]
  },
  {
   "cell_type": "code",
   "execution_count": null,
   "id": "bf907069-69d4-41e3-8711-e3af42e9759d",
   "metadata": {},
   "outputs": [],
   "source": [
    "d2Ee_detadbeta = diff(E_e_full, eta, beta)\n",
    "simplify(d2Ee_detadbeta)"
   ]
  },
  {
   "cell_type": "markdown",
   "id": "13d92fad-4dd8-444c-bce5-599109541147",
   "metadata": {},
   "source": [
    "### positrons"
   ]
  },
  {
   "cell_type": "markdown",
   "id": "3177a4ae-8702-47de-982b-c10c38100b7e",
   "metadata": {},
   "source": [
    "### $p_p$"
   ]
  },
  {
   "cell_type": "code",
   "execution_count": null,
   "id": "1fe83350-157d-4044-a042-ff0035ebb026",
   "metadata": {},
   "outputs": [],
   "source": [
    "p_p_full = A * beta**Rational(5,2) * (F32_tilde_expr + Rational(1,2) * beta * F52_tilde_expr)"
   ]
  },
  {
   "cell_type": "code",
   "execution_count": null,
   "id": "5d432617-ffe2-4f79-820d-72d763432b41",
   "metadata": {},
   "outputs": [],
   "source": [
    "dpp_deta = diff(p_p_full, eta)\n",
    "simplify(dpp_deta)"
   ]
  },
  {
   "cell_type": "code",
   "execution_count": null,
   "id": "7bc6f3df-c93c-4d3d-ad3a-2085b7bd7905",
   "metadata": {},
   "outputs": [],
   "source": [
    "dpp_dbeta = diff(p_p_full, beta)\n",
    "simplify(dpp_dbeta)"
   ]
  },
  {
   "cell_type": "markdown",
   "id": "38541def-bb09-4930-bdb6-bf6d88965bf6",
   "metadata": {},
   "source": [
    "### $e_p$"
   ]
  },
  {
   "cell_type": "markdown",
   "id": "8b033940-8cce-4d27-9dea-e766bfa36b20",
   "metadata": {},
   "source": [
    "The full $E_p$ includes the rest mass contribution of the positrons that were created."
   ]
  },
  {
   "cell_type": "code",
   "execution_count": null,
   "id": "64567df4-ff45-42e1-be81-880a0921e207",
   "metadata": {},
   "outputs": [],
   "source": [
    "Erm = symbols(r\"E_{rm}\", constants=True)\n",
    "E_p_full = B * beta**Rational(5,2) * (F32_tilde_expr + beta * F52_tilde_expr) + 2 * Erm * n_p_full\n",
    "E_p_full"
   ]
  },
  {
   "cell_type": "markdown",
   "id": "fb704a5c-485b-4b65-9b0c-67e50e8fda04",
   "metadata": {},
   "source": [
    "We don't need to explicitly differentiate the rest mass term here, since that is just proportional to $n_p$, which we already know the derivatives of.  Therefore, we'll work with just the remaining part."
   ]
  },
  {
   "cell_type": "code",
   "execution_count": null,
   "id": "d126989d-2b55-45f9-8c51-1490e5e665e5",
   "metadata": {},
   "outputs": [],
   "source": [
    "E_p_partial = B * beta**Rational(5,2) * (F32_tilde_expr + beta * F52_tilde_expr)\n",
    "E_p_partial"
   ]
  },
  {
   "cell_type": "markdown",
   "id": "a3a8b069-95f3-4110-a035-afe85add6ad9",
   "metadata": {},
   "source": [
    "$\\partial E_p/\\partial \\eta$"
   ]
  },
  {
   "cell_type": "code",
   "execution_count": null,
   "id": "196de620-f7f7-490d-9658-4e960b501d75",
   "metadata": {},
   "outputs": [],
   "source": [
    "dEp_deta = diff(E_p_partial, eta)\n",
    "simplify(dEp_deta)"
   ]
  },
  {
   "cell_type": "markdown",
   "id": "66bc1485-1b54-44e2-870c-eb6e11d557dd",
   "metadata": {},
   "source": [
    "$\\partial E_p / \\partial \\beta$"
   ]
  },
  {
   "cell_type": "code",
   "execution_count": null,
   "id": "53129320-202c-479b-806d-df49e16d9243",
   "metadata": {},
   "outputs": [],
   "source": [
    "dEp_dbeta = diff(E_p_partial, beta)\n",
    "simplify(dEp_dbeta)"
   ]
  },
  {
   "cell_type": "markdown",
   "id": "bc70e058-b721-4664-b2a8-d701cddc2cec",
   "metadata": {},
   "source": [
    "$\\partial^2 E_p /\\partial \\eta^2$"
   ]
  },
  {
   "cell_type": "code",
   "execution_count": null,
   "id": "7e620fc4-9892-45c4-a302-f181434e6b76",
   "metadata": {},
   "outputs": [],
   "source": [
    "d2Ep_deta2 = diff(E_p_partial, eta, eta)\n",
    "simplify(d2Ep_deta2)"
   ]
  },
  {
   "cell_type": "markdown",
   "id": "e10344b7-29f2-4d76-93ff-36f3691ec526",
   "metadata": {},
   "source": [
    "$\\partial^2 E_p / \\partial \\beta^2$"
   ]
  },
  {
   "cell_type": "code",
   "execution_count": null,
   "id": "1889fa83-9dbe-4c71-9280-9d5157d0e075",
   "metadata": {},
   "outputs": [],
   "source": [
    "d2Ep_dbeta2 = diff(E_p_partial, beta, beta)\n",
    "simplify(d2Ep_dbeta2)"
   ]
  },
  {
   "cell_type": "markdown",
   "id": "39f248bf-e9bc-48ec-bd49-a55dc04873dd",
   "metadata": {},
   "source": [
    "$\\partial^2 E_p / \\partial \\eta \\partial \\beta$"
   ]
  },
  {
   "cell_type": "code",
   "execution_count": null,
   "id": "a74d7ce4-cfd5-48f8-9447-cb1a752e7acb",
   "metadata": {},
   "outputs": [],
   "source": [
    "d2Ep_detadbeta = diff(E_p_partial, eta, beta)\n",
    "simplify(d2Ep_detadbeta)"
   ]
  },
  {
   "cell_type": "markdown",
   "id": "7cca0cca-d89f-429d-b662-16d73ebda711",
   "metadata": {},
   "source": [
    "## Alternate approach"
   ]
  },
  {
   "cell_type": "markdown",
   "id": "ea790c2e-fb27-432b-a182-dd930a5c500e",
   "metadata": {},
   "source": [
    "We could have SymPy do the chain rule for us itself, e.g., compute $\\partial p_e / \\partial \\rho |_T$ directly as:"
   ]
  },
  {
   "cell_type": "code",
   "execution_count": null,
   "id": "1e9f0a81-c344-4e5a-8a78-e0c072b70181",
   "metadata": {},
   "outputs": [],
   "source": [
    "dpe_drho = diff(p_e_full, rho)\n",
    "dpe_drho"
   ]
  },
  {
   "cell_type": "markdown",
   "id": "1f7fe71d-1933-4940-a530-e0b69e7c2b31",
   "metadata": {},
   "source": [
    "but these expressions start to get very complex (see below), and it is easier to just build the terms that go into the chainrule separately, as above."
   ]
  },
  {
   "cell_type": "code",
   "execution_count": null,
   "id": "ceb80a0a-1289-489c-979a-5a5aaac362fd",
   "metadata": {},
   "outputs": [],
   "source": [
    "dpe_dT = diff(p_e_full, T)\n",
    "simplify(dpe_dT)"
   ]
  },
  {
   "cell_type": "markdown",
   "id": "7fa7fb8d-693f-47e6-b5ef-e5d1fe0b9311",
   "metadata": {},
   "source": [
    "## Generic approach"
   ]
  },
  {
   "cell_type": "markdown",
   "id": "9a6da0ba-557f-42b2-bb0d-acafea71f95b",
   "metadata": {},
   "source": [
    "All of the thermodynamic quantities are functions that look like:\n",
    "\n",
    "$$q = A \\beta^{p/2} (F_x(\\eta,\\beta) + c \\beta F_y(\\eta, \\beta))$$\n",
    "\n",
    "for electrons and \n",
    "\n",
    "$$w = A \\beta^{p/2} (F_x(\\tilde{\\eta}, \\beta) + c \\beta F_y(\\tilde{\\eta}, \\beta))$$\n",
    "\n",
    "for positrons,\n",
    "where $A$ is a constant, $p$ is an integer ($>0$), and $c$ is a constant, and $F_x$ and $F_y$ are Fermi integrals of different indices."
   ]
  },
  {
   "cell_type": "code",
   "execution_count": 21,
   "id": "8bed1c77-5e16-42b8-9791-d9bb7fdb8c40",
   "metadata": {},
   "outputs": [],
   "source": [
    "Fx_func = Function(\"F_x\")(eta_sym, beta_sym)\n",
    "Fy_func = Function(\"F_y\")(eta_sym, beta_sym)\n",
    "\n",
    "\n",
    "Fx_expr = Fx_func.subs({eta_sym: eta, beta_sym: beta})\n",
    "Fy_expr = Fy_func.subs({eta_sym: eta, beta_sym: beta})\n",
    "\n",
    "Fx_tilde_expr = Fx_func.subs({eta_sym: eta_tilde_expr, beta_sym: beta})\n",
    "Fy_tilde_expr = Fy_func.subs({eta_sym: eta_tilde_expr, beta_sym: beta})"
   ]
  },
  {
   "cell_type": "code",
   "execution_count": 22,
   "id": "f49c2477-7b1e-4ada-aeb0-e1e8e9ba48e2",
   "metadata": {},
   "outputs": [],
   "source": [
    "p = symbols(\"p\", integer=True, positive=True)\n",
    "c = symbols(\"c\", real=True, positive=True)"
   ]
  },
  {
   "cell_type": "markdown",
   "id": "b6aaa6a0-a623-4294-9cbc-7b2ce3516555",
   "metadata": {},
   "source": [
    "### electrons"
   ]
  },
  {
   "cell_type": "code",
   "execution_count": 23,
   "id": "a0ce4a4c-c0b3-474f-adad-59864c3051cf",
   "metadata": {},
   "outputs": [
    {
     "data": {
      "image/png": "[encoded data removed]",
      "text/latex": [
       "$\\displaystyle A \\left(c F_{y}{\\left(\\eta{\\left(\\rho,T \\right)},\\beta{\\left(T \\right)} \\right)} \\beta{\\left(T \\right)} + F_{x}{\\left(\\eta{\\left(\\rho,T \\right)},\\beta{\\left(T \\right)} \\right)}\\right) \\beta^{\\frac{p}{2}}{\\left(T \\right)}$"
      ],
      "text/plain": [
       "                                                        p\n",
       "                                                        ─\n",
       "                                                        2\n",
       "A⋅(c⋅F_y(η(ρ, T), β(T))⋅β(T) + Fₓ(η(ρ, T), β(T)))⋅(β(T)) "
      ]
     },
     "execution_count": 23,
     "metadata": {},
     "output_type": "execute_result"
    }
   ],
   "source": [
    "q_full = A * beta**(p/2) * (Fx_expr + c * beta * Fy_expr)\n",
    "q_full"
   ]
  },
  {
   "cell_type": "markdown",
   "id": "89623995-c3f3-4022-8aef-5667b3f16826",
   "metadata": {},
   "source": [
    "$\\partial q / \\partial \\eta$"
   ]
  },
  {
   "cell_type": "code",
   "execution_count": 24,
   "id": "3168891d-635f-4143-8abe-081491daf5fe",
   "metadata": {},
   "outputs": [
    {
     "data": {
      "image/png": "[encoded data removed]",
      "text/latex": [
       "$\\displaystyle A \\left(c \\beta{\\left(T \\right)} \\frac{\\partial}{\\partial \\eta{\\left(\\rho,T \\right)}} F_{y}{\\left(\\eta{\\left(\\rho,T \\right)},\\beta{\\left(T \\right)} \\right)} + \\frac{\\partial}{\\partial \\eta{\\left(\\rho,T \\right)}} F_{x}{\\left(\\eta{\\left(\\rho,T \\right)},\\beta{\\left(T \\right)} \\right)}\\right) \\beta^{\\frac{p}{2}}{\\left(T \\right)}$"
      ],
      "text/plain": [
       "                                                                            p\n",
       "                                                                            ─\n",
       "  ⎛          ∂                              ∂                       ⎞       2\n",
       "A⋅⎜c⋅β(T)⋅────────(F_y(η(ρ, T), β(T))) + ────────(Fₓ(η(ρ, T), β(T)))⎟⋅(β(T)) \n",
       "  ⎝       ∂η(ρ, T)                       ∂η(ρ, T)                   ⎠        "
      ]
     },
     "execution_count": 24,
     "metadata": {},
     "output_type": "execute_result"
    }
   ],
   "source": [
    "dqdeta = diff(q_full, eta)\n",
    "dqdeta"
   ]
  },
  {
   "cell_type": "markdown",
   "id": "a36b2b39-70a4-4e06-a617-b6d937f93537",
   "metadata": {},
   "source": [
    "$\\partial q/\\partial \\beta$"
   ]
  },
  {
   "cell_type": "code",
   "execution_count": 25,
   "id": "53a9ea83-a547-4451-8c20-117911b69af4",
   "metadata": {},
   "outputs": [
    {
     "data": {
      "image/png": "[encoded data removed]",
      "text/latex": [
       "$\\displaystyle \\frac{A p \\left(c F_{y}{\\left(\\eta{\\left(\\rho,T \\right)},\\beta{\\left(T \\right)} \\right)} \\beta{\\left(T \\right)} + F_{x}{\\left(\\eta{\\left(\\rho,T \\right)},\\beta{\\left(T \\right)} \\right)}\\right) \\beta^{\\frac{p}{2}}{\\left(T \\right)}}{2 \\beta{\\left(T \\right)}} + A \\left(c F_{y}{\\left(\\eta{\\left(\\rho,T \\right)},\\beta{\\left(T \\right)} \\right)} + c \\beta{\\left(T \\right)} \\frac{\\partial}{\\partial \\beta{\\left(T \\right)}} F_{y}{\\left(\\eta{\\left(\\rho,T \\right)},\\beta{\\left(T \\right)} \\right)} + \\frac{\\partial}{\\partial \\beta{\\left(T \\right)}} F_{x}{\\left(\\eta{\\left(\\rho,T \\right)},\\beta{\\left(T \\right)} \\right)}\\right) \\beta^{\\frac{p}{2}}{\\left(T \\right)}$"
      ],
      "text/plain": [
       "                                                          p                    ↪\n",
       "                                                          ─                    ↪\n",
       "                                                          2                    ↪\n",
       "A⋅p⋅(c⋅F_y(η(ρ, T), β(T))⋅β(T) + Fₓ(η(ρ, T), β(T)))⋅(β(T))      ⎛              ↪\n",
       "─────────────────────────────────────────────────────────── + A⋅⎜c⋅F_y(η(ρ, T) ↪\n",
       "                          2⋅β(T)                                ⎝              ↪\n",
       "\n",
       "↪                                                                              ↪\n",
       "↪                                                                              ↪\n",
       "↪                                                                              ↪\n",
       "↪                    ∂                           ∂                     ⎞       ↪\n",
       "↪ , β(T)) + c⋅β(T)⋅─────(F_y(η(ρ, T), β(T))) + ─────(Fₓ(η(ρ, T), β(T)))⎟⋅(β(T) ↪\n",
       "↪                  ∂β(T)                       ∂β(T)                   ⎠       ↪\n",
       "\n",
       "↪   \n",
       "↪  p\n",
       "↪  ─\n",
       "↪  2\n",
       "↪ ) \n",
       "↪   "
      ]
     },
     "execution_count": 25,
     "metadata": {},
     "output_type": "execute_result"
    }
   ],
   "source": [
    "dqdbeta = diff(q_full, beta)\n",
    "dqdbeta"
   ]
  },
  {
   "cell_type": "markdown",
   "id": "de79487e-870b-48e0-90ad-bdf5422b1ea1",
   "metadata": {},
   "source": [
    "$\\partial^2 q /\\partial \\eta^2$"
   ]
  },
  {
   "cell_type": "code",
   "execution_count": 26,
   "id": "4576b476-12c2-4297-99ba-923f6705dc5d",
   "metadata": {},
   "outputs": [
    {
     "data": {
      "image/png": "[encoded data removed]",
      "text/latex": [
       "$\\displaystyle A \\left(c \\beta{\\left(T \\right)} \\frac{\\partial^{2}}{\\partial \\eta{\\left(\\rho,T \\right)}^{2}} F_{y}{\\left(\\eta{\\left(\\rho,T \\right)},\\beta{\\left(T \\right)} \\right)} + \\frac{\\partial^{2}}{\\partial \\eta{\\left(\\rho,T \\right)}^{2}} F_{x}{\\left(\\eta{\\left(\\rho,T \\right)},\\beta{\\left(T \\right)} \\right)}\\right) \\beta^{\\frac{p}{2}}{\\left(T \\right)}$"
      ],
      "text/plain": [
       "                                                                              p\n",
       "  ⎛           2                               2                       ⎞       ─\n",
       "  ⎜          ∂                               ∂                        ⎟       2\n",
       "A⋅⎜c⋅β(T)⋅─────────(F_y(η(ρ, T), β(T))) + ─────────(Fₓ(η(ρ, T), β(T)))⎟⋅(β(T)) \n",
       "  ⎜               2                               2                   ⎟        \n",
       "  ⎝       ∂η(ρ, T)                        ∂η(ρ, T)                    ⎠        "
      ]
     },
     "execution_count": 26,
     "metadata": {},
     "output_type": "execute_result"
    }
   ],
   "source": [
    "d2qdeta2 = diff(q_full, eta, eta)\n",
    "d2qdeta2"
   ]
  },
  {
   "cell_type": "markdown",
   "id": "bac193b3-3b80-49a4-86be-785ed429eb8a",
   "metadata": {},
   "source": [
    "$\\partial^2 q/\\partial \\beta^2$"
   ]
  },
  {
   "cell_type": "code",
   "execution_count": 27,
   "id": "4ddfc3b3-3318-49ba-9476-b7dc4429a4c4",
   "metadata": {},
   "outputs": [
    {
     "data": {
      "image/png": "[encoded data removed]",
      "text/latex": [
       "$\\displaystyle A \\left(c \\beta{\\left(T \\right)} \\frac{\\partial^{2}}{\\partial \\beta{\\left(T \\right)}^{2}} F_{y}{\\left(\\eta{\\left(\\rho,T \\right)},\\beta{\\left(T \\right)} \\right)} + 2 c \\frac{\\partial}{\\partial \\beta{\\left(T \\right)}} F_{y}{\\left(\\eta{\\left(\\rho,T \\right)},\\beta{\\left(T \\right)} \\right)} + \\frac{p \\left(p - 2\\right) \\left(c F_{y}{\\left(\\eta{\\left(\\rho,T \\right)},\\beta{\\left(T \\right)} \\right)} \\beta{\\left(T \\right)} + F_{x}{\\left(\\eta{\\left(\\rho,T \\right)},\\beta{\\left(T \\right)} \\right)}\\right)}{4 \\beta^{2}{\\left(T \\right)}} + \\frac{p \\left(c F_{y}{\\left(\\eta{\\left(\\rho,T \\right)},\\beta{\\left(T \\right)} \\right)} + c \\beta{\\left(T \\right)} \\frac{\\partial}{\\partial \\beta{\\left(T \\right)}} F_{y}{\\left(\\eta{\\left(\\rho,T \\right)},\\beta{\\left(T \\right)} \\right)} + \\frac{\\partial}{\\partial \\beta{\\left(T \\right)}} F_{x}{\\left(\\eta{\\left(\\rho,T \\right)},\\beta{\\left(T \\right)} \\right)}\\right)}{\\beta{\\left(T \\right)}} + \\frac{\\partial^{2}}{\\partial \\beta{\\left(T \\right)}^{2}} F_{x}{\\left(\\eta{\\left(\\rho,T \\right)},\\beta{\\left(T \\right)} \\right)}\\right) \\beta^{\\frac{p}{2}}{\\left(T \\right)}$"
      ],
      "text/plain": [
       "  ⎛                                                                            ↪\n",
       "  ⎜          2                                                                 ↪\n",
       "  ⎜         ∂                                ∂                         p⋅(p -  ↪\n",
       "A⋅⎜c⋅β(T)⋅──────(F_y(η(ρ, T), β(T))) + 2⋅c⋅─────(F_y(η(ρ, T), β(T))) + ─────── ↪\n",
       "  ⎜            2                           ∂β(T)                               ↪\n",
       "  ⎝       ∂β(T)                                                                ↪\n",
       "\n",
       "↪                                                        ⎛                     ↪\n",
       "↪                                                      p⋅⎜c⋅F_y(η(ρ, T), β(T)) ↪\n",
       "↪ 2)⋅(c⋅F_y(η(ρ, T), β(T))⋅β(T) + Fₓ(η(ρ, T), β(T)))     ⎝                     ↪\n",
       "↪ ────────────────────────────────────────────────── + ─────────────────────── ↪\n",
       "↪                      2                                                       ↪\n",
       "↪                   4⋅β (T)                                                    ↪\n",
       "\n",
       "↪             ∂                           ∂                     ⎞              ↪\n",
       "↪  + c⋅β(T)⋅─────(F_y(η(ρ, T), β(T))) + ─────(Fₓ(η(ρ, T), β(T)))⎟      2       ↪\n",
       "↪           ∂β(T)                       ∂β(T)                   ⎠     ∂        ↪\n",
       "↪ ─────────────────────────────────────────────────────────────── + ──────(Fₓ( ↪\n",
       "↪                   β(T)                                                 2     ↪\n",
       "↪                                                                   ∂β(T)      ↪\n",
       "\n",
       "↪                ⎞       p\n",
       "↪                ⎟       ─\n",
       "↪                ⎟       2\n",
       "↪ η(ρ, T), β(T)))⎟⋅(β(T)) \n",
       "↪                ⎟        \n",
       "↪                ⎠        "
      ]
     },
     "execution_count": 27,
     "metadata": {},
     "output_type": "execute_result"
    }
   ],
   "source": [
    "d2qdbeta2 = diff(q_full, beta, beta)\n",
    "d2qdbeta2"
   ]
  },
  {
   "cell_type": "markdown",
   "id": "64d99439-7e18-43c1-95db-96fd9cfefbde",
   "metadata": {},
   "source": [
    "$\\partial^2 q / \\partial \\eta \\partial \\beta$"
   ]
  },
  {
   "cell_type": "code",
   "execution_count": 28,
   "id": "bb87cd22-68e6-4cc9-b951-d2090b1f0e28",
   "metadata": {
    "scrolled": true
   },
   "outputs": [
    {
     "data": {
      "image/png": "[encoded data removed]",
      "text/latex": [
       "$\\displaystyle A \\left(c \\beta{\\left(T \\right)} \\frac{\\partial^{2}}{\\partial \\eta{\\left(\\rho,T \\right)}\\partial \\beta{\\left(T \\right)}} F_{y}{\\left(\\eta{\\left(\\rho,T \\right)},\\beta{\\left(T \\right)} \\right)} + c \\frac{\\partial}{\\partial \\eta{\\left(\\rho,T \\right)}} F_{y}{\\left(\\eta{\\left(\\rho,T \\right)},\\beta{\\left(T \\right)} \\right)} + \\frac{p \\left(c \\beta{\\left(T \\right)} \\frac{\\partial}{\\partial \\eta{\\left(\\rho,T \\right)}} F_{y}{\\left(\\eta{\\left(\\rho,T \\right)},\\beta{\\left(T \\right)} \\right)} + \\frac{\\partial}{\\partial \\eta{\\left(\\rho,T \\right)}} F_{x}{\\left(\\eta{\\left(\\rho,T \\right)},\\beta{\\left(T \\right)} \\right)}\\right)}{2 \\beta{\\left(T \\right)}} + \\frac{\\partial^{2}}{\\partial \\eta{\\left(\\rho,T \\right)}\\partial \\beta{\\left(T \\right)}} F_{x}{\\left(\\eta{\\left(\\rho,T \\right)},\\beta{\\left(T \\right)} \\right)}\\right) \\beta^{\\frac{p}{2}}{\\left(T \\right)}$"
      ],
      "text/plain": [
       "  ⎛                                                                            ↪\n",
       "  ⎜              2                                                             ↪\n",
       "  ⎜             ∂                                   ∂                          ↪\n",
       "A⋅⎜c⋅β(T)⋅──────────────(F_y(η(ρ, T), β(T))) + c⋅────────(F_y(η(ρ, T), β(T)))  ↪\n",
       "  ⎝       ∂η(ρ, T) ∂β(T)                         ∂η(ρ, T)                      ↪\n",
       "\n",
       "↪     ⎛          ∂                              ∂                       ⎞      ↪\n",
       "↪   p⋅⎜c⋅β(T)⋅────────(F_y(η(ρ, T), β(T))) + ────────(Fₓ(η(ρ, T), β(T)))⎟      ↪\n",
       "↪     ⎝       ∂η(ρ, T)                       ∂η(ρ, T)                   ⎠      ↪\n",
       "↪ + ───────────────────────────────────────────────────────────────────── + ── ↪\n",
       "↪                                  2⋅β(T)                                   ∂η ↪\n",
       "\n",
       "↪                                ⎞       p\n",
       "↪      2                         ⎟       ─\n",
       "↪     ∂                          ⎟       2\n",
       "↪ ────────────(Fₓ(η(ρ, T), β(T)))⎟⋅(β(T)) \n",
       "↪ (ρ, T) ∂β(T)                   ⎠        "
      ]
     },
     "execution_count": 28,
     "metadata": {},
     "output_type": "execute_result"
    }
   ],
   "source": [
    "d2qdetadbeta = diff(q_full, eta, beta)\n",
    "d2qdetadbeta"
   ]
  },
  {
   "cell_type": "code",
   "execution_count": null,
   "id": "cab59daf-86f8-4898-93f3-40f8e82703df",
   "metadata": {},
   "outputs": [],
   "source": []
  },
  {
   "cell_type": "markdown",
   "id": "0778ec0c-1134-4a79-9c85-a132258a6c66",
   "metadata": {},
   "source": [
    "### positrons"
   ]
  },
  {
   "cell_type": "code",
   "execution_count": null,
   "id": "e15b7bf2-5de5-4b7f-8f6c-44a69bd11347",
   "metadata": {},
   "outputs": [],
   "source": [
    "w_full = A * beta**(p/2) * (Fx_tilde_expr + c * beta * Fy_tilde_expr)\n",
    "w_full"
   ]
  },
  {
   "cell_type": "markdown",
   "id": "acc9bbbb-1611-427d-aee4-67c8b14cd5ac",
   "metadata": {},
   "source": [
    "$\\partial w / \\partial \\eta$"
   ]
  },
  {
   "cell_type": "code",
   "execution_count": null,
   "id": "df0004e6-9fcc-4b4e-bc3a-050434eb3944",
   "metadata": {},
   "outputs": [],
   "source": [
    "dwdeta = diff(w_full, eta)\n",
    "dwdeta"
   ]
  },
  {
   "cell_type": "markdown",
   "id": "9d53de8e-e35c-411b-ae5a-877ff9c3a456",
   "metadata": {},
   "source": [
    "$\\partial w/\\partial \\beta$"
   ]
  },
  {
   "cell_type": "code",
   "execution_count": null,
   "id": "b63a2771-7c2e-4000-992d-55081961c43c",
   "metadata": {},
   "outputs": [],
   "source": [
    "dwdbeta = diff(w_full, beta)\n",
    "simplify(dwdbeta)"
   ]
  },
  {
   "cell_type": "markdown",
   "id": "36cae3a2-b254-4a6d-9472-e72b2c061bd6",
   "metadata": {},
   "source": [
    "$\\partial^2 w /\\partial \\eta^2$"
   ]
  },
  {
   "cell_type": "code",
   "execution_count": null,
   "id": "573c4134-14d2-47c6-9adf-f36e9a910e52",
   "metadata": {},
   "outputs": [],
   "source": [
    "d2wdeta2 = diff(w_full, eta, eta)\n",
    "d2wdeta2"
   ]
  },
  {
   "cell_type": "markdown",
   "id": "738f8f10-a1d5-43d0-8662-0e250592766c",
   "metadata": {},
   "source": [
    "$\\partial^2 w/\\partial \\beta^2$"
   ]
  },
  {
   "cell_type": "code",
   "execution_count": null,
   "id": "a398e676-90b5-4208-bc27-38060933c668",
   "metadata": {},
   "outputs": [],
   "source": [
    "d2wdbeta2 = diff(w_full, beta, beta)\n",
    "simplify(d2wdbeta2)"
   ]
  },
  {
   "cell_type": "markdown",
   "id": "e45ca1d3-4361-4da7-9a98-ed0713429aa5",
   "metadata": {},
   "source": [
    "$\\partial^2 w / \\partial \\eta \\partial \\beta$"
   ]
  },
  {
   "cell_type": "code",
   "execution_count": null,
   "id": "6b2198d0-a04c-47b0-926c-d64e682654ba",
   "metadata": {
    "scrolled": true
   },
   "outputs": [],
   "source": [
    "dwqdetadbeta = diff(w_full, eta, beta)\n",
    "dwqdetadbeta"
   ]
  },
  {
   "cell_type": "markdown",
   "id": "9ecf5c10-1287-4e19-828b-bcb7311dbc2a",
   "metadata": {},
   "source": [
    "## Entropy"
   ]
  },
  {
   "cell_type": "markdown",
   "id": "8e891c2b-bbcd-4dc7-acf5-c86046f6c460",
   "metadata": {},
   "source": [
    "The general expression for specific entropy is\n",
    "\n",
    "$$s_e = \\frac{1}{T} \\left (e_e + \\frac{p_e}{\\rho} \\right ) - \\frac{n_e k \\eta}{\\rho}$$ \n",
    "\n",
    "or using specific enthalpy, $h = e + p /\\rho$,\n",
    "\n",
    "$$s_e = \\frac{h}{T}  - \\frac{n_e k \\eta}{\\rho}$$ \n",
    "\n",
    "and for positrons, it is:\n",
    "\n",
    "$$s_p = \\frac{1}{T} \\left (e_p + \\frac{p_p}{\\rho} \\right ) + \\frac{n_p k \\eta}{\\rho}$$ \n",
    "\n",
    "where we used $\\eta_p = -\\eta$ for positrons."
   ]
  },
  {
   "cell_type": "code",
   "execution_count": null,
   "id": "bc7aa406-673d-4ad4-bdc1-6914d21a4e20",
   "metadata": {},
   "outputs": [],
   "source": [
    "e = Function(\"e\")(rho, T)\n",
    "p = Function(\"p\")(rho, T)\n",
    "n_e = Function(\"n_e\")(rho, T)\n",
    "k = symbols(\"k\", constant=True)\n",
    "h = Function(\"h\")(rho, T)"
   ]
  },
  {
   "cell_type": "markdown",
   "id": "f4c4ffa8-44da-4b98-974d-50256e438ad4",
   "metadata": {},
   "source": [
    "First create the entropy (for electrons)"
   ]
  },
  {
   "cell_type": "code",
   "execution_count": null,
   "id": "baa25659-bb34-476d-896e-cbdc3368a2d5",
   "metadata": {},
   "outputs": [],
   "source": [
    "s = h / T - n_e * k * eta / rho\n",
    "s"
   ]
  },
  {
   "cell_type": "markdown",
   "id": "ec77c8f5-fa21-45af-98ef-3e038485d8ad",
   "metadata": {},
   "source": [
    "$\\partial s_e / \\partial \\rho$"
   ]
  },
  {
   "cell_type": "code",
   "execution_count": null,
   "id": "625aa0ce-3324-42f4-9be4-1a8c5ea80ce0",
   "metadata": {},
   "outputs": [],
   "source": [
    "dsdrho = diff(s, rho)\n",
    "simplify(dsdrho)"
   ]
  },
  {
   "cell_type": "markdown",
   "id": "30910815-66c8-4414-9177-e7b3edde64fd",
   "metadata": {},
   "source": [
    "$\\partial s_e / \\partial T$"
   ]
  },
  {
   "cell_type": "code",
   "execution_count": null,
   "id": "53830d1f-24a1-4256-87e1-7ec70bf40363",
   "metadata": {},
   "outputs": [],
   "source": [
    "dsdT = diff(s, T)\n",
    "simplify(dsdT)"
   ]
  },
  {
   "cell_type": "markdown",
   "id": "a4f67e14-bb92-48bc-af20-503fc59e5094",
   "metadata": {},
   "source": [
    "$\\partial^2 s_e / \\partial \\rho^2$"
   ]
  },
  {
   "cell_type": "code",
   "execution_count": null,
   "id": "8ebe4fe7-84eb-478c-be41-f88aceaf8174",
   "metadata": {},
   "outputs": [],
   "source": [
    "d2sdrho2 = diff(s, rho, rho)\n",
    "simplify(d2sdrho2)"
   ]
  },
  {
   "cell_type": "markdown",
   "id": "443bd553-a0da-4348-ada3-13285773f228",
   "metadata": {},
   "source": [
    "$\\partial^2 s_e / \\partial T^2$"
   ]
  },
  {
   "cell_type": "code",
   "execution_count": null,
   "id": "93fd9e04-bffd-4269-8b67-4f77f25df62b",
   "metadata": {},
   "outputs": [],
   "source": [
    "d2sdT2 = diff(s, T, T)\n",
    "simplify(d2sdT2)"
   ]
  },
  {
   "cell_type": "markdown",
   "id": "b680dd24-054d-4388-b47b-5d92a39687a1",
   "metadata": {},
   "source": [
    "$\\partial^2 s_e / \\partial \\rho \\partial T$"
   ]
  },
  {
   "cell_type": "code",
   "execution_count": null,
   "id": "b29b0d51-a488-4d50-92c9-62b0bd9d4bb9",
   "metadata": {},
   "outputs": [],
   "source": [
    "d2sdrhodT = diff(s, rho, T)\n",
    "simplify(d2sdrhodT)"
   ]
  },
  {
   "cell_type": "markdown",
   "id": "52971d18-e797-435d-8c44-d9f3c551a0e8",
   "metadata": {},
   "source": [
    "Now the derivatives of enthalpy"
   ]
  },
  {
   "cell_type": "code",
   "execution_count": null,
   "id": "48eebac8-53bc-4472-bed3-0a82b34c33ed",
   "metadata": {},
   "outputs": [],
   "source": [
    "h = e + p / rho"
   ]
  },
  {
   "cell_type": "code",
   "execution_count": null,
   "id": "64cef316-97b2-4df4-976f-e15567224014",
   "metadata": {},
   "outputs": [],
   "source": [
    "diff(h, rho)"
   ]
  },
  {
   "cell_type": "code",
   "execution_count": null,
   "id": "6d8b8c2e-6991-4eea-82e9-d18b87f762b7",
   "metadata": {},
   "outputs": [],
   "source": [
    "diff(h, T)"
   ]
  },
  {
   "cell_type": "code",
   "execution_count": null,
   "id": "7d2a1312-982a-4bff-a9d7-dbfdc0b019df",
   "metadata": {},
   "outputs": [],
   "source": [
    "diff(h, rho, rho)"
   ]
  },
  {
   "cell_type": "code",
   "execution_count": null,
   "id": "9f06b02c-b764-42d3-ae84-aba1b772737f",
   "metadata": {},
   "outputs": [],
   "source": [
    "diff(h, T, T)"
   ]
  },
  {
   "cell_type": "code",
   "execution_count": null,
   "id": "49127036-7cbb-4ce6-aa94-b0ddfb502d03",
   "metadata": {},
   "outputs": [],
   "source": [
    "diff(h, rho, T)"
   ]
  },
  {
   "cell_type": "markdown",
   "id": "dc0969dc-5503-464f-b5be-35d63fe16d0e",
   "metadata": {},
   "source": [
    "The positron terms are the same form, just with $\\eta \\rightarrow -\\eta$"
   ]
  },
  {
   "cell_type": "markdown",
   "id": "60fd19fd-07eb-42c3-863c-18e529c1c8f3",
   "metadata": {},
   "source": [
    "## Helmholtz free energy"
   ]
  },
  {
   "cell_type": "markdown",
   "id": "125a6fb1-f21a-4f32-8fc4-a4bb372e225c",
   "metadata": {},
   "source": [
    "We define the Helmholtz free energy as:\n",
    "\n",
    "$$F = e - T s$$\n",
    "\n",
    "For the interpolation scheme in Timmes & Swesty (2000), we need the following partial derivatives:\n",
    "$\\partial F/\\partial T$, $\\partial F/\\partial \\rho$, $\\partial^2 F/\\partial T^2$, $\\partial^2 F/\\partial \\rho^2$, $\\partial^2 F/\\partial \\rho\\partial T$, $\\partial^3 F / \\partial \\rho \\partial T^2$, $\\partial^3 F /\\partial \\rho^2 \\partial T$, and $\\partial^4 F/\\partial T^2\\partial \\rho^2$"
   ]
  },
  {
   "cell_type": "code",
   "execution_count": null,
   "id": "a8354c32-9f0a-4647-953f-f56d53397414",
   "metadata": {},
   "outputs": [],
   "source": [
    "s = Function(\"s\")(rho, T)"
   ]
  },
  {
   "cell_type": "code",
   "execution_count": null,
   "id": "e63d4ec1-b6ea-4076-bd8e-d7832c490e6d",
   "metadata": {},
   "outputs": [],
   "source": [
    "F = e - T * s\n",
    "F"
   ]
  },
  {
   "cell_type": "markdown",
   "id": "5b4cd41b-5031-4e47-84b3-078b4cb0e3ac",
   "metadata": {},
   "source": [
    "$\\partial F/\\partial T$"
   ]
  },
  {
   "cell_type": "code",
   "execution_count": null,
   "id": "06b2e6bd-a53e-4a77-953b-3e47935cfa03",
   "metadata": {},
   "outputs": [],
   "source": [
    "dFdT = diff(F, T)\n",
    "dFdT"
   ]
  },
  {
   "cell_type": "code",
   "execution_count": null,
   "id": "cfc68344-3199-4111-bd05-cd00a17889f1",
   "metadata": {},
   "outputs": [],
   "source": []
  }
 ],
 "metadata": {
  "kernelspec": {
   "display_name": "Python 3 (ipykernel)",
   "language": "python",
   "name": "python3"
  },
  "language_info": {
   "codemirror_mode": {
    "name": "ipython",
    "version": 3
   },
   "file_extension": ".py",
   "mimetype": "text/x-python",
   "name": "python",
   "nbconvert_exporter": "python",
   "pygments_lexer": "ipython3",
   "version": "3.13.5"
  }
 },
 "nbformat": 4,
 "nbformat_minor": 5
}
